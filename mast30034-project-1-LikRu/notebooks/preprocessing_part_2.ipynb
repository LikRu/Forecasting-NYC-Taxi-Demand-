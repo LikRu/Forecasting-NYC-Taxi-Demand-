{
 "cells": [
  {
   "cell_type": "code",
   "execution_count": 96,
   "metadata": {},
   "outputs": [],
   "source": [
    "from pyspark.sql import SparkSession, functions as F\n",
    "from pyspark.sql.functions import substring\n",
    "\n",
    "# Create a spark session (which will run spark jobs)\n",
    "spark = (\n",
    "    SparkSession.builder.appName(\"MAST30034 Tutorial 2\")\n",
    "    .config(\"spark.sql.repl.eagerEval.enabled\", True)\n",
    "    .config(\"spark.sql.parquet.cacheMetadata\", \"true\")\n",
    "    .config(\"spark.sql.session.timeZone\", \"Etc/UTC\")\n",
    "    .config('spark.driver.memory', '4g')\n",
    "    .config('spark.executor.memory', '2g')\n",
    "    .getOrCreate()\n",
    ")"
   ]
  },
  {
   "cell_type": "markdown",
   "metadata": {},
   "source": [
    "# Preprocess Weather Data"
   ]
  },
  {
   "cell_type": "code",
   "execution_count": 97,
   "metadata": {},
   "outputs": [
    {
     "name": "stderr",
     "output_type": "stream",
     "text": [
      "                                                                                \r"
     ]
    }
   ],
   "source": [
    "wdf = spark.read.parquet('../data/raw/weathers/weather-2022')\n",
    "wdf_schema = wdf.schema"
   ]
  },
  {
   "cell_type": "code",
   "execution_count": 98,
   "metadata": {},
   "outputs": [
    {
     "name": "stdout",
     "output_type": "stream",
     "text": [
      "-RECORD 0-------------------\n",
      " date | 2022-01-01T00:00:00 \n",
      " wnd  | 160,1,N,0046,1      \n",
      " cig  | 99999,9,9,N         \n",
      " vis  | 016000,1,9,9        \n",
      " tmp  | +0106,1             \n",
      " dew  | +0078,1             \n",
      " slp  | 10141,1             \n",
      "only showing top 1 row\n",
      "\n"
     ]
    }
   ],
   "source": [
    "# Combine the weather dataset of year 2022 and 2023\n",
    "wdf = spark.read.schema(wdf_schema).parquet('../data/raw/weathers/*')\n",
    "\n",
    "wdf.show(1, vertical=True, truncate=100)"
   ]
  },
  {
   "cell_type": "code",
   "execution_count": 99,
   "metadata": {},
   "outputs": [
    {
     "data": {
      "text/plain": [
       "22380"
      ]
     },
     "execution_count": 99,
     "metadata": {},
     "output_type": "execute_result"
    }
   ],
   "source": [
    "wdf.count()"
   ]
  },
  {
   "cell_type": "markdown",
   "metadata": {},
   "source": [
    "## Clean weather data "
   ]
  },
  {
   "cell_type": "code",
   "execution_count": 100,
   "metadata": {},
   "outputs": [],
   "source": [
    "from pyspark.sql.functions import to_timestamp, regexp_replace\n",
    "\n",
    "# replace the character 'T' in the date column with ' ' (space) \n",
    "wdf_cleaned = wdf.withColumn(\"Date\", regexp_replace(F.col(\"Date\"), \"T\", \" \"))"
   ]
  },
  {
   "cell_type": "code",
   "execution_count": 101,
   "metadata": {},
   "outputs": [],
   "source": [
    "# convert the date from data type of string to timestamp\n",
    "wdf = wdf_cleaned.withColumn(\"Date\", to_timestamp(F.col(\"Date\"), \"yyyy-MM-dd HH:mm:ss\"))"
   ]
  },
  {
   "cell_type": "code",
   "execution_count": 102,
   "metadata": {},
   "outputs": [],
   "source": [
    "# Define the date range for analysis (inclusive of bound)\n",
    "dates = (\"2022-11-01\",  \"2023-05-31\")\n",
    "wdf = wdf.where(F.col('date').between(*dates))"
   ]
  },
  {
   "cell_type": "code",
   "execution_count": 103,
   "metadata": {},
   "outputs": [
    {
     "data": {
      "text/plain": [
       "7889"
      ]
     },
     "execution_count": 103,
     "metadata": {},
     "output_type": "execute_result"
    }
   ],
   "source": [
    "wdf.count()"
   ]
  },
  {
   "cell_type": "code",
   "execution_count": 104,
   "metadata": {},
   "outputs": [],
   "source": [
    "def extract(sdf, start_index, end_index, extracted_column):\n",
    "    \"\"\"\n",
    "    Extract the useful information from each entry accordingly\n",
    "\n",
    "    Parameters:\n",
    "    - sdf: Pyspark dataframe ready to be extracted\n",
    "    - start_index: Starting index of the useful information\n",
    "    - end_index: Ending index of the useful information\n",
    "    - extracted_column: Column where the info to be extracted\n",
    "    \"\"\"\n",
    "    sdf = sdf.withColumn(extracted_column, \n",
    "        (substring(F.col(extracted_column), start_index, end_index - start_index + 1)).cast(\"double\"))\n",
    "    return sdf"
   ]
  },
  {
   "cell_type": "code",
   "execution_count": 105,
   "metadata": {},
   "outputs": [],
   "source": [
    "# Take out the information from each column except the 'date' column\n",
    "wdf = extract(wdf, 9, 12, \"wnd\")\n",
    "wdf = extract(wdf, 1, 5, \"cig\")\n",
    "wdf = extract(wdf, 1, 6, \"vis\")\n",
    "wdf = extract(wdf, 1, 5, \"tmp\")\n",
    "wdf = extract(wdf, 1, 5, \"dew\")\n",
    "wdf = extract(wdf, 1, 5, \"slp\")"
   ]
  },
  {
   "cell_type": "code",
   "execution_count": 106,
   "metadata": {},
   "outputs": [
    {
     "name": "stdout",
     "output_type": "stream",
     "text": [
      "+-------------------+------+-------+--------+------+------+-------+\n",
      "|               Date|   wnd|    cig|     vis|   tmp|   dew|    slp|\n",
      "+-------------------+------+-------+--------+------+------+-------+\n",
      "|2023-01-01 00:15:00|   0.0|   91.0|   805.0|  78.0|  72.0|99999.0|\n",
      "|2023-01-01 00:51:00|  15.0|   91.0|   805.0|  78.0|  72.0|10098.0|\n",
      "|2023-01-01 01:51:00|   0.0|   91.0|   805.0|  83.0|  72.0|10086.0|\n",
      "|2023-01-01 02:38:00|   0.0|  122.0|  3219.0|  89.0|  83.0|99999.0|\n",
      "|2023-01-01 02:51:00|   0.0|  122.0|  3219.0|  83.0|  78.0|10086.0|\n",
      "|2023-01-01 03:00:00|   0.0|99999.0|  3200.0|  83.0|  78.0|10086.0|\n",
      "|2023-01-01 03:49:00|  31.0|  122.0| 12875.0| 120.0| 110.0|99999.0|\n",
      "|2023-01-01 03:51:00|  31.0|  122.0| 12875.0| 122.0| 111.0|10074.0|\n",
      "|2023-01-01 04:51:00|  31.0|  122.0| 16093.0| 122.0| 106.0|10073.0|\n",
      "|2023-01-01 04:59:00|9999.0|99999.0|999999.0|9999.0|9999.0|99999.0|\n",
      "|2023-01-01 04:59:00|9999.0|99999.0|999999.0|9999.0|9999.0|99999.0|\n",
      "|2023-01-01 05:19:00|  15.0|  518.0| 16093.0| 117.0| 106.0|99999.0|\n",
      "|2023-01-01 05:51:00|  31.0|  518.0| 16093.0| 117.0| 100.0|10072.0|\n",
      "|2023-01-01 06:00:00|  31.0|99999.0| 16000.0| 117.0| 100.0|10072.0|\n",
      "|2023-01-01 06:24:00|  15.0| 2438.0| 16093.0| 122.0| 100.0|99999.0|\n",
      "|2023-01-01 06:51:00|  51.0| 2438.0| 16093.0| 122.0| 100.0|10067.0|\n",
      "|2023-01-01 07:51:00|  51.0|22000.0| 16093.0| 122.0|  94.0|10077.0|\n",
      "|2023-01-01 08:51:00|  46.0|22000.0| 16093.0| 122.0|  89.0|10080.0|\n",
      "|2023-01-01 09:00:00|  46.0|22000.0| 16000.0| 122.0|  89.0|10080.0|\n",
      "|2023-01-01 09:51:00|  26.0|22000.0| 16093.0| 117.0|  78.0|10084.0|\n",
      "+-------------------+------+-------+--------+------+------+-------+\n",
      "only showing top 20 rows\n",
      "\n"
     ]
    }
   ],
   "source": [
    "wdf.show()"
   ]
  },
  {
   "cell_type": "code",
   "execution_count": 107,
   "metadata": {},
   "outputs": [
    {
     "name": "stdout",
     "output_type": "stream",
     "text": [
      "root\n",
      " |-- Date: timestamp (nullable = true)\n",
      " |-- wnd: double (nullable = true)\n",
      " |-- cig: double (nullable = true)\n",
      " |-- vis: double (nullable = true)\n",
      " |-- tmp: double (nullable = true)\n",
      " |-- dew: double (nullable = true)\n",
      " |-- slp: double (nullable = true)\n",
      "\n"
     ]
    }
   ],
   "source": [
    "wdf.printSchema()"
   ]
  },
  {
   "cell_type": "code",
   "execution_count": 109,
   "metadata": {},
   "outputs": [],
   "source": [
    "def cal_missing_propor(sdf,column, num):\n",
    "    \"\"\"\n",
    "    Calculate the proportion of missing values in a specific column\n",
    "\n",
    "    Parameters:\n",
    "    - sdf: Pyspark dataframe \n",
    "    - column: Column that are going to be examine\n",
    "    - num: number of figures that represent the missing values \n",
    "    \"\"\"   \n",
    "    total_num = wdf.count()\n",
    "    invalid_record = \"9\" * num\n",
    "    missing_count = sdf.filter(F.col(column) == int(invalid_record)).count()\n",
    "    return missing_count / total_num\n"
   ]
  },
  {
   "cell_type": "code",
   "execution_count": 110,
   "metadata": {},
   "outputs": [
    {
     "name": "stderr",
     "output_type": "stream",
     "text": [
      "                                                                                \r"
     ]
    },
    {
     "data": {
      "text/plain": [
       "0.027633413613892762"
      ]
     },
     "execution_count": 110,
     "metadata": {},
     "output_type": "execute_result"
    }
   ],
   "source": [
    "cal_missing_propor(wdf, \"wnd\", 4)"
   ]
  },
  {
   "cell_type": "code",
   "execution_count": 111,
   "metadata": {},
   "outputs": [
    {
     "data": {
      "text/plain": [
       "0.17049055647103561"
      ]
     },
     "execution_count": 111,
     "metadata": {},
     "output_type": "execute_result"
    }
   ],
   "source": [
    "cal_missing_propor(wdf, \"cig\", 5)"
   ]
  },
  {
   "cell_type": "code",
   "execution_count": 112,
   "metadata": {},
   "outputs": [
    {
     "data": {
      "text/plain": [
       "0.027633413613892762"
      ]
     },
     "execution_count": 112,
     "metadata": {},
     "output_type": "execute_result"
    }
   ],
   "source": [
    "cal_missing_propor(wdf, \"vis\", 6)"
   ]
  },
  {
   "cell_type": "code",
   "execution_count": 113,
   "metadata": {},
   "outputs": [
    {
     "data": {
      "text/plain": [
       "0.027633413613892762"
      ]
     },
     "execution_count": 113,
     "metadata": {},
     "output_type": "execute_result"
    }
   ],
   "source": [
    "cal_missing_propor(wdf, \"tmp\", 4)"
   ]
  },
  {
   "cell_type": "code",
   "execution_count": 114,
   "metadata": {},
   "outputs": [
    {
     "data": {
      "text/plain": [
       "0.027633413613892762"
      ]
     },
     "execution_count": 114,
     "metadata": {},
     "output_type": "execute_result"
    }
   ],
   "source": [
    "cal_missing_propor(wdf, \"dew\", 4)"
   ]
  },
  {
   "cell_type": "code",
   "execution_count": 115,
   "metadata": {},
   "outputs": [
    {
     "data": {
      "text/plain": [
       "0.14767397642286728"
      ]
     },
     "execution_count": 115,
     "metadata": {},
     "output_type": "execute_result"
    }
   ],
   "source": [
    "cal_missing_propor(wdf, \"slp\", 5)"
   ]
  },
  {
   "cell_type": "code",
   "execution_count": 116,
   "metadata": {},
   "outputs": [],
   "source": [
    "# Discard all the rows that contain missing values\n",
    "wdf_filtered = wdf.where(\n",
    "    (F.col('wnd') != 9999)\n",
    "    & (F.col('cig') != 99999)\n",
    "    & (F.col('vis') != 999999)\n",
    "    & (F.col('tmp') != 9999)\n",
    "    & (F.col('dew') != 9999)\n",
    "    & (F.col('slp') != 99999)\n",
    ")"
   ]
  },
  {
   "cell_type": "code",
   "execution_count": 117,
   "metadata": {},
   "outputs": [
    {
     "name": "stdout",
     "output_type": "stream",
     "text": [
      "+-------------------+----+-------+-------+-----+-----+-------+\n",
      "|               Date| wnd|    cig|    vis|  tmp|  dew|    slp|\n",
      "+-------------------+----+-------+-------+-----+-----+-------+\n",
      "|2023-01-01 00:51:00|15.0|   91.0|  805.0| 78.0| 72.0|10098.0|\n",
      "|2023-01-01 01:51:00| 0.0|   91.0|  805.0| 83.0| 72.0|10086.0|\n",
      "|2023-01-01 02:51:00| 0.0|  122.0| 3219.0| 83.0| 78.0|10086.0|\n",
      "|2023-01-01 03:51:00|31.0|  122.0|12875.0|122.0|111.0|10074.0|\n",
      "|2023-01-01 04:51:00|31.0|  122.0|16093.0|122.0|106.0|10073.0|\n",
      "|2023-01-01 05:51:00|31.0|  518.0|16093.0|117.0|100.0|10072.0|\n",
      "|2023-01-01 06:51:00|51.0| 2438.0|16093.0|122.0|100.0|10067.0|\n",
      "|2023-01-01 07:51:00|51.0|22000.0|16093.0|122.0| 94.0|10077.0|\n",
      "|2023-01-01 08:51:00|46.0|22000.0|16093.0|122.0| 89.0|10080.0|\n",
      "|2023-01-01 09:00:00|46.0|22000.0|16000.0|122.0| 89.0|10080.0|\n",
      "|2023-01-01 09:51:00|26.0|22000.0|16093.0|117.0| 78.0|10084.0|\n",
      "|2023-01-01 10:51:00|51.0|22000.0|16093.0|117.0| 72.0|10093.0|\n",
      "|2023-01-01 11:51:00|41.0|22000.0|16093.0|111.0| 72.0|10103.0|\n",
      "|2023-01-01 12:00:00|41.0|22000.0|16000.0|111.0| 72.0|10103.0|\n",
      "|2023-01-01 12:51:00|41.0|22000.0|16093.0|100.0| 50.0|10109.0|\n",
      "|2023-01-01 13:51:00|67.0|22000.0|16093.0|106.0| 44.0|10115.0|\n",
      "|2023-01-01 14:51:00|57.0|22000.0|16093.0|106.0| 44.0|10132.0|\n",
      "|2023-01-01 15:51:00|62.0|22000.0|16093.0|106.0| 39.0|10137.0|\n",
      "|2023-01-01 16:51:00|51.0|22000.0|16093.0|106.0| 22.0|10130.0|\n",
      "|2023-01-01 17:51:00|82.0|22000.0|16093.0|111.0| 17.0|10134.0|\n",
      "+-------------------+----+-------+-------+-----+-----+-------+\n",
      "only showing top 20 rows\n",
      "\n"
     ]
    }
   ],
   "source": [
    "wdf_filtered.show()"
   ]
  },
  {
   "cell_type": "code",
   "execution_count": 118,
   "metadata": {},
   "outputs": [
    {
     "data": {
      "text/plain": [
       "5601"
      ]
     },
     "execution_count": 118,
     "metadata": {},
     "output_type": "execute_result"
    }
   ],
   "source": [
    "wdf_filtered.count()"
   ]
  },
  {
   "cell_type": "code",
   "execution_count": 124,
   "metadata": {},
   "outputs": [
    {
     "name": "stdout",
     "output_type": "stream",
     "text": [
      "+----------+----+-------+-------+-----+-----+-------+----+--------+\n",
      "|      date| wnd|    cig|    vis|  tmp|  dew|    slp|hour|day_week|\n",
      "+----------+----+-------+-------+-----+-----+-------+----+--------+\n",
      "|2023-01-01|15.0|   91.0|  805.0| 78.0| 72.0|10098.0|   0|       1|\n",
      "|2023-01-01| 0.0|   91.0|  805.0| 83.0| 72.0|10086.0|   1|       1|\n",
      "|2023-01-01| 0.0|  122.0| 3219.0| 83.0| 78.0|10086.0|   2|       1|\n",
      "|2023-01-01|31.0|  122.0|12875.0|122.0|111.0|10074.0|   3|       1|\n",
      "|2023-01-01|31.0|  122.0|16093.0|122.0|106.0|10073.0|   4|       1|\n",
      "|2023-01-01|31.0|  518.0|16093.0|117.0|100.0|10072.0|   5|       1|\n",
      "|2023-01-01|51.0| 2438.0|16093.0|122.0|100.0|10067.0|   6|       1|\n",
      "|2023-01-01|51.0|22000.0|16093.0|122.0| 94.0|10077.0|   7|       1|\n",
      "|2023-01-01|46.0|22000.0|16093.0|122.0| 89.0|10080.0|   8|       1|\n",
      "|2023-01-01|46.0|22000.0|16000.0|122.0| 89.0|10080.0|   9|       1|\n",
      "|2023-01-01|26.0|22000.0|16093.0|117.0| 78.0|10084.0|   9|       1|\n",
      "|2023-01-01|51.0|22000.0|16093.0|117.0| 72.0|10093.0|  10|       1|\n",
      "|2023-01-01|41.0|22000.0|16093.0|111.0| 72.0|10103.0|  11|       1|\n",
      "|2023-01-01|41.0|22000.0|16000.0|111.0| 72.0|10103.0|  12|       1|\n",
      "|2023-01-01|41.0|22000.0|16093.0|100.0| 50.0|10109.0|  12|       1|\n",
      "|2023-01-01|67.0|22000.0|16093.0|106.0| 44.0|10115.0|  13|       1|\n",
      "|2023-01-01|57.0|22000.0|16093.0|106.0| 44.0|10132.0|  14|       1|\n",
      "|2023-01-01|62.0|22000.0|16093.0|106.0| 39.0|10137.0|  15|       1|\n",
      "|2023-01-01|51.0|22000.0|16093.0|106.0| 22.0|10130.0|  16|       1|\n",
      "|2023-01-01|82.0|22000.0|16093.0|111.0| 17.0|10134.0|  17|       1|\n",
      "+----------+----+-------+-------+-----+-----+-------+----+--------+\n",
      "only showing top 20 rows\n",
      "\n"
     ]
    }
   ],
   "source": [
    "# Extract the date and hour into individual column\n",
    "wdf_filtered = wdf_filtered.withColumn(\"hour\", F.hour(\"date\"))\n",
    "wdf_filtered = wdf_filtered.withColumn(\"date\", F.to_date(\"date\"))\n",
    "# Create a column that shows the day in week of a date\n",
    "wdf_filtered = wdf_filtered.withColumn(\"day_week\", F.dayofweek(\"date\"))\n",
    "\n",
    "wdf_filtered.show()"
   ]
  },
  {
   "cell_type": "code",
   "execution_count": 125,
   "metadata": {},
   "outputs": [],
   "source": [
    "# unscaled the features based on the data dictionary\n",
    "scaled_col = ['wnd', 'tmp', 'dew', 'slp']\n",
    "for column in scaled_col:\n",
    "    wdf_filtered = wdf_filtered.withColumn(column, F.col(column)/ 10)"
   ]
  },
  {
   "cell_type": "code",
   "execution_count": 126,
   "metadata": {},
   "outputs": [
    {
     "name": "stdout",
     "output_type": "stream",
     "text": [
      "+----------+---+-------+-------+----+----+------+----+--------+\n",
      "|      date|wnd|    cig|    vis| tmp| dew|   slp|hour|day_week|\n",
      "+----------+---+-------+-------+----+----+------+----+--------+\n",
      "|2023-01-01|1.5|   91.0|  805.0| 7.8| 7.2|1009.8|   0|       1|\n",
      "|2023-01-01|0.0|   91.0|  805.0| 8.3| 7.2|1008.6|   1|       1|\n",
      "|2023-01-01|0.0|  122.0| 3219.0| 8.3| 7.8|1008.6|   2|       1|\n",
      "|2023-01-01|3.1|  122.0|12875.0|12.2|11.1|1007.4|   3|       1|\n",
      "|2023-01-01|3.1|  122.0|16093.0|12.2|10.6|1007.3|   4|       1|\n",
      "|2023-01-01|3.1|  518.0|16093.0|11.7|10.0|1007.2|   5|       1|\n",
      "|2023-01-01|5.1| 2438.0|16093.0|12.2|10.0|1006.7|   6|       1|\n",
      "|2023-01-01|5.1|22000.0|16093.0|12.2| 9.4|1007.7|   7|       1|\n",
      "|2023-01-01|4.6|22000.0|16093.0|12.2| 8.9|1008.0|   8|       1|\n",
      "|2023-01-01|4.6|22000.0|16000.0|12.2| 8.9|1008.0|   9|       1|\n",
      "|2023-01-01|2.6|22000.0|16093.0|11.7| 7.8|1008.4|   9|       1|\n",
      "|2023-01-01|5.1|22000.0|16093.0|11.7| 7.2|1009.3|  10|       1|\n",
      "|2023-01-01|4.1|22000.0|16093.0|11.1| 7.2|1010.3|  11|       1|\n",
      "|2023-01-01|4.1|22000.0|16000.0|11.1| 7.2|1010.3|  12|       1|\n",
      "|2023-01-01|4.1|22000.0|16093.0|10.0| 5.0|1010.9|  12|       1|\n",
      "|2023-01-01|6.7|22000.0|16093.0|10.6| 4.4|1011.5|  13|       1|\n",
      "|2023-01-01|5.7|22000.0|16093.0|10.6| 4.4|1013.2|  14|       1|\n",
      "|2023-01-01|6.2|22000.0|16093.0|10.6| 3.9|1013.7|  15|       1|\n",
      "|2023-01-01|5.1|22000.0|16093.0|10.6| 2.2|1013.0|  16|       1|\n",
      "|2023-01-01|8.2|22000.0|16093.0|11.1| 1.7|1013.4|  17|       1|\n",
      "+----------+---+-------+-------+----+----+------+----+--------+\n",
      "only showing top 20 rows\n",
      "\n"
     ]
    }
   ],
   "source": [
    "wdf_filtered.show()"
   ]
  },
  {
   "cell_type": "code",
   "execution_count": 127,
   "metadata": {},
   "outputs": [
    {
     "name": "stderr",
     "output_type": "stream",
     "text": [
      "[Stage 247:==========================================>              (3 + 1) / 4]\r"
     ]
    },
    {
     "name": "stdout",
     "output_type": "stream",
     "text": [
      "+----------+----+--------+----------+--------------+------------------+-----------+--------------+------------+\n",
      "|      date|hour|day_week|wind_speed|ceiling_height|distance_dimension|temperature|dew_point_temp|atm_pressure|\n",
      "+----------+----+--------+----------+--------------+------------------+-----------+--------------+------------+\n",
      "|2022-11-01|   0|       3|       2.6|         792.0|           14484.0|       16.1|          12.2|      1016.4|\n",
      "|2022-11-01|   1|       3|       2.6|         823.0|           16093.0|       16.1|          12.8|      1016.5|\n",
      "|2022-11-01|   2|       3|       3.1|         975.0|           16093.0|       16.1|          12.8|      1016.3|\n",
      "|2022-11-01|   3|       3|       3.1|        3048.0|           11265.0|       15.6|          12.8|      1016.3|\n",
      "|2022-11-01|   4|       3|       3.1|         335.0|           12875.0|       15.6|          12.8|      1016.3|\n",
      "|2022-11-01|   5|       3|       2.6|         244.0|           12875.0|       15.6|          13.3|      1016.2|\n",
      "|2022-11-01|   6|       3|       2.1|         762.0|           12875.0|       15.6|          13.3|      1015.9|\n",
      "|2022-11-01|   7|       3|       3.1|         427.0|            4023.0|       15.6|          13.3|      1016.2|\n",
      "|2022-11-01|   8|       3|       2.1|         610.0|           12875.0|       15.0|          13.3|      1015.5|\n",
      "|2022-11-01|   9|       3|       3.1|         671.0|           16093.0|       15.0|          13.3|      1015.1|\n",
      "|2022-11-01|  10|       3|       3.6|         183.0|           16093.0|       15.6|          13.3|      1015.2|\n",
      "|2022-11-01|  11|       3|       4.1|         183.0|            8047.0|       15.6|          13.9|      1015.7|\n",
      "|2022-11-01|  12|       3|       4.1|         213.0|            9656.0|       15.6|          13.9|      1015.9|\n",
      "|2022-11-01|  13|       3|       2.6|         518.0|           12875.0|       16.7|          13.9|      1016.0|\n",
      "|2022-11-01|  14|       3|       3.1|         396.0|           16093.0|       17.2|          13.9|      1016.1|\n",
      "|2022-11-01|  15|       3|       1.5|         579.0|           16093.0|       18.3|          13.3|      1015.7|\n",
      "|2022-11-01|  16|       3|       4.1|         579.0|           16093.0|       18.9|          13.3|      1015.3|\n",
      "|2022-11-01|  17|       3|       4.6|         701.0|           16093.0|       19.4|          13.3|      1014.8|\n",
      "|2022-11-01|  18|       3|       4.6|         762.0|           16093.0|       19.4|          13.3|      1014.4|\n",
      "|2022-11-01|  19|       3|       4.6|         762.0|           16093.0|       19.4|          12.8|      1014.7|\n",
      "+----------+----+--------+----------+--------------+------------------+-----------+--------------+------------+\n",
      "only showing top 20 rows\n",
      "\n"
     ]
    },
    {
     "name": "stderr",
     "output_type": "stream",
     "text": [
      "                                                                                \r"
     ]
    }
   ],
   "source": [
    "# aggregate the weather data so its time granularity decreases to hour\n",
    "hourly_weather = wdf_filtered\\\n",
    "    .groupBy('date', 'hour', 'day_week')\\\n",
    "    .agg(\n",
    "        # taking the mean for every feature\n",
    "        F.mean('wnd').alias('wind_speed'),\n",
    "        F.mean('CIG').alias('ceiling_height'),\n",
    "        F.mean('VIS').alias('distance_dimension'),\n",
    "        F.mean('TMP').alias('temperature'),\n",
    "        F.mean('DEW').alias('dew_point_temp'),\n",
    "        F.mean('SLP').alias('atm_pressure'),\n",
    "    )\\\n",
    "    .orderBy('date', 'hour')\n",
    "hourly_weather.show()"
   ]
  },
  {
   "cell_type": "code",
   "execution_count": 128,
   "metadata": {},
   "outputs": [
    {
     "name": "stderr",
     "output_type": "stream",
     "text": [
      "                                                                                \r"
     ]
    }
   ],
   "source": [
    "# save the result\n",
    "hourly_weather.write.mode('overwrite').parquet('../data/curated/hourly_weather')"
   ]
  },
  {
   "cell_type": "markdown",
   "metadata": {},
   "source": [
    "# Preprocessing taxi data"
   ]
  },
  {
   "cell_type": "code",
   "execution_count": 129,
   "metadata": {},
   "outputs": [
    {
     "data": {
      "text/plain": [
       "StructType([StructField('trip_distance', DoubleType(), True), StructField('tpep_pickup_datetime', TimestampNTZType(), True), StructField('tpep_dropoff_datetime', TimestampNTZType(), True), StructField('pulocationid', IntegerType(), True), StructField('dolocationid', IntegerType(), True), StructField('fare_amount', DoubleType(), True), StructField('passenger_count', LongType(), True)])"
      ]
     },
     "execution_count": 129,
     "metadata": {},
     "output_type": "execute_result"
    }
   ],
   "source": [
    "ydf = spark.read.parquet('../data/raw/2023-01-yellow')\n",
    "sdf_schema = ydf.schema\n",
    "sdf_schema"
   ]
  },
  {
   "cell_type": "code",
   "execution_count": 130,
   "metadata": {},
   "outputs": [
    {
     "name": "stdout",
     "output_type": "stream",
     "text": [
      "-RECORD 0------------------------------------\n",
      " trip_distance         | 2.0                 \n",
      " tpep_pickup_datetime  | 2022-12-01 00:37:35 \n",
      " tpep_dropoff_datetime | 2022-12-01 00:47:35 \n",
      " pulocationid          | 170                 \n",
      " dolocationid          | 237                 \n",
      " fare_amount           | 8.5                 \n",
      " passenger_count       | 1                   \n",
      "only showing top 1 row\n",
      "\n"
     ]
    }
   ],
   "source": [
    "# Combine all the taxi records together\n",
    "sdf = spark.read.schema(sdf_schema).parquet('../data/raw/*')\n",
    "\n",
    "sdf.show(1, vertical=True, truncate=100)"
   ]
  },
  {
   "cell_type": "code",
   "execution_count": 131,
   "metadata": {},
   "outputs": [
    {
     "data": {
      "text/plain": [
       "23313034"
      ]
     },
     "execution_count": 131,
     "metadata": {},
     "output_type": "execute_result"
    }
   ],
   "source": [
    "sdf.count()"
   ]
  },
  {
   "cell_type": "code",
   "execution_count": 132,
   "metadata": {},
   "outputs": [
    {
     "name": "stdout",
     "output_type": "stream",
     "text": [
      "+-------------+--------------------+---------------------+------------+------------+-----------+---------------+\n",
      "|trip_distance|tpep_pickup_datetime|tpep_dropoff_datetime|pulocationid|dolocationid|fare_amount|passenger_count|\n",
      "+-------------+--------------------+---------------------+------------+------------+-----------+---------------+\n",
      "|          2.0| 2022-12-01 00:37:35|  2022-12-01 00:47:35|         170|         237|        8.5|              1|\n",
      "|          8.4| 2022-12-01 00:34:35|  2022-12-01 00:55:21|         138|         141|       26.0|              0|\n",
      "|          0.8| 2022-12-01 00:33:26|  2022-12-01 00:37:34|         140|         140|        5.0|              1|\n",
      "|          3.0| 2022-12-01 00:45:51|  2022-12-01 00:53:16|         141|          79|       10.0|              1|\n",
      "|         0.76| 2022-12-01 00:49:49|  2022-12-01 00:54:13|         261|         231|        5.0|              1|\n",
      "|          2.6| 2022-12-01 00:25:25|  2022-12-01 00:35:38|         237|         164|       10.5|              2|\n",
      "|         0.94| 2022-12-01 00:05:37|  2022-12-01 00:10:48|          79|         144|        5.5|              1|\n",
      "|         2.09| 2022-12-01 00:20:12|  2022-12-01 00:28:49|          79|         186|        9.0|              1|\n",
      "|          0.8| 2022-12-01 00:00:54|  2022-12-01 00:05:41|         142|         143|        5.5|              1|\n",
      "|         7.62| 2022-12-01 00:11:23|  2022-12-01 00:30:00|         138|         255|       24.0|              1|\n",
      "|          3.1| 2022-12-01 00:14:29|  2022-12-01 00:30:10|         234|         143|       13.0|              2|\n",
      "|          0.5| 2022-12-01 00:41:01|  2022-12-01 00:44:17|          48|          68|        4.5|              1|\n",
      "|          7.4| 2022-12-01 00:54:50|  2022-12-01 01:28:18|         230|          17|       27.5|              1|\n",
      "|          3.4| 2022-12-01 00:32:15|  2022-12-01 00:44:39|         107|         262|       12.5|              3|\n",
      "|          5.8| 2022-12-01 00:59:12|  2022-12-01 01:25:47|         161|         223|       22.0|              1|\n",
      "|        17.08| 2022-12-01 00:38:03|  2022-12-01 01:04:05|         132|         233|       52.0|              2|\n",
      "|          1.8| 2022-12-01 00:20:09|  2022-12-01 00:30:31|          48|         229|        9.0|              1|\n",
      "|         0.21| 2022-12-01 00:55:59|  2022-12-01 00:57:19|         164|         170|        3.0|              1|\n",
      "|         7.47| 2022-12-01 00:03:45|  2022-12-01 00:32:33|         140|          36|       25.0|              1|\n",
      "|         9.92| 2022-12-01 00:18:19|  2022-12-01 00:45:24|         132|         198|       30.0|              5|\n",
      "+-------------+--------------------+---------------------+------------+------------+-----------+---------------+\n",
      "only showing top 20 rows\n",
      "\n"
     ]
    }
   ],
   "source": [
    "sdf.show()"
   ]
  },
  {
   "cell_type": "code",
   "execution_count": 133,
   "metadata": {},
   "outputs": [
    {
     "name": "stderr",
     "output_type": "stream",
     "text": [
      "                                                                                \r"
     ]
    },
    {
     "data": {
      "text/plain": [
       "22723065"
      ]
     },
     "execution_count": 133,
     "metadata": {},
     "output_type": "execute_result"
    }
   ],
   "source": [
    "# Define the date range (inclusive of bound)\n",
    "dates = (\"2022-11-01\",  \"2023-05-31\")\n",
    "\n",
    "sdf.where(\n",
    "    (F.col('tpep_pickup_datetime').between(*dates))\n",
    "    & (F.col('tpep_dropoff_datetime').between(*dates))\n",
    ").count()"
   ]
  },
  {
   "cell_type": "code",
   "execution_count": 134,
   "metadata": {},
   "outputs": [],
   "source": [
    "# Define the date range (inclusive of bound)\n",
    "dates = (\"2022-11-01\",  \"2023-05-31\")\n",
    "\n",
    "# outlier detection and remove the outliers\n",
    "sdf_filtered = sdf.where(\n",
    "    (F.col('passenger_count') > 0)  # remove negative passenger count\n",
    "    & (F.col('trip_distance') > 0.5) # remove negative or short trip distance\n",
    "    & (F.col('pulocationid') >= 1)   # ensure the location is within the range 1-263\n",
    "    & (F.col('pulocationid') <= 263)\n",
    "    & (F.col('dolocationid') >= 1)\n",
    "    & (F.col('dolocationid') <= 263)\n",
    "    & (F.col('fare_amount') > 2.5)  # remove negative or invalid fare amount\n",
    "    & (F.col('tpep_pickup_datetime').between(*dates))   #specify the data range\n",
    "    & (F.col('tpep_dropoff_datetime').between(*dates))\n",
    "    & (F.col('tpep_dropoff_datetime') > F.col('tpep_pickup_datetime')) # remove negative trip duration\n",
    ")"
   ]
  },
  {
   "cell_type": "code",
   "execution_count": 135,
   "metadata": {},
   "outputs": [
    {
     "name": "stdout",
     "output_type": "stream",
     "text": [
      "+-------------+--------------------+---------------------+------------+------------+-----------+---------------+\n",
      "|trip_distance|tpep_pickup_datetime|tpep_dropoff_datetime|pulocationid|dolocationid|fare_amount|passenger_count|\n",
      "+-------------+--------------------+---------------------+------------+------------+-----------+---------------+\n",
      "|          2.0| 2022-12-01 00:37:35|  2022-12-01 00:47:35|         170|         237|        8.5|              1|\n",
      "|          0.8| 2022-12-01 00:33:26|  2022-12-01 00:37:34|         140|         140|        5.0|              1|\n",
      "|          3.0| 2022-12-01 00:45:51|  2022-12-01 00:53:16|         141|          79|       10.0|              1|\n",
      "|         0.76| 2022-12-01 00:49:49|  2022-12-01 00:54:13|         261|         231|        5.0|              1|\n",
      "|          2.6| 2022-12-01 00:25:25|  2022-12-01 00:35:38|         237|         164|       10.5|              2|\n",
      "|         0.94| 2022-12-01 00:05:37|  2022-12-01 00:10:48|          79|         144|        5.5|              1|\n",
      "|         2.09| 2022-12-01 00:20:12|  2022-12-01 00:28:49|          79|         186|        9.0|              1|\n",
      "|          0.8| 2022-12-01 00:00:54|  2022-12-01 00:05:41|         142|         143|        5.5|              1|\n",
      "|         7.62| 2022-12-01 00:11:23|  2022-12-01 00:30:00|         138|         255|       24.0|              1|\n",
      "|          3.1| 2022-12-01 00:14:29|  2022-12-01 00:30:10|         234|         143|       13.0|              2|\n",
      "|          7.4| 2022-12-01 00:54:50|  2022-12-01 01:28:18|         230|          17|       27.5|              1|\n",
      "|          3.4| 2022-12-01 00:32:15|  2022-12-01 00:44:39|         107|         262|       12.5|              3|\n",
      "|          5.8| 2022-12-01 00:59:12|  2022-12-01 01:25:47|         161|         223|       22.0|              1|\n",
      "|        17.08| 2022-12-01 00:38:03|  2022-12-01 01:04:05|         132|         233|       52.0|              2|\n",
      "|          1.8| 2022-12-01 00:20:09|  2022-12-01 00:30:31|          48|         229|        9.0|              1|\n",
      "|         7.47| 2022-12-01 00:03:45|  2022-12-01 00:32:33|         140|          36|       25.0|              1|\n",
      "|         9.92| 2022-12-01 00:18:19|  2022-12-01 00:45:24|         132|         198|       30.0|              5|\n",
      "|         1.48| 2022-12-01 00:39:55|  2022-12-01 00:44:58|          68|         107|        6.5|              1|\n",
      "|         1.89| 2022-12-01 00:50:42|  2022-12-01 00:57:06|         170|         141|        7.5|              1|\n",
      "|          2.0| 2022-12-01 00:07:44|  2022-12-01 00:16:17|          90|         170|        8.5|              1|\n",
      "+-------------+--------------------+---------------------+------------+------------+-----------+---------------+\n",
      "only showing top 20 rows\n",
      "\n"
     ]
    }
   ],
   "source": [
    "sdf_filtered.show()"
   ]
  },
  {
   "cell_type": "code",
   "execution_count": 136,
   "metadata": {},
   "outputs": [
    {
     "name": "stderr",
     "output_type": "stream",
     "text": [
      "                                                                                \r"
     ]
    },
    {
     "data": {
      "text/plain": [
       "19989535"
      ]
     },
     "execution_count": 136,
     "metadata": {},
     "output_type": "execute_result"
    }
   ],
   "source": [
    "sdf_filtered.count()"
   ]
  },
  {
   "cell_type": "code",
   "execution_count": 158,
   "metadata": {},
   "outputs": [
    {
     "data": {
      "text/plain": [
       "3323499"
      ]
     },
     "execution_count": 158,
     "metadata": {},
     "output_type": "execute_result"
    }
   ],
   "source": [
    "# number of outliers being removed \n",
    "num_removed = 23313034 - 19989535\n",
    "num_removed"
   ]
  },
  {
   "cell_type": "code",
   "execution_count": 159,
   "metadata": {},
   "outputs": [
    {
     "data": {
      "text/plain": [
       "0.14255969428946916"
      ]
     },
     "execution_count": 159,
     "metadata": {},
     "output_type": "execute_result"
    }
   ],
   "source": [
    "# proportion of dataset being removed \n",
    "proportion_remove = 3323499 / 23313034\n",
    "proportion_remove"
   ]
  },
  {
   "cell_type": "code",
   "execution_count": 137,
   "metadata": {},
   "outputs": [],
   "source": [
    "# Extract the date and hour into individual column\n",
    "sdf_transformed = sdf_filtered.withColumn(\"hour\", F.hour(\"tpep_pickup_datetime\"))\n",
    "sdf_transformed = sdf_transformed.withColumn(\"date\", F.to_date(\"tpep_pickup_datetime\"))\n",
    "# Create a column that shows the day in week of a date\n",
    "sdf_transformed = sdf_transformed.withColumn(\"day_week\", F.dayofweek(\"tpep_pickup_datetime\"))\n",
    "\n"
   ]
  },
  {
   "cell_type": "code",
   "execution_count": 138,
   "metadata": {},
   "outputs": [
    {
     "name": "stdout",
     "output_type": "stream",
     "text": [
      "+-------------+--------------------+---------------------+------------+------------+-----------+---------------+----+--------+----------+\n",
      "|trip_distance|tpep_pickup_datetime|tpep_dropoff_datetime|pulocationid|dolocationid|fare_amount|passenger_count|hour|day_week|      date|\n",
      "+-------------+--------------------+---------------------+------------+------------+-----------+---------------+----+--------+----------+\n",
      "|          2.0| 2022-12-01 00:37:35|  2022-12-01 00:47:35|         170|         237|        8.5|              1|   0|       5|2022-12-01|\n",
      "|          0.8| 2022-12-01 00:33:26|  2022-12-01 00:37:34|         140|         140|        5.0|              1|   0|       5|2022-12-01|\n",
      "|          3.0| 2022-12-01 00:45:51|  2022-12-01 00:53:16|         141|          79|       10.0|              1|   0|       5|2022-12-01|\n",
      "|         0.76| 2022-12-01 00:49:49|  2022-12-01 00:54:13|         261|         231|        5.0|              1|   0|       5|2022-12-01|\n",
      "|          2.6| 2022-12-01 00:25:25|  2022-12-01 00:35:38|         237|         164|       10.5|              2|   0|       5|2022-12-01|\n",
      "|         0.94| 2022-12-01 00:05:37|  2022-12-01 00:10:48|          79|         144|        5.5|              1|   0|       5|2022-12-01|\n",
      "|         2.09| 2022-12-01 00:20:12|  2022-12-01 00:28:49|          79|         186|        9.0|              1|   0|       5|2022-12-01|\n",
      "|          0.8| 2022-12-01 00:00:54|  2022-12-01 00:05:41|         142|         143|        5.5|              1|   0|       5|2022-12-01|\n",
      "|         7.62| 2022-12-01 00:11:23|  2022-12-01 00:30:00|         138|         255|       24.0|              1|   0|       5|2022-12-01|\n",
      "|          3.1| 2022-12-01 00:14:29|  2022-12-01 00:30:10|         234|         143|       13.0|              2|   0|       5|2022-12-01|\n",
      "|          7.4| 2022-12-01 00:54:50|  2022-12-01 01:28:18|         230|          17|       27.5|              1|   0|       5|2022-12-01|\n",
      "|          3.4| 2022-12-01 00:32:15|  2022-12-01 00:44:39|         107|         262|       12.5|              3|   0|       5|2022-12-01|\n",
      "|          5.8| 2022-12-01 00:59:12|  2022-12-01 01:25:47|         161|         223|       22.0|              1|   0|       5|2022-12-01|\n",
      "|        17.08| 2022-12-01 00:38:03|  2022-12-01 01:04:05|         132|         233|       52.0|              2|   0|       5|2022-12-01|\n",
      "|          1.8| 2022-12-01 00:20:09|  2022-12-01 00:30:31|          48|         229|        9.0|              1|   0|       5|2022-12-01|\n",
      "|         7.47| 2022-12-01 00:03:45|  2022-12-01 00:32:33|         140|          36|       25.0|              1|   0|       5|2022-12-01|\n",
      "|         9.92| 2022-12-01 00:18:19|  2022-12-01 00:45:24|         132|         198|       30.0|              5|   0|       5|2022-12-01|\n",
      "|         1.48| 2022-12-01 00:39:55|  2022-12-01 00:44:58|          68|         107|        6.5|              1|   0|       5|2022-12-01|\n",
      "|         1.89| 2022-12-01 00:50:42|  2022-12-01 00:57:06|         170|         141|        7.5|              1|   0|       5|2022-12-01|\n",
      "|          2.0| 2022-12-01 00:07:44|  2022-12-01 00:16:17|          90|         170|        8.5|              1|   0|       5|2022-12-01|\n",
      "+-------------+--------------------+---------------------+------------+------------+-----------+---------------+----+--------+----------+\n",
      "only showing top 20 rows\n",
      "\n"
     ]
    }
   ],
   "source": [
    "sdf_transformed.show()"
   ]
  },
  {
   "cell_type": "code",
   "execution_count": 139,
   "metadata": {},
   "outputs": [],
   "source": [
    "# Group the data based on date, hour and location to get the hourly demand in a specific region\n",
    "aggregated_result = sdf_transformed\\\n",
    "    .groupBy('date', 'hour', 'day_week','pulocationid')\\\n",
    "    .agg(\n",
    "        F.count(\"*\").alias(\"num_trips\"), \n",
    "    )\\\n",
    "    .orderBy('date', 'hour', 'pulocationid')"
   ]
  },
  {
   "cell_type": "code",
   "execution_count": 140,
   "metadata": {},
   "outputs": [
    {
     "name": "stderr",
     "output_type": "stream",
     "text": [
      "[Stage 272:=======>                                                 (1 + 7) / 8]\r"
     ]
    },
    {
     "name": "stdout",
     "output_type": "stream",
     "text": [
      "+----------+----+--------+------------+---------+\n",
      "|      date|hour|day_week|pulocationid|num_trips|\n",
      "+----------+----+--------+------------+---------+\n",
      "|2022-11-01|   0|       3|           4|        4|\n",
      "|2022-11-01|   0|       3|           7|        2|\n",
      "|2022-11-01|   0|       3|          13|        2|\n",
      "|2022-11-01|   0|       3|          24|        2|\n",
      "|2022-11-01|   0|       3|          41|        4|\n",
      "|2022-11-01|   0|       3|          42|        2|\n",
      "|2022-11-01|   0|       3|          43|        4|\n",
      "|2022-11-01|   0|       3|          45|        1|\n",
      "|2022-11-01|   0|       3|          48|       89|\n",
      "|2022-11-01|   0|       3|          50|       10|\n",
      "|2022-11-01|   0|       3|          66|        1|\n",
      "|2022-11-01|   0|       3|          68|       48|\n",
      "|2022-11-01|   0|       3|          70|        2|\n",
      "|2022-11-01|   0|       3|          74|        2|\n",
      "|2022-11-01|   0|       3|          75|        2|\n",
      "|2022-11-01|   0|       3|          79|      120|\n",
      "|2022-11-01|   0|       3|          80|        3|\n",
      "|2022-11-01|   0|       3|          87|        9|\n",
      "|2022-11-01|   0|       3|          88|        2|\n",
      "|2022-11-01|   0|       3|          90|       51|\n",
      "+----------+----+--------+------------+---------+\n",
      "only showing top 20 rows\n",
      "\n"
     ]
    },
    {
     "name": "stderr",
     "output_type": "stream",
     "text": [
      "                                                                                \r"
     ]
    }
   ],
   "source": [
    "aggregated_result.show()"
   ]
  },
  {
   "cell_type": "code",
   "execution_count": 141,
   "metadata": {},
   "outputs": [
    {
     "name": "stderr",
     "output_type": "stream",
     "text": [
      "                                                                                \r"
     ]
    },
    {
     "data": {
      "text/plain": [
       "438305"
      ]
     },
     "execution_count": 141,
     "metadata": {},
     "output_type": "execute_result"
    }
   ],
   "source": [
    "aggregated_result.count()"
   ]
  },
  {
   "cell_type": "code",
   "execution_count": 142,
   "metadata": {},
   "outputs": [],
   "source": [
    "# Create a column to indicate whether a date is public holiday or weekend\n",
    "holiday = ['2022-11-24', '2022-12-25', '2023-01-01', '2023-01-16', '2023-02-20', '2023-05-29']\n",
    "aggregated_taxi = aggregated_result.withColumn(\"is_weekend_holiday\",\n",
    "    F.col(\"day_week\").isin([6,7]) | F.col(\"date\").isin(holiday))"
   ]
  },
  {
   "cell_type": "code",
   "execution_count": 143,
   "metadata": {},
   "outputs": [
    {
     "name": "stderr",
     "output_type": "stream",
     "text": [
      "                                                                                \r"
     ]
    }
   ],
   "source": [
    "aggregated_taxi.write.mode('overwrite').parquet('../data/curated/agg_taxi')"
   ]
  },
  {
   "cell_type": "markdown",
   "metadata": {},
   "source": [
    "# Combination of Weather and Taxi Data"
   ]
  },
  {
   "cell_type": "code",
   "execution_count": 144,
   "metadata": {},
   "outputs": [],
   "source": [
    "# join the weather and taxi data\n",
    "hourly_demand = aggregated_taxi.join(hourly_weather, \n",
    "    on = ['date', 'hour', 'day_week'], how = \"inner\")\\\n",
    "    .orderBy('date', 'hour','pulocationid')"
   ]
  },
  {
   "cell_type": "markdown",
   "metadata": {},
   "source": [
    "# Sample data"
   ]
  },
  {
   "cell_type": "code",
   "execution_count": 145,
   "metadata": {},
   "outputs": [],
   "source": [
    "SAMPLE_SIZE = 0.20"
   ]
  },
  {
   "cell_type": "code",
   "execution_count": 146,
   "metadata": {},
   "outputs": [
    {
     "name": "stderr",
     "output_type": "stream",
     "text": [
      "                                                                                \r"
     ]
    }
   ],
   "source": [
    "# subsample the data for visualization and modelling\n",
    "full_df = hourly_demand.sample(SAMPLE_SIZE, seed = 0).toPandas()\n",
    "full_df.to_parquet('../data/curated/location_sample_data.parquet')"
   ]
  },
  {
   "cell_type": "code",
   "execution_count": 147,
   "metadata": {},
   "outputs": [
    {
     "name": "stderr",
     "output_type": "stream",
     "text": [
      "                                                                                \r"
     ]
    }
   ],
   "source": [
    "hourly_demand.write.mode('overwrite').parquet('../data/curated/location_demand')"
   ]
  },
  {
   "cell_type": "code",
   "execution_count": 148,
   "metadata": {},
   "outputs": [],
   "source": [
    "import pandas as pd"
   ]
  },
  {
   "cell_type": "code",
   "execution_count": 149,
   "metadata": {},
   "outputs": [
    {
     "name": "stderr",
     "output_type": "stream",
     "text": [
      "                                                                                \r"
     ]
    }
   ],
   "source": [
    "# one-hot encoding for location id (categorical attribute)\n",
    "hourly_demand = pd.get_dummies(hourly_demand.toPandas(), columns = ['pulocationid'])"
   ]
  },
  {
   "cell_type": "code",
   "execution_count": 150,
   "metadata": {},
   "outputs": [
    {
     "data": {
      "text/html": [
       "<div>\n",
       "<style scoped>\n",
       "    .dataframe tbody tr th:only-of-type {\n",
       "        vertical-align: middle;\n",
       "    }\n",
       "\n",
       "    .dataframe tbody tr th {\n",
       "        vertical-align: top;\n",
       "    }\n",
       "\n",
       "    .dataframe thead th {\n",
       "        text-align: right;\n",
       "    }\n",
       "</style>\n",
       "<table border=\"1\" class=\"dataframe\">\n",
       "  <thead>\n",
       "    <tr style=\"text-align: right;\">\n",
       "      <th></th>\n",
       "      <th>date</th>\n",
       "      <th>hour</th>\n",
       "      <th>day_week</th>\n",
       "      <th>num_trips</th>\n",
       "      <th>is_weekend_holiday</th>\n",
       "      <th>wind_speed</th>\n",
       "      <th>ceiling_height</th>\n",
       "      <th>distance_dimension</th>\n",
       "      <th>temperature</th>\n",
       "      <th>dew_point_temp</th>\n",
       "      <th>...</th>\n",
       "      <th>pulocationid_254</th>\n",
       "      <th>pulocationid_255</th>\n",
       "      <th>pulocationid_256</th>\n",
       "      <th>pulocationid_257</th>\n",
       "      <th>pulocationid_258</th>\n",
       "      <th>pulocationid_259</th>\n",
       "      <th>pulocationid_260</th>\n",
       "      <th>pulocationid_261</th>\n",
       "      <th>pulocationid_262</th>\n",
       "      <th>pulocationid_263</th>\n",
       "    </tr>\n",
       "  </thead>\n",
       "  <tbody>\n",
       "    <tr>\n",
       "      <th>0</th>\n",
       "      <td>2022-11-01</td>\n",
       "      <td>0</td>\n",
       "      <td>3</td>\n",
       "      <td>4</td>\n",
       "      <td>False</td>\n",
       "      <td>2.6</td>\n",
       "      <td>792.0</td>\n",
       "      <td>14484.0</td>\n",
       "      <td>16.1</td>\n",
       "      <td>12.2</td>\n",
       "      <td>...</td>\n",
       "      <td>0</td>\n",
       "      <td>0</td>\n",
       "      <td>0</td>\n",
       "      <td>0</td>\n",
       "      <td>0</td>\n",
       "      <td>0</td>\n",
       "      <td>0</td>\n",
       "      <td>0</td>\n",
       "      <td>0</td>\n",
       "      <td>0</td>\n",
       "    </tr>\n",
       "    <tr>\n",
       "      <th>1</th>\n",
       "      <td>2022-11-01</td>\n",
       "      <td>0</td>\n",
       "      <td>3</td>\n",
       "      <td>2</td>\n",
       "      <td>False</td>\n",
       "      <td>2.6</td>\n",
       "      <td>792.0</td>\n",
       "      <td>14484.0</td>\n",
       "      <td>16.1</td>\n",
       "      <td>12.2</td>\n",
       "      <td>...</td>\n",
       "      <td>0</td>\n",
       "      <td>0</td>\n",
       "      <td>0</td>\n",
       "      <td>0</td>\n",
       "      <td>0</td>\n",
       "      <td>0</td>\n",
       "      <td>0</td>\n",
       "      <td>0</td>\n",
       "      <td>0</td>\n",
       "      <td>0</td>\n",
       "    </tr>\n",
       "    <tr>\n",
       "      <th>2</th>\n",
       "      <td>2022-11-01</td>\n",
       "      <td>0</td>\n",
       "      <td>3</td>\n",
       "      <td>2</td>\n",
       "      <td>False</td>\n",
       "      <td>2.6</td>\n",
       "      <td>792.0</td>\n",
       "      <td>14484.0</td>\n",
       "      <td>16.1</td>\n",
       "      <td>12.2</td>\n",
       "      <td>...</td>\n",
       "      <td>0</td>\n",
       "      <td>0</td>\n",
       "      <td>0</td>\n",
       "      <td>0</td>\n",
       "      <td>0</td>\n",
       "      <td>0</td>\n",
       "      <td>0</td>\n",
       "      <td>0</td>\n",
       "      <td>0</td>\n",
       "      <td>0</td>\n",
       "    </tr>\n",
       "    <tr>\n",
       "      <th>3</th>\n",
       "      <td>2022-11-01</td>\n",
       "      <td>0</td>\n",
       "      <td>3</td>\n",
       "      <td>2</td>\n",
       "      <td>False</td>\n",
       "      <td>2.6</td>\n",
       "      <td>792.0</td>\n",
       "      <td>14484.0</td>\n",
       "      <td>16.1</td>\n",
       "      <td>12.2</td>\n",
       "      <td>...</td>\n",
       "      <td>0</td>\n",
       "      <td>0</td>\n",
       "      <td>0</td>\n",
       "      <td>0</td>\n",
       "      <td>0</td>\n",
       "      <td>0</td>\n",
       "      <td>0</td>\n",
       "      <td>0</td>\n",
       "      <td>0</td>\n",
       "      <td>0</td>\n",
       "    </tr>\n",
       "    <tr>\n",
       "      <th>4</th>\n",
       "      <td>2022-11-01</td>\n",
       "      <td>0</td>\n",
       "      <td>3</td>\n",
       "      <td>4</td>\n",
       "      <td>False</td>\n",
       "      <td>2.6</td>\n",
       "      <td>792.0</td>\n",
       "      <td>14484.0</td>\n",
       "      <td>16.1</td>\n",
       "      <td>12.2</td>\n",
       "      <td>...</td>\n",
       "      <td>0</td>\n",
       "      <td>0</td>\n",
       "      <td>0</td>\n",
       "      <td>0</td>\n",
       "      <td>0</td>\n",
       "      <td>0</td>\n",
       "      <td>0</td>\n",
       "      <td>0</td>\n",
       "      <td>0</td>\n",
       "      <td>0</td>\n",
       "    </tr>\n",
       "  </tbody>\n",
       "</table>\n",
       "<p>5 rows × 271 columns</p>\n",
       "</div>"
      ],
      "text/plain": [
       "         date  hour  day_week  num_trips  is_weekend_holiday  wind_speed  \\\n",
       "0  2022-11-01     0         3          4               False         2.6   \n",
       "1  2022-11-01     0         3          2               False         2.6   \n",
       "2  2022-11-01     0         3          2               False         2.6   \n",
       "3  2022-11-01     0         3          2               False         2.6   \n",
       "4  2022-11-01     0         3          4               False         2.6   \n",
       "\n",
       "   ceiling_height  distance_dimension  temperature  dew_point_temp  ...  \\\n",
       "0           792.0             14484.0         16.1            12.2  ...   \n",
       "1           792.0             14484.0         16.1            12.2  ...   \n",
       "2           792.0             14484.0         16.1            12.2  ...   \n",
       "3           792.0             14484.0         16.1            12.2  ...   \n",
       "4           792.0             14484.0         16.1            12.2  ...   \n",
       "\n",
       "   pulocationid_254  pulocationid_255  pulocationid_256  pulocationid_257  \\\n",
       "0                 0                 0                 0                 0   \n",
       "1                 0                 0                 0                 0   \n",
       "2                 0                 0                 0                 0   \n",
       "3                 0                 0                 0                 0   \n",
       "4                 0                 0                 0                 0   \n",
       "\n",
       "   pulocationid_258  pulocationid_259  pulocationid_260  pulocationid_261  \\\n",
       "0                 0                 0                 0                 0   \n",
       "1                 0                 0                 0                 0   \n",
       "2                 0                 0                 0                 0   \n",
       "3                 0                 0                 0                 0   \n",
       "4                 0                 0                 0                 0   \n",
       "\n",
       "   pulocationid_262  pulocationid_263  \n",
       "0                 0                 0  \n",
       "1                 0                 0  \n",
       "2                 0                 0  \n",
       "3                 0                 0  \n",
       "4                 0                 0  \n",
       "\n",
       "[5 rows x 271 columns]"
      ]
     },
     "execution_count": 150,
     "metadata": {},
     "output_type": "execute_result"
    }
   ],
   "source": [
    "hourly_demand.head()"
   ]
  },
  {
   "cell_type": "code",
   "execution_count": 151,
   "metadata": {},
   "outputs": [],
   "source": [
    "hourly_demand.to_parquet('../data/curated/hourly_demand.parquet')"
   ]
  },
  {
   "cell_type": "code",
   "execution_count": 152,
   "metadata": {},
   "outputs": [],
   "source": [
    "hourly_demand = spark.read.parquet('../data/curated/hourly_demand.parquet')"
   ]
  },
  {
   "cell_type": "code",
   "execution_count": 153,
   "metadata": {},
   "outputs": [
    {
     "data": {
      "text/plain": [
       "438234"
      ]
     },
     "execution_count": 153,
     "metadata": {},
     "output_type": "execute_result"
    }
   ],
   "source": [
    "hourly_demand.count()"
   ]
  },
  {
   "cell_type": "code",
   "execution_count": 154,
   "metadata": {},
   "outputs": [],
   "source": [
    "# sample the may data which is used for prediction later\n",
    "may_month = (\"2023-05-01\",  \"2023-05-31\")\n",
    "demand_may = hourly_demand.filter(F.col('Date').between(*may_month))"
   ]
  },
  {
   "cell_type": "code",
   "execution_count": 155,
   "metadata": {},
   "outputs": [
    {
     "name": "stderr",
     "output_type": "stream",
     "text": [
      "[Stage 326:>                                                        (0 + 1) / 1]\r"
     ]
    },
    {
     "name": "stdout",
     "output_type": "stream",
     "text": [
      "+----------+----+--------+---------+------------------+----------+--------------+------------------+-----------+--------------+------------+--------------+--------------+--------------+--------------+--------------+--------------+--------------+--------------+--------------+---------------+---------------+---------------+---------------+---------------+---------------+---------------+---------------+---------------+---------------+---------------+---------------+---------------+---------------+---------------+---------------+---------------+---------------+---------------+---------------+---------------+---------------+---------------+---------------+---------------+---------------+---------------+---------------+---------------+---------------+---------------+---------------+---------------+---------------+---------------+---------------+---------------+---------------+---------------+---------------+---------------+---------------+---------------+---------------+---------------+---------------+---------------+---------------+---------------+---------------+---------------+---------------+---------------+---------------+---------------+---------------+---------------+---------------+---------------+---------------+---------------+---------------+---------------+---------------+---------------+---------------+---------------+---------------+---------------+---------------+---------------+---------------+---------------+---------------+---------------+---------------+---------------+---------------+---------------+---------------+---------------+---------------+---------------+---------------+---------------+---------------+---------------+---------------+---------------+---------------+----------------+----------------+----------------+----------------+----------------+----------------+----------------+----------------+----------------+----------------+----------------+----------------+----------------+----------------+----------------+----------------+----------------+----------------+----------------+----------------+----------------+----------------+----------------+----------------+----------------+----------------+----------------+----------------+----------------+----------------+----------------+----------------+----------------+----------------+----------------+----------------+----------------+----------------+----------------+----------------+----------------+----------------+----------------+----------------+----------------+----------------+----------------+----------------+----------------+----------------+----------------+----------------+----------------+----------------+----------------+----------------+----------------+----------------+----------------+----------------+----------------+----------------+----------------+----------------+----------------+----------------+----------------+----------------+----------------+----------------+----------------+----------------+----------------+----------------+----------------+----------------+----------------+----------------+----------------+----------------+----------------+----------------+----------------+----------------+----------------+----------------+----------------+----------------+----------------+----------------+----------------+----------------+----------------+----------------+----------------+----------------+----------------+----------------+----------------+----------------+----------------+----------------+----------------+----------------+----------------+----------------+----------------+----------------+----------------+----------------+----------------+----------------+----------------+----------------+----------------+----------------+----------------+----------------+----------------+----------------+----------------+----------------+----------------+----------------+----------------+----------------+----------------+----------------+----------------+----------------+----------------+----------------+----------------+----------------+----------------+----------------+----------------+----------------+----------------+----------------+----------------+----------------+----------------+----------------+----------------+----------------+----------------+----------------+----------------+----------------+----------------+----------------+----------------+----------------+----------------+----------------+----------------+----------------+----------------+----------------+----------------+\n",
      "|      date|hour|day_week|num_trips|is_weekend_holiday|wind_speed|ceiling_height|distance_dimension|temperature|dew_point_temp|atm_pressure|pulocationid_1|pulocationid_2|pulocationid_3|pulocationid_4|pulocationid_5|pulocationid_6|pulocationid_7|pulocationid_8|pulocationid_9|pulocationid_10|pulocationid_11|pulocationid_12|pulocationid_13|pulocationid_14|pulocationid_15|pulocationid_16|pulocationid_17|pulocationid_18|pulocationid_19|pulocationid_20|pulocationid_21|pulocationid_22|pulocationid_23|pulocationid_24|pulocationid_25|pulocationid_26|pulocationid_27|pulocationid_28|pulocationid_29|pulocationid_30|pulocationid_31|pulocationid_32|pulocationid_33|pulocationid_34|pulocationid_35|pulocationid_36|pulocationid_37|pulocationid_38|pulocationid_39|pulocationid_40|pulocationid_41|pulocationid_42|pulocationid_43|pulocationid_44|pulocationid_45|pulocationid_46|pulocationid_47|pulocationid_48|pulocationid_49|pulocationid_50|pulocationid_51|pulocationid_52|pulocationid_53|pulocationid_54|pulocationid_55|pulocationid_56|pulocationid_57|pulocationid_58|pulocationid_59|pulocationid_60|pulocationid_61|pulocationid_62|pulocationid_63|pulocationid_64|pulocationid_65|pulocationid_66|pulocationid_67|pulocationid_68|pulocationid_69|pulocationid_70|pulocationid_71|pulocationid_72|pulocationid_73|pulocationid_74|pulocationid_75|pulocationid_76|pulocationid_77|pulocationid_78|pulocationid_79|pulocationid_80|pulocationid_81|pulocationid_82|pulocationid_83|pulocationid_84|pulocationid_85|pulocationid_86|pulocationid_87|pulocationid_88|pulocationid_89|pulocationid_90|pulocationid_91|pulocationid_92|pulocationid_93|pulocationid_94|pulocationid_95|pulocationid_96|pulocationid_97|pulocationid_98|pulocationid_99|pulocationid_100|pulocationid_101|pulocationid_102|pulocationid_105|pulocationid_106|pulocationid_107|pulocationid_108|pulocationid_109|pulocationid_111|pulocationid_112|pulocationid_113|pulocationid_114|pulocationid_115|pulocationid_116|pulocationid_117|pulocationid_118|pulocationid_119|pulocationid_120|pulocationid_121|pulocationid_122|pulocationid_123|pulocationid_124|pulocationid_125|pulocationid_126|pulocationid_127|pulocationid_128|pulocationid_129|pulocationid_130|pulocationid_131|pulocationid_132|pulocationid_133|pulocationid_134|pulocationid_135|pulocationid_136|pulocationid_137|pulocationid_138|pulocationid_139|pulocationid_140|pulocationid_141|pulocationid_142|pulocationid_143|pulocationid_144|pulocationid_145|pulocationid_146|pulocationid_147|pulocationid_148|pulocationid_149|pulocationid_150|pulocationid_151|pulocationid_152|pulocationid_153|pulocationid_154|pulocationid_155|pulocationid_156|pulocationid_157|pulocationid_158|pulocationid_159|pulocationid_160|pulocationid_161|pulocationid_162|pulocationid_163|pulocationid_164|pulocationid_165|pulocationid_166|pulocationid_167|pulocationid_168|pulocationid_169|pulocationid_170|pulocationid_171|pulocationid_172|pulocationid_173|pulocationid_174|pulocationid_175|pulocationid_176|pulocationid_177|pulocationid_178|pulocationid_179|pulocationid_180|pulocationid_181|pulocationid_182|pulocationid_183|pulocationid_184|pulocationid_185|pulocationid_186|pulocationid_187|pulocationid_188|pulocationid_189|pulocationid_190|pulocationid_191|pulocationid_192|pulocationid_193|pulocationid_194|pulocationid_195|pulocationid_196|pulocationid_197|pulocationid_198|pulocationid_199|pulocationid_200|pulocationid_201|pulocationid_202|pulocationid_203|pulocationid_204|pulocationid_205|pulocationid_206|pulocationid_207|pulocationid_208|pulocationid_209|pulocationid_210|pulocationid_211|pulocationid_212|pulocationid_213|pulocationid_214|pulocationid_215|pulocationid_216|pulocationid_217|pulocationid_218|pulocationid_219|pulocationid_220|pulocationid_221|pulocationid_222|pulocationid_223|pulocationid_224|pulocationid_225|pulocationid_226|pulocationid_227|pulocationid_228|pulocationid_229|pulocationid_230|pulocationid_231|pulocationid_232|pulocationid_233|pulocationid_234|pulocationid_235|pulocationid_236|pulocationid_237|pulocationid_238|pulocationid_239|pulocationid_240|pulocationid_241|pulocationid_242|pulocationid_243|pulocationid_244|pulocationid_245|pulocationid_246|pulocationid_247|pulocationid_248|pulocationid_249|pulocationid_250|pulocationid_251|pulocationid_252|pulocationid_253|pulocationid_254|pulocationid_255|pulocationid_256|pulocationid_257|pulocationid_258|pulocationid_259|pulocationid_260|pulocationid_261|pulocationid_262|pulocationid_263|\n",
      "+----------+----+--------+---------+------------------+----------+--------------+------------------+-----------+--------------+------------+--------------+--------------+--------------+--------------+--------------+--------------+--------------+--------------+--------------+---------------+---------------+---------------+---------------+---------------+---------------+---------------+---------------+---------------+---------------+---------------+---------------+---------------+---------------+---------------+---------------+---------------+---------------+---------------+---------------+---------------+---------------+---------------+---------------+---------------+---------------+---------------+---------------+---------------+---------------+---------------+---------------+---------------+---------------+---------------+---------------+---------------+---------------+---------------+---------------+---------------+---------------+---------------+---------------+---------------+---------------+---------------+---------------+---------------+---------------+---------------+---------------+---------------+---------------+---------------+---------------+---------------+---------------+---------------+---------------+---------------+---------------+---------------+---------------+---------------+---------------+---------------+---------------+---------------+---------------+---------------+---------------+---------------+---------------+---------------+---------------+---------------+---------------+---------------+---------------+---------------+---------------+---------------+---------------+---------------+---------------+---------------+---------------+---------------+---------------+----------------+----------------+----------------+----------------+----------------+----------------+----------------+----------------+----------------+----------------+----------------+----------------+----------------+----------------+----------------+----------------+----------------+----------------+----------------+----------------+----------------+----------------+----------------+----------------+----------------+----------------+----------------+----------------+----------------+----------------+----------------+----------------+----------------+----------------+----------------+----------------+----------------+----------------+----------------+----------------+----------------+----------------+----------------+----------------+----------------+----------------+----------------+----------------+----------------+----------------+----------------+----------------+----------------+----------------+----------------+----------------+----------------+----------------+----------------+----------------+----------------+----------------+----------------+----------------+----------------+----------------+----------------+----------------+----------------+----------------+----------------+----------------+----------------+----------------+----------------+----------------+----------------+----------------+----------------+----------------+----------------+----------------+----------------+----------------+----------------+----------------+----------------+----------------+----------------+----------------+----------------+----------------+----------------+----------------+----------------+----------------+----------------+----------------+----------------+----------------+----------------+----------------+----------------+----------------+----------------+----------------+----------------+----------------+----------------+----------------+----------------+----------------+----------------+----------------+----------------+----------------+----------------+----------------+----------------+----------------+----------------+----------------+----------------+----------------+----------------+----------------+----------------+----------------+----------------+----------------+----------------+----------------+----------------+----------------+----------------+----------------+----------------+----------------+----------------+----------------+----------------+----------------+----------------+----------------+----------------+----------------+----------------+----------------+----------------+----------------+----------------+----------------+----------------+----------------+----------------+----------------+----------------+----------------+----------------+----------------+----------------+\n",
      "|2023-05-01|   0|       2|        1|             false|       5.1|         183.0|            3219.0|       16.1|          15.6|       988.3|             0|             0|             0|             1|             0|             0|             0|             0|             0|              0|              0|              0|              0|              0|              0|              0|              0|              0|              0|              0|              0|              0|              0|              0|              0|              0|              0|              0|              0|              0|              0|              0|              0|              0|              0|              0|              0|              0|              0|              0|              0|              0|              0|              0|              0|              0|              0|              0|              0|              0|              0|              0|              0|              0|              0|              0|              0|              0|              0|              0|              0|              0|              0|              0|              0|              0|              0|              0|              0|              0|              0|              0|              0|              0|              0|              0|              0|              0|              0|              0|              0|              0|              0|              0|              0|              0|              0|              0|              0|              0|              0|              0|              0|              0|              0|              0|              0|              0|              0|               0|               0|               0|               0|               0|               0|               0|               0|               0|               0|               0|               0|               0|               0|               0|               0|               0|               0|               0|               0|               0|               0|               0|               0|               0|               0|               0|               0|               0|               0|               0|               0|               0|               0|               0|               0|               0|               0|               0|               0|               0|               0|               0|               0|               0|               0|               0|               0|               0|               0|               0|               0|               0|               0|               0|               0|               0|               0|               0|               0|               0|               0|               0|               0|               0|               0|               0|               0|               0|               0|               0|               0|               0|               0|               0|               0|               0|               0|               0|               0|               0|               0|               0|               0|               0|               0|               0|               0|               0|               0|               0|               0|               0|               0|               0|               0|               0|               0|               0|               0|               0|               0|               0|               0|               0|               0|               0|               0|               0|               0|               0|               0|               0|               0|               0|               0|               0|               0|               0|               0|               0|               0|               0|               0|               0|               0|               0|               0|               0|               0|               0|               0|               0|               0|               0|               0|               0|               0|               0|               0|               0|               0|               0|               0|               0|               0|               0|               0|               0|               0|               0|               0|               0|               0|               0|               0|               0|               0|               0|               0|               0|\n",
      "|2023-05-01|   0|       2|        2|             false|       5.1|         183.0|            3219.0|       16.1|          15.6|       988.3|             0|             0|             0|             0|             0|             0|             1|             0|             0|              0|              0|              0|              0|              0|              0|              0|              0|              0|              0|              0|              0|              0|              0|              0|              0|              0|              0|              0|              0|              0|              0|              0|              0|              0|              0|              0|              0|              0|              0|              0|              0|              0|              0|              0|              0|              0|              0|              0|              0|              0|              0|              0|              0|              0|              0|              0|              0|              0|              0|              0|              0|              0|              0|              0|              0|              0|              0|              0|              0|              0|              0|              0|              0|              0|              0|              0|              0|              0|              0|              0|              0|              0|              0|              0|              0|              0|              0|              0|              0|              0|              0|              0|              0|              0|              0|              0|              0|              0|              0|               0|               0|               0|               0|               0|               0|               0|               0|               0|               0|               0|               0|               0|               0|               0|               0|               0|               0|               0|               0|               0|               0|               0|               0|               0|               0|               0|               0|               0|               0|               0|               0|               0|               0|               0|               0|               0|               0|               0|               0|               0|               0|               0|               0|               0|               0|               0|               0|               0|               0|               0|               0|               0|               0|               0|               0|               0|               0|               0|               0|               0|               0|               0|               0|               0|               0|               0|               0|               0|               0|               0|               0|               0|               0|               0|               0|               0|               0|               0|               0|               0|               0|               0|               0|               0|               0|               0|               0|               0|               0|               0|               0|               0|               0|               0|               0|               0|               0|               0|               0|               0|               0|               0|               0|               0|               0|               0|               0|               0|               0|               0|               0|               0|               0|               0|               0|               0|               0|               0|               0|               0|               0|               0|               0|               0|               0|               0|               0|               0|               0|               0|               0|               0|               0|               0|               0|               0|               0|               0|               0|               0|               0|               0|               0|               0|               0|               0|               0|               0|               0|               0|               0|               0|               0|               0|               0|               0|               0|               0|               0|               0|\n",
      "|2023-05-01|   0|       2|        2|             false|       5.1|         183.0|            3219.0|       16.1|          15.6|       988.3|             0|             0|             0|             0|             0|             0|             0|             0|             0|              0|              0|              0|              0|              0|              0|              0|              0|              0|              0|              0|              0|              0|              0|              1|              0|              0|              0|              0|              0|              0|              0|              0|              0|              0|              0|              0|              0|              0|              0|              0|              0|              0|              0|              0|              0|              0|              0|              0|              0|              0|              0|              0|              0|              0|              0|              0|              0|              0|              0|              0|              0|              0|              0|              0|              0|              0|              0|              0|              0|              0|              0|              0|              0|              0|              0|              0|              0|              0|              0|              0|              0|              0|              0|              0|              0|              0|              0|              0|              0|              0|              0|              0|              0|              0|              0|              0|              0|              0|              0|               0|               0|               0|               0|               0|               0|               0|               0|               0|               0|               0|               0|               0|               0|               0|               0|               0|               0|               0|               0|               0|               0|               0|               0|               0|               0|               0|               0|               0|               0|               0|               0|               0|               0|               0|               0|               0|               0|               0|               0|               0|               0|               0|               0|               0|               0|               0|               0|               0|               0|               0|               0|               0|               0|               0|               0|               0|               0|               0|               0|               0|               0|               0|               0|               0|               0|               0|               0|               0|               0|               0|               0|               0|               0|               0|               0|               0|               0|               0|               0|               0|               0|               0|               0|               0|               0|               0|               0|               0|               0|               0|               0|               0|               0|               0|               0|               0|               0|               0|               0|               0|               0|               0|               0|               0|               0|               0|               0|               0|               0|               0|               0|               0|               0|               0|               0|               0|               0|               0|               0|               0|               0|               0|               0|               0|               0|               0|               0|               0|               0|               0|               0|               0|               0|               0|               0|               0|               0|               0|               0|               0|               0|               0|               0|               0|               0|               0|               0|               0|               0|               0|               0|               0|               0|               0|               0|               0|               0|               0|               0|               0|\n",
      "|2023-05-01|   0|       2|        1|             false|       5.1|         183.0|            3219.0|       16.1|          15.6|       988.3|             0|             0|             0|             0|             0|             0|             0|             0|             0|              0|              0|              0|              0|              0|              0|              0|              0|              0|              0|              0|              0|              0|              0|              0|              1|              0|              0|              0|              0|              0|              0|              0|              0|              0|              0|              0|              0|              0|              0|              0|              0|              0|              0|              0|              0|              0|              0|              0|              0|              0|              0|              0|              0|              0|              0|              0|              0|              0|              0|              0|              0|              0|              0|              0|              0|              0|              0|              0|              0|              0|              0|              0|              0|              0|              0|              0|              0|              0|              0|              0|              0|              0|              0|              0|              0|              0|              0|              0|              0|              0|              0|              0|              0|              0|              0|              0|              0|              0|              0|               0|               0|               0|               0|               0|               0|               0|               0|               0|               0|               0|               0|               0|               0|               0|               0|               0|               0|               0|               0|               0|               0|               0|               0|               0|               0|               0|               0|               0|               0|               0|               0|               0|               0|               0|               0|               0|               0|               0|               0|               0|               0|               0|               0|               0|               0|               0|               0|               0|               0|               0|               0|               0|               0|               0|               0|               0|               0|               0|               0|               0|               0|               0|               0|               0|               0|               0|               0|               0|               0|               0|               0|               0|               0|               0|               0|               0|               0|               0|               0|               0|               0|               0|               0|               0|               0|               0|               0|               0|               0|               0|               0|               0|               0|               0|               0|               0|               0|               0|               0|               0|               0|               0|               0|               0|               0|               0|               0|               0|               0|               0|               0|               0|               0|               0|               0|               0|               0|               0|               0|               0|               0|               0|               0|               0|               0|               0|               0|               0|               0|               0|               0|               0|               0|               0|               0|               0|               0|               0|               0|               0|               0|               0|               0|               0|               0|               0|               0|               0|               0|               0|               0|               0|               0|               0|               0|               0|               0|               0|               0|               0|\n",
      "|2023-05-01|   0|       2|        1|             false|       5.1|         183.0|            3219.0|       16.1|          15.6|       988.3|             0|             0|             0|             0|             0|             0|             0|             0|             0|              0|              0|              0|              0|              0|              0|              0|              0|              0|              0|              0|              0|              0|              0|              0|              0|              1|              0|              0|              0|              0|              0|              0|              0|              0|              0|              0|              0|              0|              0|              0|              0|              0|              0|              0|              0|              0|              0|              0|              0|              0|              0|              0|              0|              0|              0|              0|              0|              0|              0|              0|              0|              0|              0|              0|              0|              0|              0|              0|              0|              0|              0|              0|              0|              0|              0|              0|              0|              0|              0|              0|              0|              0|              0|              0|              0|              0|              0|              0|              0|              0|              0|              0|              0|              0|              0|              0|              0|              0|              0|               0|               0|               0|               0|               0|               0|               0|               0|               0|               0|               0|               0|               0|               0|               0|               0|               0|               0|               0|               0|               0|               0|               0|               0|               0|               0|               0|               0|               0|               0|               0|               0|               0|               0|               0|               0|               0|               0|               0|               0|               0|               0|               0|               0|               0|               0|               0|               0|               0|               0|               0|               0|               0|               0|               0|               0|               0|               0|               0|               0|               0|               0|               0|               0|               0|               0|               0|               0|               0|               0|               0|               0|               0|               0|               0|               0|               0|               0|               0|               0|               0|               0|               0|               0|               0|               0|               0|               0|               0|               0|               0|               0|               0|               0|               0|               0|               0|               0|               0|               0|               0|               0|               0|               0|               0|               0|               0|               0|               0|               0|               0|               0|               0|               0|               0|               0|               0|               0|               0|               0|               0|               0|               0|               0|               0|               0|               0|               0|               0|               0|               0|               0|               0|               0|               0|               0|               0|               0|               0|               0|               0|               0|               0|               0|               0|               0|               0|               0|               0|               0|               0|               0|               0|               0|               0|               0|               0|               0|               0|               0|               0|\n",
      "|2023-05-01|   0|       2|        1|             false|       5.1|         183.0|            3219.0|       16.1|          15.6|       988.3|             0|             0|             0|             0|             0|             0|             0|             0|             0|              0|              0|              0|              0|              0|              0|              0|              0|              0|              0|              0|              0|              0|              0|              0|              0|              0|              0|              0|              0|              0|              0|              0|              0|              0|              0|              0|              0|              0|              1|              0|              0|              0|              0|              0|              0|              0|              0|              0|              0|              0|              0|              0|              0|              0|              0|              0|              0|              0|              0|              0|              0|              0|              0|              0|              0|              0|              0|              0|              0|              0|              0|              0|              0|              0|              0|              0|              0|              0|              0|              0|              0|              0|              0|              0|              0|              0|              0|              0|              0|              0|              0|              0|              0|              0|              0|              0|              0|              0|              0|               0|               0|               0|               0|               0|               0|               0|               0|               0|               0|               0|               0|               0|               0|               0|               0|               0|               0|               0|               0|               0|               0|               0|               0|               0|               0|               0|               0|               0|               0|               0|               0|               0|               0|               0|               0|               0|               0|               0|               0|               0|               0|               0|               0|               0|               0|               0|               0|               0|               0|               0|               0|               0|               0|               0|               0|               0|               0|               0|               0|               0|               0|               0|               0|               0|               0|               0|               0|               0|               0|               0|               0|               0|               0|               0|               0|               0|               0|               0|               0|               0|               0|               0|               0|               0|               0|               0|               0|               0|               0|               0|               0|               0|               0|               0|               0|               0|               0|               0|               0|               0|               0|               0|               0|               0|               0|               0|               0|               0|               0|               0|               0|               0|               0|               0|               0|               0|               0|               0|               0|               0|               0|               0|               0|               0|               0|               0|               0|               0|               0|               0|               0|               0|               0|               0|               0|               0|               0|               0|               0|               0|               0|               0|               0|               0|               0|               0|               0|               0|               0|               0|               0|               0|               0|               0|               0|               0|               0|               0|               0|               0|\n",
      "|2023-05-01|   0|       2|        2|             false|       5.1|         183.0|            3219.0|       16.1|          15.6|       988.3|             0|             0|             0|             0|             0|             0|             0|             0|             0|              0|              0|              0|              0|              0|              0|              0|              0|              0|              0|              0|              0|              0|              0|              0|              0|              0|              0|              0|              0|              0|              0|              0|              0|              0|              0|              0|              0|              0|              0|              0|              1|              0|              0|              0|              0|              0|              0|              0|              0|              0|              0|              0|              0|              0|              0|              0|              0|              0|              0|              0|              0|              0|              0|              0|              0|              0|              0|              0|              0|              0|              0|              0|              0|              0|              0|              0|              0|              0|              0|              0|              0|              0|              0|              0|              0|              0|              0|              0|              0|              0|              0|              0|              0|              0|              0|              0|              0|              0|              0|               0|               0|               0|               0|               0|               0|               0|               0|               0|               0|               0|               0|               0|               0|               0|               0|               0|               0|               0|               0|               0|               0|               0|               0|               0|               0|               0|               0|               0|               0|               0|               0|               0|               0|               0|               0|               0|               0|               0|               0|               0|               0|               0|               0|               0|               0|               0|               0|               0|               0|               0|               0|               0|               0|               0|               0|               0|               0|               0|               0|               0|               0|               0|               0|               0|               0|               0|               0|               0|               0|               0|               0|               0|               0|               0|               0|               0|               0|               0|               0|               0|               0|               0|               0|               0|               0|               0|               0|               0|               0|               0|               0|               0|               0|               0|               0|               0|               0|               0|               0|               0|               0|               0|               0|               0|               0|               0|               0|               0|               0|               0|               0|               0|               0|               0|               0|               0|               0|               0|               0|               0|               0|               0|               0|               0|               0|               0|               0|               0|               0|               0|               0|               0|               0|               0|               0|               0|               0|               0|               0|               0|               0|               0|               0|               0|               0|               0|               0|               0|               0|               0|               0|               0|               0|               0|               0|               0|               0|               0|               0|               0|\n",
      "|2023-05-01|   0|       2|        1|             false|       5.1|         183.0|            3219.0|       16.1|          15.6|       988.3|             0|             0|             0|             0|             0|             0|             0|             0|             0|              0|              0|              0|              0|              0|              0|              0|              0|              0|              0|              0|              0|              0|              0|              0|              0|              0|              0|              0|              0|              0|              0|              0|              0|              0|              0|              0|              0|              0|              0|              0|              0|              1|              0|              0|              0|              0|              0|              0|              0|              0|              0|              0|              0|              0|              0|              0|              0|              0|              0|              0|              0|              0|              0|              0|              0|              0|              0|              0|              0|              0|              0|              0|              0|              0|              0|              0|              0|              0|              0|              0|              0|              0|              0|              0|              0|              0|              0|              0|              0|              0|              0|              0|              0|              0|              0|              0|              0|              0|              0|               0|               0|               0|               0|               0|               0|               0|               0|               0|               0|               0|               0|               0|               0|               0|               0|               0|               0|               0|               0|               0|               0|               0|               0|               0|               0|               0|               0|               0|               0|               0|               0|               0|               0|               0|               0|               0|               0|               0|               0|               0|               0|               0|               0|               0|               0|               0|               0|               0|               0|               0|               0|               0|               0|               0|               0|               0|               0|               0|               0|               0|               0|               0|               0|               0|               0|               0|               0|               0|               0|               0|               0|               0|               0|               0|               0|               0|               0|               0|               0|               0|               0|               0|               0|               0|               0|               0|               0|               0|               0|               0|               0|               0|               0|               0|               0|               0|               0|               0|               0|               0|               0|               0|               0|               0|               0|               0|               0|               0|               0|               0|               0|               0|               0|               0|               0|               0|               0|               0|               0|               0|               0|               0|               0|               0|               0|               0|               0|               0|               0|               0|               0|               0|               0|               0|               0|               0|               0|               0|               0|               0|               0|               0|               0|               0|               0|               0|               0|               0|               0|               0|               0|               0|               0|               0|               0|               0|               0|               0|               0|               0|\n",
      "|2023-05-01|   0|       2|        4|             false|       5.1|         183.0|            3219.0|       16.1|          15.6|       988.3|             0|             0|             0|             0|             0|             0|             0|             0|             0|              0|              0|              0|              0|              0|              0|              0|              0|              0|              0|              0|              0|              0|              0|              0|              0|              0|              0|              0|              0|              0|              0|              0|              0|              0|              0|              0|              0|              0|              0|              0|              0|              0|              1|              0|              0|              0|              0|              0|              0|              0|              0|              0|              0|              0|              0|              0|              0|              0|              0|              0|              0|              0|              0|              0|              0|              0|              0|              0|              0|              0|              0|              0|              0|              0|              0|              0|              0|              0|              0|              0|              0|              0|              0|              0|              0|              0|              0|              0|              0|              0|              0|              0|              0|              0|              0|              0|              0|              0|              0|               0|               0|               0|               0|               0|               0|               0|               0|               0|               0|               0|               0|               0|               0|               0|               0|               0|               0|               0|               0|               0|               0|               0|               0|               0|               0|               0|               0|               0|               0|               0|               0|               0|               0|               0|               0|               0|               0|               0|               0|               0|               0|               0|               0|               0|               0|               0|               0|               0|               0|               0|               0|               0|               0|               0|               0|               0|               0|               0|               0|               0|               0|               0|               0|               0|               0|               0|               0|               0|               0|               0|               0|               0|               0|               0|               0|               0|               0|               0|               0|               0|               0|               0|               0|               0|               0|               0|               0|               0|               0|               0|               0|               0|               0|               0|               0|               0|               0|               0|               0|               0|               0|               0|               0|               0|               0|               0|               0|               0|               0|               0|               0|               0|               0|               0|               0|               0|               0|               0|               0|               0|               0|               0|               0|               0|               0|               0|               0|               0|               0|               0|               0|               0|               0|               0|               0|               0|               0|               0|               0|               0|               0|               0|               0|               0|               0|               0|               0|               0|               0|               0|               0|               0|               0|               0|               0|               0|               0|               0|               0|               0|\n",
      "|2023-05-01|   0|       2|       40|             false|       5.1|         183.0|            3219.0|       16.1|          15.6|       988.3|             0|             0|             0|             0|             0|             0|             0|             0|             0|              0|              0|              0|              0|              0|              0|              0|              0|              0|              0|              0|              0|              0|              0|              0|              0|              0|              0|              0|              0|              0|              0|              0|              0|              0|              0|              0|              0|              0|              0|              0|              0|              0|              0|              0|              0|              0|              0|              1|              0|              0|              0|              0|              0|              0|              0|              0|              0|              0|              0|              0|              0|              0|              0|              0|              0|              0|              0|              0|              0|              0|              0|              0|              0|              0|              0|              0|              0|              0|              0|              0|              0|              0|              0|              0|              0|              0|              0|              0|              0|              0|              0|              0|              0|              0|              0|              0|              0|              0|              0|               0|               0|               0|               0|               0|               0|               0|               0|               0|               0|               0|               0|               0|               0|               0|               0|               0|               0|               0|               0|               0|               0|               0|               0|               0|               0|               0|               0|               0|               0|               0|               0|               0|               0|               0|               0|               0|               0|               0|               0|               0|               0|               0|               0|               0|               0|               0|               0|               0|               0|               0|               0|               0|               0|               0|               0|               0|               0|               0|               0|               0|               0|               0|               0|               0|               0|               0|               0|               0|               0|               0|               0|               0|               0|               0|               0|               0|               0|               0|               0|               0|               0|               0|               0|               0|               0|               0|               0|               0|               0|               0|               0|               0|               0|               0|               0|               0|               0|               0|               0|               0|               0|               0|               0|               0|               0|               0|               0|               0|               0|               0|               0|               0|               0|               0|               0|               0|               0|               0|               0|               0|               0|               0|               0|               0|               0|               0|               0|               0|               0|               0|               0|               0|               0|               0|               0|               0|               0|               0|               0|               0|               0|               0|               0|               0|               0|               0|               0|               0|               0|               0|               0|               0|               0|               0|               0|               0|               0|               0|               0|               0|\n",
      "|2023-05-01|   0|       2|        4|             false|       5.1|         183.0|            3219.0|       16.1|          15.6|       988.3|             0|             0|             0|             0|             0|             0|             0|             0|             0|              0|              0|              0|              0|              0|              0|              0|              0|              0|              0|              0|              0|              0|              0|              0|              0|              0|              0|              0|              0|              0|              0|              0|              0|              0|              0|              0|              0|              0|              0|              0|              0|              0|              0|              0|              0|              0|              0|              0|              0|              1|              0|              0|              0|              0|              0|              0|              0|              0|              0|              0|              0|              0|              0|              0|              0|              0|              0|              0|              0|              0|              0|              0|              0|              0|              0|              0|              0|              0|              0|              0|              0|              0|              0|              0|              0|              0|              0|              0|              0|              0|              0|              0|              0|              0|              0|              0|              0|              0|              0|               0|               0|               0|               0|               0|               0|               0|               0|               0|               0|               0|               0|               0|               0|               0|               0|               0|               0|               0|               0|               0|               0|               0|               0|               0|               0|               0|               0|               0|               0|               0|               0|               0|               0|               0|               0|               0|               0|               0|               0|               0|               0|               0|               0|               0|               0|               0|               0|               0|               0|               0|               0|               0|               0|               0|               0|               0|               0|               0|               0|               0|               0|               0|               0|               0|               0|               0|               0|               0|               0|               0|               0|               0|               0|               0|               0|               0|               0|               0|               0|               0|               0|               0|               0|               0|               0|               0|               0|               0|               0|               0|               0|               0|               0|               0|               0|               0|               0|               0|               0|               0|               0|               0|               0|               0|               0|               0|               0|               0|               0|               0|               0|               0|               0|               0|               0|               0|               0|               0|               0|               0|               0|               0|               0|               0|               0|               0|               0|               0|               0|               0|               0|               0|               0|               0|               0|               0|               0|               0|               0|               0|               0|               0|               0|               0|               0|               0|               0|               0|               0|               0|               0|               0|               0|               0|               0|               0|               0|               0|               0|               0|\n",
      "|2023-05-01|   0|       2|       17|             false|       5.1|         183.0|            3219.0|       16.1|          15.6|       988.3|             0|             0|             0|             0|             0|             0|             0|             0|             0|              0|              0|              0|              0|              0|              0|              0|              0|              0|              0|              0|              0|              0|              0|              0|              0|              0|              0|              0|              0|              0|              0|              0|              0|              0|              0|              0|              0|              0|              0|              0|              0|              0|              0|              0|              0|              0|              0|              0|              0|              0|              0|              0|              0|              0|              0|              0|              0|              0|              0|              0|              0|              0|              0|              0|              0|              0|              0|              1|              0|              0|              0|              0|              0|              0|              0|              0|              0|              0|              0|              0|              0|              0|              0|              0|              0|              0|              0|              0|              0|              0|              0|              0|              0|              0|              0|              0|              0|              0|              0|               0|               0|               0|               0|               0|               0|               0|               0|               0|               0|               0|               0|               0|               0|               0|               0|               0|               0|               0|               0|               0|               0|               0|               0|               0|               0|               0|               0|               0|               0|               0|               0|               0|               0|               0|               0|               0|               0|               0|               0|               0|               0|               0|               0|               0|               0|               0|               0|               0|               0|               0|               0|               0|               0|               0|               0|               0|               0|               0|               0|               0|               0|               0|               0|               0|               0|               0|               0|               0|               0|               0|               0|               0|               0|               0|               0|               0|               0|               0|               0|               0|               0|               0|               0|               0|               0|               0|               0|               0|               0|               0|               0|               0|               0|               0|               0|               0|               0|               0|               0|               0|               0|               0|               0|               0|               0|               0|               0|               0|               0|               0|               0|               0|               0|               0|               0|               0|               0|               0|               0|               0|               0|               0|               0|               0|               0|               0|               0|               0|               0|               0|               0|               0|               0|               0|               0|               0|               0|               0|               0|               0|               0|               0|               0|               0|               0|               0|               0|               0|               0|               0|               0|               0|               0|               0|               0|               0|               0|               0|               0|               0|\n",
      "|2023-05-01|   0|       2|       23|             false|       5.1|         183.0|            3219.0|       16.1|          15.6|       988.3|             0|             0|             0|             0|             0|             0|             0|             0|             0|              0|              0|              0|              0|              0|              0|              0|              0|              0|              0|              0|              0|              0|              0|              0|              0|              0|              0|              0|              0|              0|              0|              0|              0|              0|              0|              0|              0|              0|              0|              0|              0|              0|              0|              0|              0|              0|              0|              0|              0|              0|              0|              0|              0|              0|              0|              0|              0|              0|              0|              0|              0|              0|              0|              0|              0|              0|              0|              0|              0|              1|              0|              0|              0|              0|              0|              0|              0|              0|              0|              0|              0|              0|              0|              0|              0|              0|              0|              0|              0|              0|              0|              0|              0|              0|              0|              0|              0|              0|              0|               0|               0|               0|               0|               0|               0|               0|               0|               0|               0|               0|               0|               0|               0|               0|               0|               0|               0|               0|               0|               0|               0|               0|               0|               0|               0|               0|               0|               0|               0|               0|               0|               0|               0|               0|               0|               0|               0|               0|               0|               0|               0|               0|               0|               0|               0|               0|               0|               0|               0|               0|               0|               0|               0|               0|               0|               0|               0|               0|               0|               0|               0|               0|               0|               0|               0|               0|               0|               0|               0|               0|               0|               0|               0|               0|               0|               0|               0|               0|               0|               0|               0|               0|               0|               0|               0|               0|               0|               0|               0|               0|               0|               0|               0|               0|               0|               0|               0|               0|               0|               0|               0|               0|               0|               0|               0|               0|               0|               0|               0|               0|               0|               0|               0|               0|               0|               0|               0|               0|               0|               0|               0|               0|               0|               0|               0|               0|               0|               0|               0|               0|               0|               0|               0|               0|               0|               0|               0|               0|               0|               0|               0|               0|               0|               0|               0|               0|               0|               0|               0|               0|               0|               0|               0|               0|               0|               0|               0|               0|               0|               0|\n",
      "|2023-05-01|   0|       2|        3|             false|       5.1|         183.0|            3219.0|       16.1|          15.6|       988.3|             0|             0|             0|             0|             0|             0|             0|             0|             0|              0|              0|              0|              0|              0|              0|              0|              0|              0|              0|              0|              0|              0|              0|              0|              0|              0|              0|              0|              0|              0|              0|              0|              0|              0|              0|              0|              0|              0|              0|              0|              0|              0|              0|              0|              0|              0|              0|              0|              0|              0|              0|              0|              0|              0|              0|              0|              0|              0|              0|              0|              0|              0|              0|              0|              0|              0|              0|              0|              0|              0|              0|              0|              0|              1|              0|              0|              0|              0|              0|              0|              0|              0|              0|              0|              0|              0|              0|              0|              0|              0|              0|              0|              0|              0|              0|              0|              0|              0|              0|               0|               0|               0|               0|               0|               0|               0|               0|               0|               0|               0|               0|               0|               0|               0|               0|               0|               0|               0|               0|               0|               0|               0|               0|               0|               0|               0|               0|               0|               0|               0|               0|               0|               0|               0|               0|               0|               0|               0|               0|               0|               0|               0|               0|               0|               0|               0|               0|               0|               0|               0|               0|               0|               0|               0|               0|               0|               0|               0|               0|               0|               0|               0|               0|               0|               0|               0|               0|               0|               0|               0|               0|               0|               0|               0|               0|               0|               0|               0|               0|               0|               0|               0|               0|               0|               0|               0|               0|               0|               0|               0|               0|               0|               0|               0|               0|               0|               0|               0|               0|               0|               0|               0|               0|               0|               0|               0|               0|               0|               0|               0|               0|               0|               0|               0|               0|               0|               0|               0|               0|               0|               0|               0|               0|               0|               0|               0|               0|               0|               0|               0|               0|               0|               0|               0|               0|               0|               0|               0|               0|               0|               0|               0|               0|               0|               0|               0|               0|               0|               0|               0|               0|               0|               0|               0|               0|               0|               0|               0|               0|               0|\n",
      "|2023-05-01|   0|       2|        3|             false|       5.1|         183.0|            3219.0|       16.1|          15.6|       988.3|             0|             0|             0|             0|             0|             0|             0|             0|             0|              0|              0|              0|              0|              0|              0|              0|              0|              0|              0|              0|              0|              0|              0|              0|              0|              0|              0|              0|              0|              0|              0|              0|              0|              0|              0|              0|              0|              0|              0|              0|              0|              0|              0|              0|              0|              0|              0|              0|              0|              0|              0|              0|              0|              0|              0|              0|              0|              0|              0|              0|              0|              0|              0|              0|              0|              0|              0|              0|              0|              0|              0|              0|              0|              0|              1|              0|              0|              0|              0|              0|              0|              0|              0|              0|              0|              0|              0|              0|              0|              0|              0|              0|              0|              0|              0|              0|              0|              0|              0|               0|               0|               0|               0|               0|               0|               0|               0|               0|               0|               0|               0|               0|               0|               0|               0|               0|               0|               0|               0|               0|               0|               0|               0|               0|               0|               0|               0|               0|               0|               0|               0|               0|               0|               0|               0|               0|               0|               0|               0|               0|               0|               0|               0|               0|               0|               0|               0|               0|               0|               0|               0|               0|               0|               0|               0|               0|               0|               0|               0|               0|               0|               0|               0|               0|               0|               0|               0|               0|               0|               0|               0|               0|               0|               0|               0|               0|               0|               0|               0|               0|               0|               0|               0|               0|               0|               0|               0|               0|               0|               0|               0|               0|               0|               0|               0|               0|               0|               0|               0|               0|               0|               0|               0|               0|               0|               0|               0|               0|               0|               0|               0|               0|               0|               0|               0|               0|               0|               0|               0|               0|               0|               0|               0|               0|               0|               0|               0|               0|               0|               0|               0|               0|               0|               0|               0|               0|               0|               0|               0|               0|               0|               0|               0|               0|               0|               0|               0|               0|               0|               0|               0|               0|               0|               0|               0|               0|               0|               0|               0|               0|\n",
      "|2023-05-01|   0|       2|       26|             false|       5.1|         183.0|            3219.0|       16.1|          15.6|       988.3|             0|             0|             0|             0|             0|             0|             0|             0|             0|              0|              0|              0|              0|              0|              0|              0|              0|              0|              0|              0|              0|              0|              0|              0|              0|              0|              0|              0|              0|              0|              0|              0|              0|              0|              0|              0|              0|              0|              0|              0|              0|              0|              0|              0|              0|              0|              0|              0|              0|              0|              0|              0|              0|              0|              0|              0|              0|              0|              0|              0|              0|              0|              0|              0|              0|              0|              0|              0|              0|              0|              0|              0|              0|              0|              0|              0|              0|              0|              1|              0|              0|              0|              0|              0|              0|              0|              0|              0|              0|              0|              0|              0|              0|              0|              0|              0|              0|              0|              0|               0|               0|               0|               0|               0|               0|               0|               0|               0|               0|               0|               0|               0|               0|               0|               0|               0|               0|               0|               0|               0|               0|               0|               0|               0|               0|               0|               0|               0|               0|               0|               0|               0|               0|               0|               0|               0|               0|               0|               0|               0|               0|               0|               0|               0|               0|               0|               0|               0|               0|               0|               0|               0|               0|               0|               0|               0|               0|               0|               0|               0|               0|               0|               0|               0|               0|               0|               0|               0|               0|               0|               0|               0|               0|               0|               0|               0|               0|               0|               0|               0|               0|               0|               0|               0|               0|               0|               0|               0|               0|               0|               0|               0|               0|               0|               0|               0|               0|               0|               0|               0|               0|               0|               0|               0|               0|               0|               0|               0|               0|               0|               0|               0|               0|               0|               0|               0|               0|               0|               0|               0|               0|               0|               0|               0|               0|               0|               0|               0|               0|               0|               0|               0|               0|               0|               0|               0|               0|               0|               0|               0|               0|               0|               0|               0|               0|               0|               0|               0|               0|               0|               0|               0|               0|               0|               0|               0|               0|               0|               0|               0|\n",
      "|2023-05-01|   0|       2|        1|             false|       5.1|         183.0|            3219.0|       16.1|          15.6|       988.3|             0|             0|             0|             0|             0|             0|             0|             0|             0|              0|              0|              0|              0|              0|              0|              0|              0|              0|              0|              0|              0|              0|              0|              0|              0|              0|              0|              0|              0|              0|              0|              0|              0|              0|              0|              0|              0|              0|              0|              0|              0|              0|              0|              0|              0|              0|              0|              0|              0|              0|              0|              0|              0|              0|              0|              0|              0|              0|              0|              0|              0|              0|              0|              0|              0|              0|              0|              0|              0|              0|              0|              0|              0|              0|              0|              0|              0|              0|              0|              0|              0|              1|              0|              0|              0|              0|              0|              0|              0|              0|              0|              0|              0|              0|              0|              0|              0|              0|              0|               0|               0|               0|               0|               0|               0|               0|               0|               0|               0|               0|               0|               0|               0|               0|               0|               0|               0|               0|               0|               0|               0|               0|               0|               0|               0|               0|               0|               0|               0|               0|               0|               0|               0|               0|               0|               0|               0|               0|               0|               0|               0|               0|               0|               0|               0|               0|               0|               0|               0|               0|               0|               0|               0|               0|               0|               0|               0|               0|               0|               0|               0|               0|               0|               0|               0|               0|               0|               0|               0|               0|               0|               0|               0|               0|               0|               0|               0|               0|               0|               0|               0|               0|               0|               0|               0|               0|               0|               0|               0|               0|               0|               0|               0|               0|               0|               0|               0|               0|               0|               0|               0|               0|               0|               0|               0|               0|               0|               0|               0|               0|               0|               0|               0|               0|               0|               0|               0|               0|               0|               0|               0|               0|               0|               0|               0|               0|               0|               0|               0|               0|               0|               0|               0|               0|               0|               0|               0|               0|               0|               0|               0|               0|               0|               0|               0|               0|               0|               0|               0|               0|               0|               0|               0|               0|               0|               0|               0|               0|               0|               0|\n",
      "|2023-05-01|   0|       2|        2|             false|       5.1|         183.0|            3219.0|       16.1|          15.6|       988.3|             0|             0|             0|             0|             0|             0|             0|             0|             0|              0|              0|              0|              0|              0|              0|              0|              0|              0|              0|              0|              0|              0|              0|              0|              0|              0|              0|              0|              0|              0|              0|              0|              0|              0|              0|              0|              0|              0|              0|              0|              0|              0|              0|              0|              0|              0|              0|              0|              0|              0|              0|              0|              0|              0|              0|              0|              0|              0|              0|              0|              0|              0|              0|              0|              0|              0|              0|              0|              0|              0|              0|              0|              0|              0|              0|              0|              0|              0|              0|              0|              0|              0|              0|              0|              0|              0|              1|              0|              0|              0|              0|              0|              0|              0|              0|              0|              0|              0|              0|               0|               0|               0|               0|               0|               0|               0|               0|               0|               0|               0|               0|               0|               0|               0|               0|               0|               0|               0|               0|               0|               0|               0|               0|               0|               0|               0|               0|               0|               0|               0|               0|               0|               0|               0|               0|               0|               0|               0|               0|               0|               0|               0|               0|               0|               0|               0|               0|               0|               0|               0|               0|               0|               0|               0|               0|               0|               0|               0|               0|               0|               0|               0|               0|               0|               0|               0|               0|               0|               0|               0|               0|               0|               0|               0|               0|               0|               0|               0|               0|               0|               0|               0|               0|               0|               0|               0|               0|               0|               0|               0|               0|               0|               0|               0|               0|               0|               0|               0|               0|               0|               0|               0|               0|               0|               0|               0|               0|               0|               0|               0|               0|               0|               0|               0|               0|               0|               0|               0|               0|               0|               0|               0|               0|               0|               0|               0|               0|               0|               0|               0|               0|               0|               0|               0|               0|               0|               0|               0|               0|               0|               0|               0|               0|               0|               0|               0|               0|               0|               0|               0|               0|               0|               0|               0|               0|               0|               0|               0|               0|               0|\n",
      "|2023-05-01|   0|       2|       22|             false|       5.1|         183.0|            3219.0|       16.1|          15.6|       988.3|             0|             0|             0|             0|             0|             0|             0|             0|             0|              0|              0|              0|              0|              0|              0|              0|              0|              0|              0|              0|              0|              0|              0|              0|              0|              0|              0|              0|              0|              0|              0|              0|              0|              0|              0|              0|              0|              0|              0|              0|              0|              0|              0|              0|              0|              0|              0|              0|              0|              0|              0|              0|              0|              0|              0|              0|              0|              0|              0|              0|              0|              0|              0|              0|              0|              0|              0|              0|              0|              0|              0|              0|              0|              0|              0|              0|              0|              0|              0|              0|              0|              0|              0|              0|              0|              0|              0|              0|              0|              1|              0|              0|              0|              0|              0|              0|              0|              0|              0|               0|               0|               0|               0|               0|               0|               0|               0|               0|               0|               0|               0|               0|               0|               0|               0|               0|               0|               0|               0|               0|               0|               0|               0|               0|               0|               0|               0|               0|               0|               0|               0|               0|               0|               0|               0|               0|               0|               0|               0|               0|               0|               0|               0|               0|               0|               0|               0|               0|               0|               0|               0|               0|               0|               0|               0|               0|               0|               0|               0|               0|               0|               0|               0|               0|               0|               0|               0|               0|               0|               0|               0|               0|               0|               0|               0|               0|               0|               0|               0|               0|               0|               0|               0|               0|               0|               0|               0|               0|               0|               0|               0|               0|               0|               0|               0|               0|               0|               0|               0|               0|               0|               0|               0|               0|               0|               0|               0|               0|               0|               0|               0|               0|               0|               0|               0|               0|               0|               0|               0|               0|               0|               0|               0|               0|               0|               0|               0|               0|               0|               0|               0|               0|               0|               0|               0|               0|               0|               0|               0|               0|               0|               0|               0|               0|               0|               0|               0|               0|               0|               0|               0|               0|               0|               0|               0|               0|               0|               0|               0|               0|\n",
      "|2023-05-01|   0|       2|        1|             false|       5.1|         183.0|            3219.0|       16.1|          15.6|       988.3|             0|             0|             0|             0|             0|             0|             0|             0|             0|              0|              0|              0|              0|              0|              0|              0|              0|              0|              0|              0|              0|              0|              0|              0|              0|              0|              0|              0|              0|              0|              0|              0|              0|              0|              0|              0|              0|              0|              0|              0|              0|              0|              0|              0|              0|              0|              0|              0|              0|              0|              0|              0|              0|              0|              0|              0|              0|              0|              0|              0|              0|              0|              0|              0|              0|              0|              0|              0|              0|              0|              0|              0|              0|              0|              0|              0|              0|              0|              0|              0|              0|              0|              0|              0|              0|              0|              0|              0|              0|              0|              0|              0|              1|              0|              0|              0|              0|              0|              0|               0|               0|               0|               0|               0|               0|               0|               0|               0|               0|               0|               0|               0|               0|               0|               0|               0|               0|               0|               0|               0|               0|               0|               0|               0|               0|               0|               0|               0|               0|               0|               0|               0|               0|               0|               0|               0|               0|               0|               0|               0|               0|               0|               0|               0|               0|               0|               0|               0|               0|               0|               0|               0|               0|               0|               0|               0|               0|               0|               0|               0|               0|               0|               0|               0|               0|               0|               0|               0|               0|               0|               0|               0|               0|               0|               0|               0|               0|               0|               0|               0|               0|               0|               0|               0|               0|               0|               0|               0|               0|               0|               0|               0|               0|               0|               0|               0|               0|               0|               0|               0|               0|               0|               0|               0|               0|               0|               0|               0|               0|               0|               0|               0|               0|               0|               0|               0|               0|               0|               0|               0|               0|               0|               0|               0|               0|               0|               0|               0|               0|               0|               0|               0|               0|               0|               0|               0|               0|               0|               0|               0|               0|               0|               0|               0|               0|               0|               0|               0|               0|               0|               0|               0|               0|               0|               0|               0|               0|               0|               0|               0|\n",
      "+----------+----+--------+---------+------------------+----------+--------------+------------------+-----------+--------------+------------+--------------+--------------+--------------+--------------+--------------+--------------+--------------+--------------+--------------+---------------+---------------+---------------+---------------+---------------+---------------+---------------+---------------+---------------+---------------+---------------+---------------+---------------+---------------+---------------+---------------+---------------+---------------+---------------+---------------+---------------+---------------+---------------+---------------+---------------+---------------+---------------+---------------+---------------+---------------+---------------+---------------+---------------+---------------+---------------+---------------+---------------+---------------+---------------+---------------+---------------+---------------+---------------+---------------+---------------+---------------+---------------+---------------+---------------+---------------+---------------+---------------+---------------+---------------+---------------+---------------+---------------+---------------+---------------+---------------+---------------+---------------+---------------+---------------+---------------+---------------+---------------+---------------+---------------+---------------+---------------+---------------+---------------+---------------+---------------+---------------+---------------+---------------+---------------+---------------+---------------+---------------+---------------+---------------+---------------+---------------+---------------+---------------+---------------+---------------+----------------+----------------+----------------+----------------+----------------+----------------+----------------+----------------+----------------+----------------+----------------+----------------+----------------+----------------+----------------+----------------+----------------+----------------+----------------+----------------+----------------+----------------+----------------+----------------+----------------+----------------+----------------+----------------+----------------+----------------+----------------+----------------+----------------+----------------+----------------+----------------+----------------+----------------+----------------+----------------+----------------+----------------+----------------+----------------+----------------+----------------+----------------+----------------+----------------+----------------+----------------+----------------+----------------+----------------+----------------+----------------+----------------+----------------+----------------+----------------+----------------+----------------+----------------+----------------+----------------+----------------+----------------+----------------+----------------+----------------+----------------+----------------+----------------+----------------+----------------+----------------+----------------+----------------+----------------+----------------+----------------+----------------+----------------+----------------+----------------+----------------+----------------+----------------+----------------+----------------+----------------+----------------+----------------+----------------+----------------+----------------+----------------+----------------+----------------+----------------+----------------+----------------+----------------+----------------+----------------+----------------+----------------+----------------+----------------+----------------+----------------+----------------+----------------+----------------+----------------+----------------+----------------+----------------+----------------+----------------+----------------+----------------+----------------+----------------+----------------+----------------+----------------+----------------+----------------+----------------+----------------+----------------+----------------+----------------+----------------+----------------+----------------+----------------+----------------+----------------+----------------+----------------+----------------+----------------+----------------+----------------+----------------+----------------+----------------+----------------+----------------+----------------+----------------+----------------+----------------+----------------+----------------+----------------+----------------+----------------+----------------+\n",
      "only showing top 20 rows\n",
      "\n"
     ]
    },
    {
     "name": "stderr",
     "output_type": "stream",
     "text": [
      "                                                                                \r"
     ]
    }
   ],
   "source": [
    "demand_may.show()"
   ]
  },
  {
   "cell_type": "code",
   "execution_count": 156,
   "metadata": {},
   "outputs": [
    {
     "data": {
      "text/plain": [
       "63869"
      ]
     },
     "execution_count": 156,
     "metadata": {},
     "output_type": "execute_result"
    }
   ],
   "source": [
    "demand_may.count()"
   ]
  },
  {
   "cell_type": "code",
   "execution_count": 164,
   "metadata": {},
   "outputs": [
    {
     "name": "stderr",
     "output_type": "stream",
     "text": [
      "                                                                                \r"
     ]
    }
   ],
   "source": [
    "# sample the data to be used for training data in modelling\n",
    "train_months = (\"2022-11-01\", '2023-04-30')\n",
    "df = hourly_demand.filter(F.col('date').between(*train_months)).sample(SAMPLE_SIZE, seed = 0)\n",
    "df.write.mode('overwrite').parquet('../data/curated/sample_data.parquet')\n"
   ]
  },
  {
   "cell_type": "code",
   "execution_count": 165,
   "metadata": {},
   "outputs": [
    {
     "data": {
      "text/plain": [
       "74806"
      ]
     },
     "execution_count": 165,
     "metadata": {},
     "output_type": "execute_result"
    }
   ],
   "source": [
    "df.count()"
   ]
  },
  {
   "cell_type": "code",
   "execution_count": 166,
   "metadata": {},
   "outputs": [
    {
     "name": "stderr",
     "output_type": "stream",
     "text": [
      "                                                                                \r"
     ]
    }
   ],
   "source": [
    "may_df = demand_may.sample(SAMPLE_SIZE, seed = 0).toPandas()\n",
    "may_df.to_parquet('../data/curated/may_sample_data.parquet')"
   ]
  },
  {
   "cell_type": "code",
   "execution_count": 167,
   "metadata": {},
   "outputs": [
    {
     "name": "stdout",
     "output_type": "stream",
     "text": [
      "12825\n"
     ]
    }
   ],
   "source": [
    "print(len(may_df))"
   ]
  }
 ],
 "metadata": {
  "kernelspec": {
   "display_name": "mast30034_env",
   "language": "python",
   "name": "python3"
  },
  "language_info": {
   "codemirror_mode": {
    "name": "ipython",
    "version": 3
   },
   "file_extension": ".py",
   "mimetype": "text/x-python",
   "name": "python",
   "nbconvert_exporter": "python",
   "pygments_lexer": "ipython3",
   "version": "3.9.17"
  },
  "orig_nbformat": 4
 },
 "nbformat": 4,
 "nbformat_minor": 2
}
