{
 "cells": [
  {
   "cell_type": "code",
   "execution_count": 1,
   "metadata": {},
   "outputs": [
    {
     "name": "stdout",
     "output_type": "stream",
     "text": [
      "Intel MKL WARNING: Support of Intel(R) Streaming SIMD Extensions 4.2 (Intel(R) SSE4.2) enabled only processors has been deprecated. Intel oneAPI Math Kernel Library 2025.0 will require Intel(R) Advanced Vector Extensions (Intel(R) AVX) instructions.\n",
      "Intel MKL WARNING: Support of Intel(R) Streaming SIMD Extensions 4.2 (Intel(R) SSE4.2) enabled only processors has been deprecated. Intel oneAPI Math Kernel Library 2025.0 will require Intel(R) Advanced Vector Extensions (Intel(R) AVX) instructions.\n"
     ]
    },
    {
     "name": "stderr",
     "output_type": "stream",
     "text": [
      "23/08/25 09:25:26 WARN Utils: Your hostname, Ungs-MacBook-Pro.local resolves to a loopback address: 127.0.0.1; using 192.168.0.17 instead (on interface en0)\n",
      "23/08/25 09:25:26 WARN Utils: Set SPARK_LOCAL_IP if you need to bind to another address\n",
      "Setting default log level to \"WARN\".\n",
      "To adjust logging level use sc.setLogLevel(newLevel). For SparkR, use setLogLevel(newLevel).\n",
      "23/08/25 09:25:27 WARN NativeCodeLoader: Unable to load native-hadoop library for your platform... using builtin-java classes where applicable\n",
      "23/08/25 09:25:27 WARN Utils: Service 'SparkUI' could not bind on port 4040. Attempting port 4041.\n",
      "23/08/25 09:25:27 WARN Utils: Service 'SparkUI' could not bind on port 4041. Attempting port 4042.\n"
     ]
    }
   ],
   "source": [
    "from pyspark.sql import SparkSession, functions as F\n",
    "\n",
    "\n",
    "# Create a spark session (which will run spark jobs)\n",
    "spark = (\n",
    "    SparkSession.builder.appName(\"MAST30034 Tutorial 2\")\n",
    "    .config(\"spark.sql.repl.eagerEval.enabled\", True)\n",
    "    .config(\"spark.sql.parquet.cacheMetadata\", \"true\")\n",
    "    .config(\"spark.sql.session.timeZone\", \"Etc/UTC\")\n",
    "    .config('spark.driver.memory', '4g')\n",
    "    .config('spark.executor.memory', '2g')\n",
    "    .getOrCreate()\n",
    ")"
   ]
  },
  {
   "cell_type": "markdown",
   "metadata": {},
   "source": [
    "# Preprocess the taxi dataset"
   ]
  },
  {
   "cell_type": "code",
   "execution_count": 2,
   "metadata": {},
   "outputs": [
    {
     "name": "stderr",
     "output_type": "stream",
     "text": [
      "                                                                                \r"
     ]
    },
    {
     "name": "stdout",
     "output_type": "stream",
     "text": [
      "root\n",
      " |-- VendorID: long (nullable = true)\n",
      " |-- tpep_pickup_datetime: timestamp_ntz (nullable = true)\n",
      " |-- tpep_dropoff_datetime: timestamp_ntz (nullable = true)\n",
      " |-- passenger_count: double (nullable = true)\n",
      " |-- trip_distance: double (nullable = true)\n",
      " |-- RatecodeID: double (nullable = true)\n",
      " |-- store_and_fwd_flag: string (nullable = true)\n",
      " |-- PULocationID: long (nullable = true)\n",
      " |-- DOLocationID: long (nullable = true)\n",
      " |-- payment_type: long (nullable = true)\n",
      " |-- fare_amount: double (nullable = true)\n",
      " |-- extra: double (nullable = true)\n",
      " |-- mta_tax: double (nullable = true)\n",
      " |-- tip_amount: double (nullable = true)\n",
      " |-- tolls_amount: double (nullable = true)\n",
      " |-- improvement_surcharge: double (nullable = true)\n",
      " |-- total_amount: double (nullable = true)\n",
      " |-- congestion_surcharge: double (nullable = true)\n",
      " |-- airport_fee: double (nullable = true)\n",
      "\n"
     ]
    },
    {
     "name": "stderr",
     "output_type": "stream",
     "text": [
      "                                                                                \r"
     ]
    },
    {
     "data": {
      "text/plain": [
       "3066766"
      ]
     },
     "execution_count": 2,
     "metadata": {},
     "output_type": "execute_result"
    }
   ],
   "source": [
    "ydf_jan = spark.read.parquet('../data/landing/2023-01-yellow.parquet')\n",
    "ydf_jan.printSchema()\n",
    "ydf_jan.count()"
   ]
  },
  {
   "cell_type": "code",
   "execution_count": 3,
   "metadata": {},
   "outputs": [
    {
     "name": "stdout",
     "output_type": "stream",
     "text": [
      "root\n",
      " |-- VendorID: long (nullable = true)\n",
      " |-- lpep_pickup_datetime: timestamp_ntz (nullable = true)\n",
      " |-- lpep_dropoff_datetime: timestamp_ntz (nullable = true)\n",
      " |-- store_and_fwd_flag: string (nullable = true)\n",
      " |-- RatecodeID: double (nullable = true)\n",
      " |-- PULocationID: long (nullable = true)\n",
      " |-- DOLocationID: long (nullable = true)\n",
      " |-- passenger_count: double (nullable = true)\n",
      " |-- trip_distance: double (nullable = true)\n",
      " |-- fare_amount: double (nullable = true)\n",
      " |-- extra: double (nullable = true)\n",
      " |-- mta_tax: double (nullable = true)\n",
      " |-- tip_amount: double (nullable = true)\n",
      " |-- tolls_amount: double (nullable = true)\n",
      " |-- ehail_fee: integer (nullable = true)\n",
      " |-- improvement_surcharge: double (nullable = true)\n",
      " |-- total_amount: double (nullable = true)\n",
      " |-- payment_type: double (nullable = true)\n",
      " |-- trip_type: double (nullable = true)\n",
      " |-- congestion_surcharge: double (nullable = true)\n",
      "\n"
     ]
    },
    {
     "data": {
      "text/plain": [
       "68211"
      ]
     },
     "execution_count": 3,
     "metadata": {},
     "output_type": "execute_result"
    }
   ],
   "source": [
    "gdf_jan = spark.read.parquet('../data/landing/2023-01-green.parquet')\n",
    "gdf_jan.printSchema()\n",
    "gdf_jan.count()"
   ]
  },
  {
   "cell_type": "code",
   "execution_count": 4,
   "metadata": {},
   "outputs": [
    {
     "name": "stdout",
     "output_type": "stream",
     "text": [
      "root\n",
      " |-- VendorID: integer (nullable = true)\n",
      " |-- lpep_pickup_datetime: timestamp_ntz (nullable = true)\n",
      " |-- lpep_dropoff_datetime: timestamp_ntz (nullable = true)\n",
      " |-- store_and_fwd_flag: string (nullable = true)\n",
      " |-- RatecodeID: long (nullable = true)\n",
      " |-- PULocationID: integer (nullable = true)\n",
      " |-- DOLocationID: integer (nullable = true)\n",
      " |-- passenger_count: long (nullable = true)\n",
      " |-- trip_distance: double (nullable = true)\n",
      " |-- fare_amount: double (nullable = true)\n",
      " |-- extra: double (nullable = true)\n",
      " |-- mta_tax: double (nullable = true)\n",
      " |-- tip_amount: double (nullable = true)\n",
      " |-- tolls_amount: double (nullable = true)\n",
      " |-- ehail_fee: double (nullable = true)\n",
      " |-- improvement_surcharge: double (nullable = true)\n",
      " |-- total_amount: double (nullable = true)\n",
      " |-- payment_type: long (nullable = true)\n",
      " |-- trip_type: long (nullable = true)\n",
      " |-- congestion_surcharge: double (nullable = true)\n",
      "\n"
     ]
    },
    {
     "data": {
      "text/plain": [
       "64809"
      ]
     },
     "execution_count": 4,
     "metadata": {},
     "output_type": "execute_result"
    }
   ],
   "source": [
    "gdf_feb = spark.read.parquet('../data/landing/2023-02-green.parquet')\n",
    "gdf_feb.printSchema()\n",
    "gdf_feb.count()"
   ]
  },
  {
   "cell_type": "code",
   "execution_count": 5,
   "metadata": {},
   "outputs": [
    {
     "name": "stdout",
     "output_type": "stream",
     "text": [
      "root\n",
      " |-- VendorID: long (nullable = true)\n",
      " |-- tpep_pickup_datetime: timestamp_ntz (nullable = true)\n",
      " |-- tpep_dropoff_datetime: timestamp_ntz (nullable = true)\n",
      " |-- passenger_count: double (nullable = true)\n",
      " |-- trip_distance: double (nullable = true)\n",
      " |-- RatecodeID: double (nullable = true)\n",
      " |-- store_and_fwd_flag: string (nullable = true)\n",
      " |-- PULocationID: long (nullable = true)\n",
      " |-- DOLocationID: long (nullable = true)\n",
      " |-- payment_type: long (nullable = true)\n",
      " |-- fare_amount: double (nullable = true)\n",
      " |-- extra: double (nullable = true)\n",
      " |-- mta_tax: double (nullable = true)\n",
      " |-- tip_amount: double (nullable = true)\n",
      " |-- tolls_amount: double (nullable = true)\n",
      " |-- improvement_surcharge: double (nullable = true)\n",
      " |-- total_amount: double (nullable = true)\n",
      " |-- congestion_surcharge: double (nullable = true)\n",
      " |-- airport_fee: double (nullable = true)\n",
      "\n"
     ]
    },
    {
     "data": {
      "text/plain": [
       "3399549"
      ]
     },
     "execution_count": 5,
     "metadata": {},
     "output_type": "execute_result"
    }
   ],
   "source": [
    "ydf_dec = spark.read.parquet('../data/landing/2022-12-yellow.parquet')\n",
    "ydf_dec.printSchema()\n",
    "ydf_dec.count()"
   ]
  },
  {
   "cell_type": "code",
   "execution_count": 6,
   "metadata": {},
   "outputs": [
    {
     "name": "stdout",
     "output_type": "stream",
     "text": [
      "root\n",
      " |-- VendorID: long (nullable = true)\n",
      " |-- lpep_pickup_datetime: timestamp_ntz (nullable = true)\n",
      " |-- lpep_dropoff_datetime: timestamp_ntz (nullable = true)\n",
      " |-- store_and_fwd_flag: string (nullable = true)\n",
      " |-- RatecodeID: double (nullable = true)\n",
      " |-- PULocationID: long (nullable = true)\n",
      " |-- DOLocationID: long (nullable = true)\n",
      " |-- passenger_count: double (nullable = true)\n",
      " |-- trip_distance: double (nullable = true)\n",
      " |-- fare_amount: double (nullable = true)\n",
      " |-- extra: double (nullable = true)\n",
      " |-- mta_tax: double (nullable = true)\n",
      " |-- tip_amount: double (nullable = true)\n",
      " |-- tolls_amount: double (nullable = true)\n",
      " |-- ehail_fee: integer (nullable = true)\n",
      " |-- improvement_surcharge: double (nullable = true)\n",
      " |-- total_amount: double (nullable = true)\n",
      " |-- payment_type: double (nullable = true)\n",
      " |-- trip_type: double (nullable = true)\n",
      " |-- congestion_surcharge: double (nullable = true)\n",
      "\n"
     ]
    },
    {
     "data": {
      "text/plain": [
       "72439"
      ]
     },
     "execution_count": 6,
     "metadata": {},
     "output_type": "execute_result"
    }
   ],
   "source": [
    "gdf_dec = spark.read.parquet('../data/landing/2022-12-green.parquet')\n",
    "gdf_dec.printSchema()\n",
    "gdf_dec.count()"
   ]
  },
  {
   "cell_type": "code",
   "execution_count": 7,
   "metadata": {},
   "outputs": [
    {
     "name": "stdout",
     "output_type": "stream",
     "text": [
      "root\n",
      " |-- VendorID: integer (nullable = true)\n",
      " |-- tpep_pickup_datetime: timestamp_ntz (nullable = true)\n",
      " |-- tpep_dropoff_datetime: timestamp_ntz (nullable = true)\n",
      " |-- passenger_count: long (nullable = true)\n",
      " |-- trip_distance: double (nullable = true)\n",
      " |-- RatecodeID: long (nullable = true)\n",
      " |-- store_and_fwd_flag: string (nullable = true)\n",
      " |-- PULocationID: integer (nullable = true)\n",
      " |-- DOLocationID: integer (nullable = true)\n",
      " |-- payment_type: long (nullable = true)\n",
      " |-- fare_amount: double (nullable = true)\n",
      " |-- extra: double (nullable = true)\n",
      " |-- mta_tax: double (nullable = true)\n",
      " |-- tip_amount: double (nullable = true)\n",
      " |-- tolls_amount: double (nullable = true)\n",
      " |-- improvement_surcharge: double (nullable = true)\n",
      " |-- total_amount: double (nullable = true)\n",
      " |-- congestion_surcharge: double (nullable = true)\n",
      " |-- Airport_fee: double (nullable = true)\n",
      "\n"
     ]
    },
    {
     "data": {
      "text/plain": [
       "3288250"
      ]
     },
     "execution_count": 7,
     "metadata": {},
     "output_type": "execute_result"
    }
   ],
   "source": [
    "ydf_apr = spark.read.parquet('../data/landing/2023-04-yellow.parquet')\n",
    "ydf_apr.printSchema()\n",
    "ydf_apr.count()"
   ]
  },
  {
   "cell_type": "code",
   "execution_count": 8,
   "metadata": {},
   "outputs": [
    {
     "name": "stdout",
     "output_type": "stream",
     "text": [
      "root\n",
      " |-- VendorID: integer (nullable = true)\n",
      " |-- tpep_pickup_datetime: timestamp_ntz (nullable = true)\n",
      " |-- tpep_dropoff_datetime: timestamp_ntz (nullable = true)\n",
      " |-- passenger_count: long (nullable = true)\n",
      " |-- trip_distance: double (nullable = true)\n",
      " |-- RatecodeID: long (nullable = true)\n",
      " |-- store_and_fwd_flag: string (nullable = true)\n",
      " |-- PULocationID: integer (nullable = true)\n",
      " |-- DOLocationID: integer (nullable = true)\n",
      " |-- payment_type: long (nullable = true)\n",
      " |-- fare_amount: double (nullable = true)\n",
      " |-- extra: double (nullable = true)\n",
      " |-- mta_tax: double (nullable = true)\n",
      " |-- tip_amount: double (nullable = true)\n",
      " |-- tolls_amount: double (nullable = true)\n",
      " |-- improvement_surcharge: double (nullable = true)\n",
      " |-- total_amount: double (nullable = true)\n",
      " |-- congestion_surcharge: double (nullable = true)\n",
      " |-- Airport_fee: double (nullable = true)\n",
      "\n"
     ]
    },
    {
     "data": {
      "text/plain": [
       "3513649"
      ]
     },
     "execution_count": 8,
     "metadata": {},
     "output_type": "execute_result"
    }
   ],
   "source": [
    "sdf_may = spark.read.parquet('../data/landing/2023-05-yellow.parquet')\n",
    "sdf_may.printSchema()\n",
    "sdf_may.count()"
   ]
  },
  {
   "cell_type": "code",
   "execution_count": 9,
   "metadata": {},
   "outputs": [],
   "source": [
    "# now, we want to ensure everything has consistent casing to make our lives easier\n",
    "consistent_col_casing = [F.col(col_name).alias(col_name.lower()) for col_name in gdf_feb.columns]\n",
    "gdf_feb = gdf_feb.select(*consistent_col_casing)\n",
    "\n",
    "# this will be used in the cell below when reading in\n",
    "gdf_schema = gdf_feb.schema\n",
    "ydf_schema = ydf_apr.schema"
   ]
  },
  {
   "cell_type": "code",
   "execution_count": 10,
   "metadata": {},
   "outputs": [],
   "source": [
    "def preprocess(sdf, month, year, colour):\n",
    "    \"\"\"\n",
    "    Make the features in the dataset has the same data types and\n",
    "    remove some irrelevant features.\n",
    "\n",
    "    Parameters:\n",
    "    - sdf: Pyspark dataframe ready to be preprocessed\n",
    "    - month: Month of the dataset being collected.\n",
    "    - year: Year of the dataset being collected.\n",
    "    - colour: Colour of the taxi dataset\n",
    "    \"\"\"\n",
    "\n",
    "    if colour == 'yellow':\n",
    "        required_cols = ('trip_distance', 'tpep_pickup_datetime', 'tpep_dropoff_datetime',\n",
    "        'pulocationid', 'dolocationid', 'fare_amount', 'passenger_count')\n",
    "        sdf_schema = ydf_schema\n",
    "    else:\n",
    "        required_cols = ('trip_distance', 'lpep_pickup_datetime', 'lpep_dropoff_datetime',\n",
    "        'pulocationid', 'dolocationid', 'fare_amount', 'passenger_count')  \n",
    "        sdf_schema = gdf_schema  \n",
    "    sdf = sdf \\\n",
    "        .select([F.col(c).cast(sdf_schema[i].dataType) for i, c in enumerate(sdf.columns)])\n",
    "    \n",
    "    sdf = sdf.select(*required_cols)\n",
    "\n",
    "    # output the preprocessed dataset to the raw folder\n",
    "    sdf \\\n",
    "        .coalesce(1) \\\n",
    "        .write \\\n",
    "        .mode('overwrite') \\\n",
    "        .parquet(f'../data/raw/{year}-{str(month).zfill(2)}-{colour}')"
   ]
  },
  {
   "cell_type": "code",
   "execution_count": 11,
   "metadata": {},
   "outputs": [
    {
     "name": "stderr",
     "output_type": "stream",
     "text": [
      "ERROR:root:KeyboardInterrupt while sending command.                 (0 + 0) / 1]\n",
      "Traceback (most recent call last):\n",
      "  File \"/opt/anaconda3/envs/mast30034_env/lib/python3.9/site-packages/py4j/java_gateway.py\", line 1038, in send_command\n",
      "    response = connection.send_command(command)\n",
      "  File \"/opt/anaconda3/envs/mast30034_env/lib/python3.9/site-packages/py4j/clientserver.py\", line 511, in send_command\n",
      "    answer = smart_decode(self.stream.readline()[:-1])\n",
      "  File \"/opt/anaconda3/envs/mast30034_env/lib/python3.9/socket.py\", line 704, in readinto\n",
      "    return self._sock.recv_into(b)\n",
      "KeyboardInterrupt\n",
      "[Stage 41:>                                                         (0 + 1) / 1]\r"
     ]
    },
    {
     "ename": "KeyboardInterrupt",
     "evalue": "",
     "output_type": "error",
     "traceback": [
      "\u001b[0;31m---------------------------------------------------------------------------\u001b[0m",
      "\u001b[0;31mKeyboardInterrupt\u001b[0m                         Traceback (most recent call last)",
      "Cell \u001b[0;32mIn[11], line 6\u001b[0m\n\u001b[1;32m      3\u001b[0m         input_path \u001b[39m=\u001b[39m \u001b[39mf\u001b[39m\u001b[39m'\u001b[39m\u001b[39m../data/landing/2023-\u001b[39m\u001b[39m{\u001b[39;00m\u001b[39mstr\u001b[39m(month)\u001b[39m.\u001b[39mzfill(\u001b[39m2\u001b[39m)\u001b[39m}\u001b[39;00m\u001b[39m-\u001b[39m\u001b[39m{\u001b[39;00mcolour\u001b[39m}\u001b[39;00m\u001b[39m.parquet\u001b[39m\u001b[39m'\u001b[39m\n\u001b[1;32m      5\u001b[0m         sdf \u001b[39m=\u001b[39m spark\u001b[39m.\u001b[39mread\u001b[39m.\u001b[39mparquet(input_path)\n\u001b[0;32m----> 6\u001b[0m         preprocess(sdf, month, \u001b[39m2023\u001b[39;49m, colour)\n\u001b[1;32m      8\u001b[0m \u001b[39mfor\u001b[39;00m month \u001b[39min\u001b[39;00m [\u001b[39m11\u001b[39m,\u001b[39m12\u001b[39m]:\n\u001b[1;32m      9\u001b[0m     \u001b[39mfor\u001b[39;00m colour \u001b[39min\u001b[39;00m [\u001b[39m'\u001b[39m\u001b[39myellow\u001b[39m\u001b[39m'\u001b[39m, \u001b[39m'\u001b[39m\u001b[39mgreen\u001b[39m\u001b[39m'\u001b[39m]:\n",
      "Cell \u001b[0;32mIn[10], line 15\u001b[0m, in \u001b[0;36mpreprocess\u001b[0;34m(sdf, month, year, colour)\u001b[0m\n\u001b[1;32m     10\u001b[0m sdf \u001b[39m=\u001b[39m sdf \\\n\u001b[1;32m     11\u001b[0m     \u001b[39m.\u001b[39mselect([F\u001b[39m.\u001b[39mcol(c)\u001b[39m.\u001b[39mcast(sdf_schema[i]\u001b[39m.\u001b[39mdataType) \u001b[39mfor\u001b[39;00m i, c \u001b[39min\u001b[39;00m \u001b[39menumerate\u001b[39m(sdf\u001b[39m.\u001b[39mcolumns)])\n\u001b[1;32m     13\u001b[0m sdf \u001b[39m=\u001b[39m sdf\u001b[39m.\u001b[39mselect(\u001b[39m*\u001b[39mrequired_cols)\n\u001b[0;32m---> 15\u001b[0m sdf \\\n\u001b[1;32m     16\u001b[0m     \u001b[39m.\u001b[39;49mcoalesce(\u001b[39m1\u001b[39;49m) \\\n\u001b[1;32m     17\u001b[0m     \u001b[39m.\u001b[39;49mwrite \\\n\u001b[1;32m     18\u001b[0m     \u001b[39m.\u001b[39;49mmode(\u001b[39m'\u001b[39;49m\u001b[39moverwrite\u001b[39;49m\u001b[39m'\u001b[39;49m) \\\n\u001b[1;32m     19\u001b[0m     \u001b[39m.\u001b[39;49mparquet(\u001b[39mf\u001b[39;49m\u001b[39m'\u001b[39;49m\u001b[39m../data/raw/\u001b[39;49m\u001b[39m{\u001b[39;49;00myear\u001b[39m}\u001b[39;49;00m\u001b[39m-\u001b[39;49m\u001b[39m{\u001b[39;49;00m\u001b[39mstr\u001b[39;49m(month)\u001b[39m.\u001b[39;49mzfill(\u001b[39m2\u001b[39;49m)\u001b[39m}\u001b[39;49;00m\u001b[39m-\u001b[39;49m\u001b[39m{\u001b[39;49;00mcolour\u001b[39m}\u001b[39;49;00m\u001b[39m'\u001b[39;49m)\n",
      "File \u001b[0;32m/opt/anaconda3/envs/mast30034_env/lib/python3.9/site-packages/pyspark/sql/readwriter.py:1656\u001b[0m, in \u001b[0;36mDataFrameWriter.parquet\u001b[0;34m(self, path, mode, partitionBy, compression)\u001b[0m\n\u001b[1;32m   1654\u001b[0m     \u001b[39mself\u001b[39m\u001b[39m.\u001b[39mpartitionBy(partitionBy)\n\u001b[1;32m   1655\u001b[0m \u001b[39mself\u001b[39m\u001b[39m.\u001b[39m_set_opts(compression\u001b[39m=\u001b[39mcompression)\n\u001b[0;32m-> 1656\u001b[0m \u001b[39mself\u001b[39;49m\u001b[39m.\u001b[39;49m_jwrite\u001b[39m.\u001b[39;49mparquet(path)\n",
      "File \u001b[0;32m/opt/anaconda3/envs/mast30034_env/lib/python3.9/site-packages/py4j/java_gateway.py:1321\u001b[0m, in \u001b[0;36mJavaMember.__call__\u001b[0;34m(self, *args)\u001b[0m\n\u001b[1;32m   1314\u001b[0m args_command, temp_args \u001b[39m=\u001b[39m \u001b[39mself\u001b[39m\u001b[39m.\u001b[39m_build_args(\u001b[39m*\u001b[39margs)\n\u001b[1;32m   1316\u001b[0m command \u001b[39m=\u001b[39m proto\u001b[39m.\u001b[39mCALL_COMMAND_NAME \u001b[39m+\u001b[39m\\\n\u001b[1;32m   1317\u001b[0m     \u001b[39mself\u001b[39m\u001b[39m.\u001b[39mcommand_header \u001b[39m+\u001b[39m\\\n\u001b[1;32m   1318\u001b[0m     args_command \u001b[39m+\u001b[39m\\\n\u001b[1;32m   1319\u001b[0m     proto\u001b[39m.\u001b[39mEND_COMMAND_PART\n\u001b[0;32m-> 1321\u001b[0m answer \u001b[39m=\u001b[39m \u001b[39mself\u001b[39;49m\u001b[39m.\u001b[39;49mgateway_client\u001b[39m.\u001b[39;49msend_command(command)\n\u001b[1;32m   1322\u001b[0m return_value \u001b[39m=\u001b[39m get_return_value(\n\u001b[1;32m   1323\u001b[0m     answer, \u001b[39mself\u001b[39m\u001b[39m.\u001b[39mgateway_client, \u001b[39mself\u001b[39m\u001b[39m.\u001b[39mtarget_id, \u001b[39mself\u001b[39m\u001b[39m.\u001b[39mname)\n\u001b[1;32m   1325\u001b[0m \u001b[39mfor\u001b[39;00m temp_arg \u001b[39min\u001b[39;00m temp_args:\n",
      "File \u001b[0;32m/opt/anaconda3/envs/mast30034_env/lib/python3.9/site-packages/py4j/java_gateway.py:1038\u001b[0m, in \u001b[0;36mGatewayClient.send_command\u001b[0;34m(self, command, retry, binary)\u001b[0m\n\u001b[1;32m   1036\u001b[0m connection \u001b[39m=\u001b[39m \u001b[39mself\u001b[39m\u001b[39m.\u001b[39m_get_connection()\n\u001b[1;32m   1037\u001b[0m \u001b[39mtry\u001b[39;00m:\n\u001b[0;32m-> 1038\u001b[0m     response \u001b[39m=\u001b[39m connection\u001b[39m.\u001b[39;49msend_command(command)\n\u001b[1;32m   1039\u001b[0m     \u001b[39mif\u001b[39;00m binary:\n\u001b[1;32m   1040\u001b[0m         \u001b[39mreturn\u001b[39;00m response, \u001b[39mself\u001b[39m\u001b[39m.\u001b[39m_create_connection_guard(connection)\n",
      "File \u001b[0;32m/opt/anaconda3/envs/mast30034_env/lib/python3.9/site-packages/py4j/clientserver.py:511\u001b[0m, in \u001b[0;36mClientServerConnection.send_command\u001b[0;34m(self, command)\u001b[0m\n\u001b[1;32m    509\u001b[0m \u001b[39mtry\u001b[39;00m:\n\u001b[1;32m    510\u001b[0m     \u001b[39mwhile\u001b[39;00m \u001b[39mTrue\u001b[39;00m:\n\u001b[0;32m--> 511\u001b[0m         answer \u001b[39m=\u001b[39m smart_decode(\u001b[39mself\u001b[39;49m\u001b[39m.\u001b[39;49mstream\u001b[39m.\u001b[39;49mreadline()[:\u001b[39m-\u001b[39m\u001b[39m1\u001b[39m])\n\u001b[1;32m    512\u001b[0m         logger\u001b[39m.\u001b[39mdebug(\u001b[39m\"\u001b[39m\u001b[39mAnswer received: \u001b[39m\u001b[39m{0}\u001b[39;00m\u001b[39m\"\u001b[39m\u001b[39m.\u001b[39mformat(answer))\n\u001b[1;32m    513\u001b[0m         \u001b[39m# Happens when a the other end is dead. There might be an empty\u001b[39;00m\n\u001b[1;32m    514\u001b[0m         \u001b[39m# answer before the socket raises an error.\u001b[39;00m\n",
      "File \u001b[0;32m/opt/anaconda3/envs/mast30034_env/lib/python3.9/socket.py:704\u001b[0m, in \u001b[0;36mSocketIO.readinto\u001b[0;34m(self, b)\u001b[0m\n\u001b[1;32m    702\u001b[0m \u001b[39mwhile\u001b[39;00m \u001b[39mTrue\u001b[39;00m:\n\u001b[1;32m    703\u001b[0m     \u001b[39mtry\u001b[39;00m:\n\u001b[0;32m--> 704\u001b[0m         \u001b[39mreturn\u001b[39;00m \u001b[39mself\u001b[39;49m\u001b[39m.\u001b[39;49m_sock\u001b[39m.\u001b[39;49mrecv_into(b)\n\u001b[1;32m    705\u001b[0m     \u001b[39mexcept\u001b[39;00m timeout:\n\u001b[1;32m    706\u001b[0m         \u001b[39mself\u001b[39m\u001b[39m.\u001b[39m_timeout_occurred \u001b[39m=\u001b[39m \u001b[39mTrue\u001b[39;00m\n",
      "\u001b[0;31mKeyboardInterrupt\u001b[0m: "
     ]
    }
   ],
   "source": [
    "# preprocess all the dataset from nov 2022 to may 2023\n",
    "for month in range(1, 6):\n",
    "    for colour in ['yellow', 'green']:\n",
    "        input_path = f'../data/landing/2023-{str(month).zfill(2)}-{colour}.parquet'\n",
    "\n",
    "        sdf = spark.read.parquet(input_path)\n",
    "        preprocess(sdf, month, 2023, colour)\n",
    "\n",
    "for month in [11,12]:\n",
    "    for colour in ['yellow', 'green']:\n",
    "        input_path = f'../data/landing/2022-{month}-{colour}.parquet'\n",
    "\n",
    "        sdf = spark.read.parquet(input_path)\n",
    "        preprocess(sdf, month, 2022, colour)\n",
    "    "
   ]
  },
  {
   "cell_type": "markdown",
   "metadata": {},
   "source": [
    "# Preprocess the weather dataset"
   ]
  },
  {
   "cell_type": "code",
   "execution_count": 12,
   "metadata": {},
   "outputs": [
    {
     "name": "stderr",
     "output_type": "stream",
     "text": [
      "                                                                                \r"
     ]
    },
    {
     "name": "stdout",
     "output_type": "stream",
     "text": [
      "root\n",
      " |-- STATION: string (nullable = true)\n",
      " |-- DATE: string (nullable = true)\n",
      " |-- SOURCE: string (nullable = true)\n",
      " |-- LATITUDE: string (nullable = true)\n",
      " |-- LONGITUDE: string (nullable = true)\n",
      " |-- ELEVATION: string (nullable = true)\n",
      " |-- NAME: string (nullable = true)\n",
      " |-- REPORT_TYPE: string (nullable = true)\n",
      " |-- CALL_SIGN: string (nullable = true)\n",
      " |-- QUALITY_CONTROL: string (nullable = true)\n",
      " |-- WND: string (nullable = true)\n",
      " |-- CIG: string (nullable = true)\n",
      " |-- VIS: string (nullable = true)\n",
      " |-- TMP: string (nullable = true)\n",
      " |-- DEW: string (nullable = true)\n",
      " |-- SLP: string (nullable = true)\n",
      " |-- AA1: string (nullable = true)\n",
      " |-- AA2: string (nullable = true)\n",
      " |-- AA3: string (nullable = true)\n",
      " |-- AB1: string (nullable = true)\n",
      " |-- AD1: string (nullable = true)\n",
      " |-- AE1: string (nullable = true)\n",
      " |-- AH1: string (nullable = true)\n",
      " |-- AH2: string (nullable = true)\n",
      " |-- AH3: string (nullable = true)\n",
      " |-- AH4: string (nullable = true)\n",
      " |-- AH5: string (nullable = true)\n",
      " |-- AH6: string (nullable = true)\n",
      " |-- AI1: string (nullable = true)\n",
      " |-- AI2: string (nullable = true)\n",
      " |-- AI3: string (nullable = true)\n",
      " |-- AI4: string (nullable = true)\n",
      " |-- AI5: string (nullable = true)\n",
      " |-- AI6: string (nullable = true)\n",
      " |-- AJ1: string (nullable = true)\n",
      " |-- AK1: string (nullable = true)\n",
      " |-- AL1: string (nullable = true)\n",
      " |-- AM1: string (nullable = true)\n",
      " |-- AN1: string (nullable = true)\n",
      " |-- AT1: string (nullable = true)\n",
      " |-- AT2: string (nullable = true)\n",
      " |-- AT3: string (nullable = true)\n",
      " |-- AT4: string (nullable = true)\n",
      " |-- AT5: string (nullable = true)\n",
      " |-- AT6: string (nullable = true)\n",
      " |-- AU1: string (nullable = true)\n",
      " |-- AU2: string (nullable = true)\n",
      " |-- AU3: string (nullable = true)\n",
      " |-- AU4: string (nullable = true)\n",
      " |-- AW1: string (nullable = true)\n",
      " |-- AW2: string (nullable = true)\n",
      " |-- AW3: string (nullable = true)\n",
      " |-- AW4: string (nullable = true)\n",
      " |-- AW5: string (nullable = true)\n",
      " |-- AX1: string (nullable = true)\n",
      " |-- AX2: string (nullable = true)\n",
      " |-- AX3: string (nullable = true)\n",
      " |-- AX4: string (nullable = true)\n",
      " |-- ED1: string (nullable = true)\n",
      " |-- GA1: string (nullable = true)\n",
      " |-- GA2: string (nullable = true)\n",
      " |-- GA3: string (nullable = true)\n",
      " |-- GD1: string (nullable = true)\n",
      " |-- GD2: string (nullable = true)\n",
      " |-- GD3: string (nullable = true)\n",
      " |-- GD4: string (nullable = true)\n",
      " |-- GE1: string (nullable = true)\n",
      " |-- GF1: string (nullable = true)\n",
      " |-- KA1: string (nullable = true)\n",
      " |-- KA2: string (nullable = true)\n",
      " |-- KB1: string (nullable = true)\n",
      " |-- KB2: string (nullable = true)\n",
      " |-- KB3: string (nullable = true)\n",
      " |-- KC1: string (nullable = true)\n",
      " |-- KC2: string (nullable = true)\n",
      " |-- KD1: string (nullable = true)\n",
      " |-- KD2: string (nullable = true)\n",
      " |-- KE1: string (nullable = true)\n",
      " |-- KG1: string (nullable = true)\n",
      " |-- KG2: string (nullable = true)\n",
      " |-- MA1: string (nullable = true)\n",
      " |-- MD1: string (nullable = true)\n",
      " |-- MF1: string (nullable = true)\n",
      " |-- MG1: string (nullable = true)\n",
      " |-- MH1: string (nullable = true)\n",
      " |-- MK1: string (nullable = true)\n",
      " |-- MV1: string (nullable = true)\n",
      " |-- MW1: string (nullable = true)\n",
      " |-- MW2: string (nullable = true)\n",
      " |-- MW3: string (nullable = true)\n",
      " |-- OC1: string (nullable = true)\n",
      " |-- OD1: string (nullable = true)\n",
      " |-- OE1: string (nullable = true)\n",
      " |-- OE2: string (nullable = true)\n",
      " |-- OE3: string (nullable = true)\n",
      " |-- RH1: string (nullable = true)\n",
      " |-- RH2: string (nullable = true)\n",
      " |-- RH3: string (nullable = true)\n",
      " |-- REM: string (nullable = true)\n",
      " |-- EQD: string (nullable = true)\n",
      "\n"
     ]
    }
   ],
   "source": [
    "wdf_22 = spark.read.csv(\"../data/landing/weather_data/weather-2022.csv\", header = True)\n",
    "wdf_22.printSchema()"
   ]
  },
  {
   "cell_type": "code",
   "execution_count": 13,
   "metadata": {},
   "outputs": [
    {
     "name": "stdout",
     "output_type": "stream",
     "text": [
      "root\n",
      " |-- STATION: string (nullable = true)\n",
      " |-- DATE: string (nullable = true)\n",
      " |-- SOURCE: string (nullable = true)\n",
      " |-- LATITUDE: string (nullable = true)\n",
      " |-- LONGITUDE: string (nullable = true)\n",
      " |-- ELEVATION: string (nullable = true)\n",
      " |-- NAME: string (nullable = true)\n",
      " |-- REPORT_TYPE: string (nullable = true)\n",
      " |-- CALL_SIGN: string (nullable = true)\n",
      " |-- QUALITY_CONTROL: string (nullable = true)\n",
      " |-- WND: string (nullable = true)\n",
      " |-- CIG: string (nullable = true)\n",
      " |-- VIS: string (nullable = true)\n",
      " |-- TMP: string (nullable = true)\n",
      " |-- DEW: string (nullable = true)\n",
      " |-- SLP: string (nullable = true)\n",
      " |-- AA1: string (nullable = true)\n",
      " |-- AA2: string (nullable = true)\n",
      " |-- AA3: string (nullable = true)\n",
      " |-- AB1: string (nullable = true)\n",
      " |-- AD1: string (nullable = true)\n",
      " |-- AE1: string (nullable = true)\n",
      " |-- AH1: string (nullable = true)\n",
      " |-- AH2: string (nullable = true)\n",
      " |-- AH3: string (nullable = true)\n",
      " |-- AH4: string (nullable = true)\n",
      " |-- AH5: string (nullable = true)\n",
      " |-- AH6: string (nullable = true)\n",
      " |-- AI1: string (nullable = true)\n",
      " |-- AI2: string (nullable = true)\n",
      " |-- AI3: string (nullable = true)\n",
      " |-- AI4: string (nullable = true)\n",
      " |-- AI5: string (nullable = true)\n",
      " |-- AI6: string (nullable = true)\n",
      " |-- AJ1: string (nullable = true)\n",
      " |-- AK1: string (nullable = true)\n",
      " |-- AL1: string (nullable = true)\n",
      " |-- AM1: string (nullable = true)\n",
      " |-- AN1: string (nullable = true)\n",
      " |-- AT1: string (nullable = true)\n",
      " |-- AT2: string (nullable = true)\n",
      " |-- AT3: string (nullable = true)\n",
      " |-- AT4: string (nullable = true)\n",
      " |-- AT5: string (nullable = true)\n",
      " |-- AT6: string (nullable = true)\n",
      " |-- AU1: string (nullable = true)\n",
      " |-- AU2: string (nullable = true)\n",
      " |-- AU3: string (nullable = true)\n",
      " |-- AW1: string (nullable = true)\n",
      " |-- AW2: string (nullable = true)\n",
      " |-- AW3: string (nullable = true)\n",
      " |-- AW4: string (nullable = true)\n",
      " |-- AX1: string (nullable = true)\n",
      " |-- AX2: string (nullable = true)\n",
      " |-- AX3: string (nullable = true)\n",
      " |-- AX4: string (nullable = true)\n",
      " |-- ED1: string (nullable = true)\n",
      " |-- GA1: string (nullable = true)\n",
      " |-- GA2: string (nullable = true)\n",
      " |-- GA3: string (nullable = true)\n",
      " |-- GD1: string (nullable = true)\n",
      " |-- GD2: string (nullable = true)\n",
      " |-- GD3: string (nullable = true)\n",
      " |-- GD4: string (nullable = true)\n",
      " |-- GE1: string (nullable = true)\n",
      " |-- GF1: string (nullable = true)\n",
      " |-- KA1: string (nullable = true)\n",
      " |-- KA2: string (nullable = true)\n",
      " |-- KB1: string (nullable = true)\n",
      " |-- KB2: string (nullable = true)\n",
      " |-- KB3: string (nullable = true)\n",
      " |-- KC1: string (nullable = true)\n",
      " |-- KC2: string (nullable = true)\n",
      " |-- KD1: string (nullable = true)\n",
      " |-- KD2: string (nullable = true)\n",
      " |-- KE1: string (nullable = true)\n",
      " |-- KG1: string (nullable = true)\n",
      " |-- KG2: string (nullable = true)\n",
      " |-- MA1: string (nullable = true)\n",
      " |-- MD1: string (nullable = true)\n",
      " |-- MF1: string (nullable = true)\n",
      " |-- MG1: string (nullable = true)\n",
      " |-- MH1: string (nullable = true)\n",
      " |-- MK1: string (nullable = true)\n",
      " |-- MV1: string (nullable = true)\n",
      " |-- MW1: string (nullable = true)\n",
      " |-- MW2: string (nullable = true)\n",
      " |-- MW3: string (nullable = true)\n",
      " |-- OC1: string (nullable = true)\n",
      " |-- OD1: string (nullable = true)\n",
      " |-- OE1: string (nullable = true)\n",
      " |-- OE2: string (nullable = true)\n",
      " |-- OE3: string (nullable = true)\n",
      " |-- RH1: string (nullable = true)\n",
      " |-- RH2: string (nullable = true)\n",
      " |-- RH3: string (nullable = true)\n",
      " |-- REM: string (nullable = true)\n",
      " |-- EQD: string (nullable = true)\n",
      "\n"
     ]
    }
   ],
   "source": [
    "wdf_23 = spark.read.csv(\"../data/landing/weather_data/weather-2023.csv\", header = True)\n",
    "wdf_23.printSchema()"
   ]
  },
  {
   "cell_type": "code",
   "execution_count": null,
   "metadata": {},
   "outputs": [
    {
     "name": "stderr",
     "output_type": "stream",
     "text": [
      "23/08/24 01:50:41 WARN package: Truncated the string representation of a plan since it was too large. This behavior can be adjusted by setting 'spark.sql.debug.maxToStringFields'.\n"
     ]
    },
    {
     "name": "stdout",
     "output_type": "stream",
     "text": [
      "+-----------+-------------------+------+--------+---------+---------+--------------------+-----------+---------+---------------+--------------+-----------+------------+-------+-------+-------+-----------+-----------+----+---------+--------------------+-------------------+-------------------+-------------------+-------------------+-------------------+-------------------+-------------------+-------------------+-------------------+-------------------+-------------------+-------------------+-------------------+-------------------+---------------+----+--------------------+------------+------------+------------+----+----+----+----+--------------+----+----+----+----+----+----+----+----+---------+----+----+----+----+------------------+------------------+------------------+-----------------+-----------------+-----------------+----+--------------------+--------------------+-------------+-------------+-------------+-------------+-------------+------------------+------------------+------------+------------+-------------------+---------------+---------------+---------------+----------------+---------------+---------------+---------------+--------------------+----+----+----+----+----+----+--------------------+--------------------+--------------------+-------------+-------------+-------------+--------------------+--------------------+\n",
      "|    STATION|               DATE|SOURCE|LATITUDE|LONGITUDE|ELEVATION|                NAME|REPORT_TYPE|CALL_SIGN|QUALITY_CONTROL|           WND|        CIG|         VIS|    TMP|    DEW|    SLP|        AA1|        AA2| AA3|      AB1|                 AD1|                AE1|                AH1|                AH2|                AH3|                AH4|                AH5|                AH6|                AI1|                AI2|                AI3|                AI4|                AI5|                AI6|                AJ1|            AK1| AL1|                 AM1|         AN1|         AT1|         AT2| AT3| AT4| AT5| AT6|           AU1| AU2| AU3| AU4| AW1| AW2| AW3| AW4| AW5|      AX1| AX2| AX3| AX4| ED1|               GA1|               GA2|               GA3|              GD1|              GD2|              GD3| GD4|                 GE1|                 GF1|          KA1|          KA2|          KB1|          KB2|          KB3|               KC1|               KC2|         KD1|         KD2|                KE1|            KG1|            KG2|            MA1|             MD1|            MF1|            MG1|            MH1|                 MK1| MV1| MW1| MW2| MW3| OC1| OD1|                 OE1|                 OE2|                 OE3|          RH1|          RH2|          RH3|                 REM|                 EQD|\n",
      "+-----------+-------------------+------+--------+---------+---------+--------------------+-----------+---------+---------------+--------------+-----------+------------+-------+-------+-------+-----------+-----------+----+---------+--------------------+-------------------+-------------------+-------------------+-------------------+-------------------+-------------------+-------------------+-------------------+-------------------+-------------------+-------------------+-------------------+-------------------+-------------------+---------------+----+--------------------+------------+------------+------------+----+----+----+----+--------------+----+----+----+----+----+----+----+----+---------+----+----+----+----+------------------+------------------+------------------+-----------------+-----------------+-----------------+----+--------------------+--------------------+-------------+-------------+-------------+-------------+-------------+------------------+------------------+------------+------------+-------------------+---------------+---------------+---------------+----------------+---------------+---------------+---------------+--------------------+----+----+----+----+----+----+--------------------+--------------------+--------------------+-------------+-------------+-------------+--------------------+--------------------+\n",
      "|72503014732|2022-01-01T00:00:00|     4|40.77945|-73.88027|      3.0|LAGUARDIA AIRPORT...|      FM-12|    99999|           V020|160,1,N,0046,1|99999,9,9,N|016000,1,9,9|+0106,1|+0078,1|10141,1|       null|       null|null|     null|                null|               null|               null|               null|               null|               null|               null|               null|               null|               null|               null|               null|               null|               null|               null|           null|null|                null|        null|        null|        null|null|null|null|null|          null|null|null|null|null|null|null|null|null|     null|null|null|null|null|99,9,+00450,1,99,9|              null|              null|             null|             null|             null|null|9,AGL   ,+99999,+...|08,99,1,99,9,99,9...|120,M,+0128,1|120,N,+0100,1|         null|         null|         null|              null|              null|        null|        null|               null|           null|           null|99999,9,10129,1|1,1,008,1,+999,9|           null|           null|           null|                null|null|null|null|null|null|null|                null|                null|                null|         null|         null|         null|SYN08072503 32466...|                null|\n",
      "|72503014732|2022-01-01T00:47:00|     7|40.77945|-73.88027|      3.0|LAGUARDIA AIRPORT...|      FM-16|    KLGA |           V030|180,5,N,0026,5|00427,5,M,N|016093,5,N,5|+0110,5|+0080,5|99999,9|       null|       null|null|     null|                null|               null|               null|               null|               null|               null|               null|               null|               null|               null|               null|               null|               null|               null|               null|           null|null|                null|        null|        null|        null|null|null|null|null|          null|null|null|null|null|null|null|null|null|     null|null|null|null|null|08,5,+00427,5,99,9|              null|              null|4,99,1,+00427,5,9|             null|             null|null|9,AGL   ,+99999,+...|99,99,9,99,9,99,9...|         null|         null|         null|         null|         null|              null|              null|        null|        null|               null|           null|           null|10146,5,10135,5|            null|           null|           null|           null|                null|null|null|null|null|null|null|                null|                null|                null|         null|         null|         null|MET08112/31/21 19...|                null|\n",
      "|72503014732|2022-01-01T00:51:00|     7|40.77945|-73.88027|      3.0|LAGUARDIA AIRPORT...|      FM-15|    KLGA |           V030|180,5,N,0031,5|00427,5,M,N|016093,5,N,5|+0106,5|+0078,5|10142,5|01,0000,9,5|       null|null|     null|                null|               null|               null|               null|               null|               null|               null|               null|               null|               null|               null|               null|               null|               null|               null|           null|null|                null|        null|        null|        null|null|null|null|null|          null|null|null|null|null|null|null|null|null|     null|null|null|null|null|08,5,+00427,5,99,9|              null|              null|4,99,1,+00427,5,9|             null|             null|null|9,AGL   ,+99999,+...|99,99,9,99,9,99,9...|         null|         null|         null|         null|         null|              null|              null|        null|        null|               null|           null|           null|10142,5,10131,5|            null|           null|           null|           null|                null|null|null|null|null|null|null|                null|                null|                null|         null|         null|         null|MET09812/31/21 19...|                null|\n",
      "|72503014732|2022-01-01T01:51:00|     7|40.77945|-73.88027|      3.0|LAGUARDIA AIRPORT...|      FM-15|    KLGA |           V030|170,5,N,0021,5|00366,5,M,N|014484,5,N,5|+0111,5|+0078,5|10136,5|01,0000,2,5|       null|null|     null|                null|               null|               null|               null|               null|               null|               null|               null|               null|               null|               null|               null|               null|               null|               null|           null|null|                null|        null|        null|        null|null|null|null|null|0,0,00,1,0,1,5|null|null|null|10,5|null|null|null|null|     null|null|null|null|null|07,5,+00366,5,99,9|08,5,+00579,5,99,9|              null|3,99,1,+00366,5,9|4,99,1,+00579,5,9|             null|null|9,AGL   ,+99999,+...|99,99,9,99,9,99,9...|         null|         null|         null|         null|         null|              null|              null|        null|        null|               null|           null|           null|10135,5,10125,5|            null|           null|           null|           null|                null|null|null|null|null|null|null|                null|                null|                null|         null|         null|         null|MET10712/31/21 20...|                null|\n",
      "|72503014732|2022-01-01T02:51:00|     7|40.77945|-73.88027|      3.0|LAGUARDIA AIRPORT...|      FM-15|    KLGA |           V030|140,5,N,0026,5|00701,5,M,N|014484,5,N,5|+0106,5|+0078,5|10135,5|01,0000,2,5|03,0000,2,1|null|     null|                null|               null|               null|               null|               null|               null|               null|               null|               null|               null|               null|               null|               null|               null|               null|           null|null|                null|        null|        null|        null|null|null|null|null|0,0,00,1,0,1,5|null|null|null|10,5|null|null|null|null|     null|null|null|null|null|08,5,+00701,5,99,9|              null|              null|4,99,1,+00701,5,9|             null|             null|null|9,AGL   ,+99999,+...|99,99,9,99,9,99,9...|         null|         null|         null|         null|         null|              null|              null|        null|        null|               null|           null|           null|10135,5,10125,5|6,9,010,9,+999,9|           null|           null|           null|                null|null|null|null|null|null|null|                null|                null|                null|         null|         null|         null|MET12912/31/21 21...|Q01  00002PRCP03Q...|\n",
      "|72503014732|2022-01-01T03:00:00|     4|40.77945|-73.88027|      3.0|LAGUARDIA AIRPORT...|      FM-12|    99999|           V020|140,1,N,0026,1|99999,9,9,N|014000,1,9,9|+0106,1|+0078,1|10135,1|03,0000,9,1|       null|null|     null|                null|               null|               null|               null|               null|               null|               null|               null|               null|               null|               null|               null|               null|               null|               null|           null|null|                null|        null|        null|        null|null|null|null|null|          null|null|null|null|null|null|null|null|null|     null|null|null|null|null|99,9,+00800,1,99,9|              null|              null|             null|             null|             null|null|9,AGL   ,+99999,+...|08,99,1,99,9,99,9...|         null|         null|         null|         null|         null|              null|              null|        null|        null|               null|           null|           null|99999,9,10122,1|6,1,010,1,+999,9|           null|           null|           null|                null|null|10,1|null|null|null|null|                null|                null|                null|         null|         null|         null|SYN07672503 11564...|    Q01  00002PRCP03|\n",
      "|72503014732|2022-01-01T03:51:00|     7|40.77945|-73.88027|      3.0|LAGUARDIA AIRPORT...|      FM-15|    KLGA |           V030|170,5,N,0031,5|00701,5,M,N|009656,5,N,5|+0106,5|+0078,5|10134,5|01,0000,9,5|       null|null|     null|                null|               null|               null|               null|               null|               null|               null|               null|               null|               null|               null|               null|               null|               null|               null|           null|null|                null|        null|        null|        null|null|null|null|null|0,0,00,1,0,1,5|null|null|null|10,5|null|null|null|null|     null|null|null|null|null|04,5,+00457,5,99,9|08,5,+00701,5,99,9|              null|2,99,1,+00457,5,9|4,99,1,+00701,5,9|             null|null|9,AGL   ,+99999,+...|99,99,9,99,9,99,9...|         null|         null|         null|         null|         null|              null|              null|        null|        null|               null|           null|           null|10135,5,10125,5|            null|           null|           null|           null|                null|null|null|null|null|null|null|                null|                null|                null|         null|         null|         null|MET10712/31/21 22...|                null|\n",
      "|72503014732|2022-01-01T04:40:00|     7|40.77945|-73.88027|      3.0|LAGUARDIA AIRPORT...|      FM-16|    KLGA |           V030|170,5,N,0031,5|00610,5,M,N|009656,5,N,5|+0106,5|+0083,5|99999,9|       null|       null|null|     null|                null|               null|               null|               null|               null|               null|               null|               null|               null|               null|               null|               null|               null|               null|               null|           null|null|                null|        null|        null|        null|null|null|null|null|0,0,00,1,0,1,5|null|null|null|10,5|null|null|null|null|     null|null|null|null|null|02,5,+00274,5,99,9|08,5,+00610,5,99,9|              null|1,99,1,+00274,5,9|4,99,1,+00610,5,9|             null|null|9,AGL   ,+99999,+...|99,99,9,99,9,99,9...|         null|         null|         null|         null|         null|              null|              null|        null|        null|               null|           null|           null|10129,5,10118,5|            null|           null|           null|           null|                null|null|null|null|null|null|null|                null|                null|                null|         null|         null|         null|MET10012/31/21 23...|                null|\n",
      "|72503014732|2022-01-01T04:51:00|     7|40.77945|-73.88027|      3.0|LAGUARDIA AIRPORT...|      FM-15|    KLGA |           V030|160,5,N,0036,5|00610,5,M,N|009656,5,N,5|+0106,5|+0083,5|10127,5|01,0000,9,5|       null|null|     null|                null|               null|               null|               null|               null|               null|               null|               null|               null|               null|               null|               null|               null|               null|               null|           null|null|                null|        null|        null|        null|null|null|null|null|0,0,00,1,0,1,5|null|null|null|10,5|null|null|null|null|     null|null|null|null|null|02,5,+00274,5,99,9|04,5,+00427,5,99,9|08,5,+00610,5,99,9|1,99,1,+00274,5,9|2,99,1,+00427,5,9|4,99,1,+00610,5,9|null|9,AGL   ,+99999,+...|99,99,9,99,9,99,9...|240,M,+0128,1|240,N,+0089,1|         null|         null|         null|              null|              null|        null|        null|               null|           null|           null|10129,5,10118,5|            null|           null|           null|           null|                null|null|null|null|null|null|null|                null|                null|                null|         null|         null|         null|MET12412/31/21 23...|                null|\n",
      "|72503014732|2022-01-01T04:59:00|     6|40.77945|-73.88027|      3.0|LAGUARDIA AIRPORT...|      SOD  |    KLGA |           V030|999,9,9,9999,9|99999,9,9,9|999999,9,9,9|+9999,9|+9999,9|99999,9|24,0000,2,5|       null|null|     null|                null|               null|               null|               null|               null|               null|               null|               null|               null|               null|               null|               null|               null|               null|0000,9,5,999999,9,9|           null|null|                null|024,0000,9,5|AU,14,DZ  ,5|AU,13,BR  ,5|null|null|null|null|          null|null|null|null|null|null|null|null|null|01,5,24,5|null|null|null|null|              null|              null|              null|             null|             null|             null|null|                null|                null|240,M,+0128,5|240,N,+0089,5|         null|         null|         null|              null|              null|        null|        null|               null|024,W,+0089,D,4|024,D,+0072,D,4|           null|            null|10125,4,10135,4|10124,4,10125,4|           null|                null|null|null|null|null|null|null|1,24,00715,210,99...|2,24,00581,200,99...|3,24,00286,999,99...|024,X,090,D,4|024,N,072,D,4|024,M,081,D,4|SOD78324 HR PRECI...|                null|\n",
      "|72503014732|2022-01-01T04:59:00|     6|40.77945|-73.88027|      3.0|LAGUARDIA AIRPORT...|      SOM  |    KLGA |           V030|999,9,9,9999,9|99999,9,9,9|999999,9,9,9|+9999,9|+9999,9|99999,9|       null|       null|null|00366,9,5|00112,9,0606,9999...|13,5,05,5,00,5,00,5|005,0020,9,060349,5|010,0025,9,060350,5|015,0025,9,060350,5|020,0025,9,060423,5|030,0043,9,060412,5|045,0051,9,060428,5|060,0053,9,060444,5|080,0061,9,060428,5|100,0064,9,060444,5|120,0064,9,060444,5|150,0069,9,060423,5|180,0079,9,060428,5|               null|0003,9,249999,I|null|0015,9,2424,9999,...|024,0015,9,I|        null|        null|null|null|null|null|          null|null|null|null|null|null|null|null|null|     null|null|null|null|null|              null|              null|              null|             null|             null|             null|null|                null|                null|         null|         null|744,N,+0439,5|744,M,+1006,5|744,A,+0722,A|N,9,-0027,209999,5|M,9,+0194,119999,5|744,H,0614,6|744,C,0000,5|00,U,00,U,04,U,00,U|           null|           null|           null|            null|           null|           null|10156,U,10169,U|10383,150851,U,09...|null|null|null|null|null|null|                null|                null|                null|         null|         null|         null|SOM792PCP MTOT:1....|R01  45.07KBM012R...|\n",
      "|72503014732|2022-01-01T05:26:00|     7|40.77945|-73.88027|      3.0|LAGUARDIA AIRPORT...|      FM-16|    KLGA |           V030|180,5,N,0031,5|00396,5,M,N|008047,5,N,5|+0106,5|+0083,5|99999,9|       null|       null|null|     null|                null|               null|               null|               null|               null|               null|               null|               null|               null|               null|               null|               null|               null|               null|               null|           null|null|                null|        null|        null|        null|null|null|null|null|0,0,00,1,0,1,5|null|null|null|10,5|null|null|null|null|     null|null|null|null|null|04,5,+00183,5,99,9|08,5,+00396,5,99,9|              null|2,99,1,+00183,5,9|4,99,1,+00396,5,9|             null|null|9,AGL   ,+99999,+...|99,99,9,99,9,99,9...|         null|         null|         null|         null|         null|              null|              null|        null|        null|               null|           null|           null|10129,5,10118,5|            null|           null|           null|           null|                null|null|null|null|null|null|null|                null|                null|                null|         null|         null|         null|MET10001/01/22 00...|                null|\n",
      "|72503014732|2022-01-01T05:35:00|     7|40.77945|-73.88027|      3.0|LAGUARDIA AIRPORT...|      FM-16|    KLGA |           V030|180,5,N,0031,5|00183,5,M,N|008047,5,N,5|+0106,5|+0083,5|99999,9|       null|       null|null|     null|                null|               null|               null|               null|               null|               null|               null|               null|               null|               null|               null|               null|               null|               null|               null|           null|null|                null|        null|        null|        null|null|null|null|null|0,0,00,1,0,1,5|null|null|null|10,5|null|null|null|null|     null|null|null|null|null|07,5,+00183,5,99,9|08,5,+00396,5,99,9|              null|3,99,1,+00183,5,9|4,99,1,+00396,5,9|             null|null|9,AGL   ,+99999,+...|99,99,9,99,9,99,9...|         null|         null|         null|         null|         null|              null|              null|        null|        null|               null|           null|           null|10132,5,10121,5|            null|           null|           null|           null|                null|null|null|null|null|null|null|                null|                null|                null|         null|         null|         null|MET10001/01/22 00...|                null|\n",
      "|72503014732|2022-01-01T05:51:00|     7|40.77945|-73.88027|      3.0|LAGUARDIA AIRPORT...|      FM-15|    KLGA |           V030|180,5,N,0031,5|00183,5,M,N|004828,5,N,5|+0106,5|+0083,5|10124,5|01,0000,9,5|06,0000,2,1|null|     null|                null|               null|               null|               null|               null|               null|               null|               null|               null|               null|               null|               null|               null|               null|               null|           null|null|                null|        null|        null|        null|null|null|null|null|0,0,00,1,0,1,5|null|null|null|10,5|null|null|null|null|     null|null|null|null|null|08,5,+00183,5,99,9|              null|              null|4,99,1,+00183,5,9|             null|             null|null|9,AGL   ,+99999,+...|99,99,9,99,9,99,9...|060,M,+0111,1|060,N,+0106,1|         null|         null|         null|              null|              null|        null|        null|               null|           null|           null|10125,5,10114,5|8,9,011,9,+999,9|           null|           null|           null|                null|null|null|null|null|null|null|                null|                null|                null|         null|         null|         null|MET13101/01/22 00...|                null|\n",
      "|72503014732|2022-01-01T06:00:00|     4|40.77945|-73.88027|      3.0|LAGUARDIA AIRPORT...|      FM-12|    99999|           V020|180,1,N,0031,1|99999,9,9,N|004800,1,9,9|+0106,1|+0083,1|10124,1|06,0000,9,1|       null|null|     null|                null|               null|               null|               null|               null|               null|               null|               null|               null|               null|               null|               null|               null|               null|               null|           null|null|                null|        null|        null|        null|null|null|null|null|          null|null|null|null|null|null|null|null|null|     null|null|null|null|null|99,9,+00150,1,99,9|              null|              null|             null|             null|             null|null|9,AGL   ,+99999,+...|08,99,1,99,9,99,9...|240,M,+0128,1|240,N,+0100,1|         null|         null|         null|              null|              null|        null|        null|               null|           null|           null|99999,9,10112,1|8,1,011,1,+999,9|           null|           null|           null|                null|null|10,1|null|null|null|null|                null|                null|                null|         null|         null|         null|SYN09272503 11248...|    Q01  00002PRCP06|\n",
      "|72503014732|2022-01-01T06:35:00|     7|40.77945|-73.88027|      3.0|LAGUARDIA AIRPORT...|      FM-16|    KLGA |           V030|190,5,N,0031,5|00244,5,M,N|008047,5,N,5|+0106,5|+0083,5|99999,9|       null|       null|null|     null|                null|               null|               null|               null|               null|               null|               null|               null|               null|               null|               null|               null|               null|               null|               null|           null|null|                null|        null|        null|        null|null|null|null|null|0,0,00,1,0,1,5|null|null|null|10,5|null|null|null|null|     null|null|null|null|null|07,5,+00244,5,99,9|08,5,+00396,5,99,9|              null|3,99,1,+00244,5,9|4,99,1,+00396,5,9|             null|null|9,AGL   ,+99999,+...|99,99,9,99,9,99,9...|         null|         null|         null|         null|         null|              null|              null|        null|        null|               null|           null|           null|10129,5,10118,5|            null|           null|           null|           null|                null|null|null|null|null|null|null|                null|                null|                null|         null|         null|         null|MET10001/01/22 01...|                null|\n",
      "|72503014732|2022-01-01T06:49:00|     6|40.77945|-73.88027|      3.0|LAGUARDIA AIRPORT...|      FM-16|    KLGA |           V030|999,9,C,0000,5|00549,5,M,N|008047,5,N,5|+0110,5|+0080,5|99999,9|       null|       null|null|     null|                null|               null|               null|               null|               null|               null|               null|               null|               null|               null|               null|               null|               null|               null|               null|           null|null|                null|        null|        null|        null|null|null|null|null|0,0,00,1,0,1,5|null|null|null|10,5|null|null|null|null|     null|null|null|null|null|04,5,+00274,5,99,9|08,5,+00549,5,99,9|              null|2,99,1,+00274,5,9|4,99,1,+00549,5,9|             null|null|                null|                null|         null|         null|         null|         null|         null|              null|              null|        null|        null|               null|           null|           null|10125,5,10114,5|            null|           null|           null|           null|                null|null|null|null|null|null|null|                null|                null|                null|         null|         null|         null|MET09501/01/22 01...|                null|\n",
      "|72503014732|2022-01-01T06:51:00|     7|40.77945|-73.88027|      3.0|LAGUARDIA AIRPORT...|      FM-15|    KLGA |           V030|999,9,C,0000,5|00274,5,M,N|008047,5,N,5|+0106,5|+0083,5|10125,5|01,0000,9,5|       null|null|     null|                null|               null|               null|               null|               null|               null|               null|               null|               null|               null|               null|               null|               null|               null|               null|           null|null|                null|        null|        null|        null|null|null|null|null|0,0,00,1,0,1,5|null|null|null|10,5|null|null|null|null|     null|null|null|null|null|07,5,+00274,5,99,9|08,5,+00549,5,99,9|              null|3,99,1,+00274,5,9|4,99,1,+00549,5,9|             null|null|9,AGL   ,+99999,+...|99,99,9,99,9,99,9...|         null|         null|         null|         null|         null|              null|              null|        null|        null|               null|           null|           null|10125,5,10114,5|            null|           null|           null|           null|                null|null|null|null|null|null|null|                null|                null|                null|         null|         null|         null|MET10701/01/22 01...|                null|\n",
      "|72503014732|2022-01-01T07:42:00|     7|40.77945|-73.88027|      3.0|LAGUARDIA AIRPORT...|      FM-16|    KLGA |           V030|140,5,N,0031,5|00823,5,M,N|011265,5,N,5|+0106,5|+0083,5|99999,9|       null|       null|null|     null|                null|               null|               null|               null|               null|               null|               null|               null|               null|               null|               null|               null|               null|               null|               null|           null|null|                null|        null|        null|        null|null|null|null|null|          null|null|null|null|null|null|null|null|null|     null|null|null|null|null|08,5,+00823,5,99,9|              null|              null|4,99,1,+00823,5,9|             null|             null|null|9,AGL   ,+99999,+...|99,99,9,99,9,99,9...|         null|         null|         null|         null|         null|              null|              null|        null|        null|               null|           null|           null|10129,5,10118,5|            null|           null|           null|           null|                null|null|null|null|null|null|null|                null|                null|                null|         null|         null|         null|MET09001/01/22 02...|                null|\n",
      "|72503014732|2022-01-01T07:51:00|     7|40.77945|-73.88027|      3.0|LAGUARDIA AIRPORT...|      FM-15|    KLGA |           V030|130,5,N,0026,5|00823,5,M,N|011265,5,N,5|+0106,5|+0083,5|10123,5|01,0000,9,5|       null|null|     null|                null|               null|               null|               null|               null|               null|               null|               null|               null|               null|               null|               null|               null|               null|               null|           null|null|                null|        null|        null|        null|null|null|null|null|          null|null|null|null|null|null|null|null|null|     null|null|null|null|null|08,5,+00823,5,99,9|              null|              null|4,99,1,+00823,5,9|             null|             null|null|9,AGL   ,+99999,+...|99,99,9,99,9,99,9...|         null|         null|         null|         null|         null|              null|              null|        null|        null|               null|           null|           null|10122,5,10111,5|            null|           null|           null|           null|                null|null|null|null|null|null|null|                null|                null|                null|         null|         null|         null|MET09701/01/22 02...|                null|\n",
      "+-----------+-------------------+------+--------+---------+---------+--------------------+-----------+---------+---------------+--------------+-----------+------------+-------+-------+-------+-----------+-----------+----+---------+--------------------+-------------------+-------------------+-------------------+-------------------+-------------------+-------------------+-------------------+-------------------+-------------------+-------------------+-------------------+-------------------+-------------------+-------------------+---------------+----+--------------------+------------+------------+------------+----+----+----+----+--------------+----+----+----+----+----+----+----+----+---------+----+----+----+----+------------------+------------------+------------------+-----------------+-----------------+-----------------+----+--------------------+--------------------+-------------+-------------+-------------+-------------+-------------+------------------+------------------+------------+------------+-------------------+---------------+---------------+---------------+----------------+---------------+---------------+---------------+--------------------+----+----+----+----+----+----+--------------------+--------------------+--------------------+-------------+-------------+-------------+--------------------+--------------------+\n",
      "only showing top 20 rows\n",
      "\n"
     ]
    }
   ],
   "source": [
    "wdf_22.show()"
   ]
  },
  {
   "cell_type": "code",
   "execution_count": null,
   "metadata": {},
   "outputs": [
    {
     "name": "stdout",
     "output_type": "stream",
     "text": [
      "+-----------+-------------------+------+--------+---------+---------+--------------------+-----------+---------+---------------+--------------+-----------+------------+-------+-------+-------+-----------+-----------+----+---------+--------------------+-------------------+-------------------+-------------------+-------------------+-------------------+-------------------+-------------------+-------------------+-------------------+-------------------+-------------------+-------------------+-------------------+-------------------+---------------+----+--------------------+------------+------------+------------+------------+----+----+----+--------------+--------------+----+----+----+----+----+---------+---------+---------+----+-----------+------------------+------------------+------------------+-----------------+-----------------+-----------------+----+--------------------+--------------------+-------------+-------------+-------------+-------------+-------------+------------------+------------------+------------+------------+-------------------+---------------+---------------+---------------+----------------+---------------+---------------+---------------+--------------------+----+----+----+----+----+----+--------------------+--------------------+--------------------+-------------+-------------+-------------+--------------------+--------------------+\n",
      "|    STATION|               DATE|SOURCE|LATITUDE|LONGITUDE|ELEVATION|                NAME|REPORT_TYPE|CALL_SIGN|QUALITY_CONTROL|           WND|        CIG|         VIS|    TMP|    DEW|    SLP|        AA1|        AA2| AA3|      AB1|                 AD1|                AE1|                AH1|                AH2|                AH3|                AH4|                AH5|                AH6|                AI1|                AI2|                AI3|                AI4|                AI5|                AI6|                AJ1|            AK1| AL1|                 AM1|         AN1|         AT1|         AT2|         AT3| AT4| AT5| AT6|           AU1|           AU2| AU3| AW1| AW2| AW3| AW4|      AX1|      AX2|      AX3| AX4|        ED1|               GA1|               GA2|               GA3|              GD1|              GD2|              GD3| GD4|                 GE1|                 GF1|          KA1|          KA2|          KB1|          KB2|          KB3|               KC1|               KC2|         KD1|         KD2|                KE1|            KG1|            KG2|            MA1|             MD1|            MF1|            MG1|            MH1|                 MK1| MV1| MW1| MW2| MW3| OC1| OD1|                 OE1|                 OE2|                 OE3|          RH1|          RH2|          RH3|                 REM|                 EQD|\n",
      "+-----------+-------------------+------+--------+---------+---------+--------------------+-----------+---------+---------------+--------------+-----------+------------+-------+-------+-------+-----------+-----------+----+---------+--------------------+-------------------+-------------------+-------------------+-------------------+-------------------+-------------------+-------------------+-------------------+-------------------+-------------------+-------------------+-------------------+-------------------+-------------------+---------------+----+--------------------+------------+------------+------------+------------+----+----+----+--------------+--------------+----+----+----+----+----+---------+---------+---------+----+-----------+------------------+------------------+------------------+-----------------+-----------------+-----------------+----+--------------------+--------------------+-------------+-------------+-------------+-------------+-------------+------------------+------------------+------------+------------+-------------------+---------------+---------------+---------------+----------------+---------------+---------------+---------------+--------------------+----+----+----+----+----+----+--------------------+--------------------+--------------------+-------------+-------------+-------------+--------------------+--------------------+\n",
      "|72503014732|2023-01-01T00:15:00|     7|40.77945|-73.88027|      3.0|LAGUARDIA AIRPORT...|      FM-16|    KLGA |           V030|999,9,C,0000,5|00091,5,W,N|000805,5,N,5|+0078,5|+0072,5|99999,9|01,0002,3,1|       null|null|     null|                null|               null|               null|               null|               null|               null|               null|               null|               null|               null|               null|               null|               null|               null|               null|           null|null|                null|        null|        null|        null|        null|null|null|null|1,0,02,0,0,1,5|0,0,00,2,0,1,5|null|30,5|61,5|null|null|     null|     null|     null|null|04,U,1372,9|09,5,+00091,5,99,9|              null|              null|5,99,1,+00091,5,9|             null|             null|null|9,AGL   ,+99999,+...|09,99,1,99,9,99,9...|         null|         null|         null|         null|         null|              null|              null|        null|        null|               null|           null|           null|10102,5,10091,5|            null|           null|           null|           null|                null|null|61,5|null|null|null|null|                null|                null|                null|         null|         null|         null|MET12112/31/22 19...|                null|\n",
      "|72503014732|2023-01-01T00:51:00|     7|40.77945|-73.88027|      3.0|LAGUARDIA AIRPORT...|      FM-15|    KLGA |           V030|070,5,N,0015,5|00091,5,W,N|000805,5,N,5|+0078,5|+0072,5|10098,5|01,0008,9,5|       null|null|     null|                null|               null|               null|               null|               null|               null|               null|               null|               null|               null|               null|               null|               null|               null|               null|           null|null|                null|        null|        null|        null|        null|null|null|null|1,0,02,0,0,1,5|0,0,00,2,0,1,5|null|30,5|61,5|null|null|     null|     null|     null|null|04,U,1829,9|09,5,+00091,5,99,9|              null|              null|5,99,1,+00091,5,9|             null|             null|null|9,AGL   ,+99999,+...|09,99,1,99,9,99,9...|         null|         null|         null|         null|         null|              null|              null|        null|        null|               null|           null|           null|10098,5,10087,5|            null|           null|           null|           null|                null|null|61,5|null|null|null|null|                null|                null|                null|         null|         null|         null|MET12312/31/22 19...|                null|\n",
      "|72503014732|2023-01-01T01:51:00|     7|40.77945|-73.88027|      3.0|LAGUARDIA AIRPORT...|      FM-15|    KLGA |           V030|999,9,C,0000,5|00091,5,W,N|000805,5,N,5|+0083,5|+0072,5|10086,5|01,0013,9,5|       null|null|     null|                null|               null|               null|               null|               null|               null|               null|               null|               null|               null|               null|               null|               null|               null|               null|           null|null|                null|        null|        null|        null|        null|null|null|null|1,0,02,0,0,1,5|0,0,00,2,0,1,5|null|30,5|61,5|null|null|     null|     null|     null|null|04,U,1829,9|09,5,+00091,5,99,9|              null|              null|5,99,1,+00091,5,9|             null|             null|null|9,AGL   ,+99999,+...|09,99,1,99,9,99,9...|         null|         null|         null|         null|         null|              null|              null|        null|        null|               null|           null|           null|10088,5,10077,5|            null|           null|           null|           null|                null|null|61,5|null|null|null|null|                null|                null|                null|         null|         null|         null|MET12312/31/22 20...|                null|\n",
      "|72503014732|2023-01-01T02:38:00|     7|40.77945|-73.88027|      3.0|LAGUARDIA AIRPORT...|      FM-16|    KLGA |           V030|999,9,C,0000,5|00122,5,M,N|003219,5,N,5|+0089,5|+0083,5|99999,9|01,0020,3,1|       null|null|     null|                null|               null|               null|               null|               null|               null|               null|               null|               null|               null|               null|               null|               null|               null|               null|           null|null|                null|        null|        null|        null|        null|null|null|null|1,0,02,0,0,1,5|0,0,00,1,0,1,5|null|10,5|61,5|null|null|     null|     null|     null|null|04,U,0213,9|08,5,+00122,5,99,9|              null|              null|4,99,1,+00122,5,9|             null|             null|null|9,AGL   ,+99999,+...|99,99,9,99,9,99,9...|         null|         null|         null|         null|         null|              null|              null|        null|        null|               null|           null|           null|10088,5,10077,5|            null|           null|           null|           null|                null|null|61,5|null|null|null|null|                null|                null|                null|         null|         null|         null|MET12012/31/22 21...|                null|\n",
      "|72503014732|2023-01-01T02:51:00|     7|40.77945|-73.88027|      3.0|LAGUARDIA AIRPORT...|      FM-15|    KLGA |           V030|999,9,C,0000,5|00122,5,M,N|003219,5,N,5|+0083,5|+0078,5|10086,5|01,0033,9,5|03,0046,9,1|null|     null|                null|               null|               null|               null|               null|               null|               null|               null|               null|               null|               null|               null|               null|               null|               null|           null|null|                null|        null|        null|        null|        null|null|null|null|1,0,02,0,0,1,5|0,0,00,1,0,1,5|null|10,5|61,5|null|null|     null|     null|     null|null|04,U,1372,9|08,5,+00122,5,99,9|              null|              null|4,99,1,+00122,5,9|             null|             null|null|9,AGL   ,+99999,+...|99,99,9,99,9,99,9...|         null|         null|         null|         null|         null|              null|              null|        null|        null|               null|           null|           null|10088,5,10077,5|6,9,017,9,+999,9|           null|           null|           null|                null|null|61,5|null|null|null|null|                null|                null|                null|         null|         null|         null|MET13912/31/22 21...|    Q01  00458PRCP03|\n",
      "|72503014732|2023-01-01T03:00:00|     4|40.77945|-73.88027|      3.0|LAGUARDIA AIRPORT...|      FM-12|    99999|           V020|999,9,C,0000,1|99999,9,9,N|003200,1,9,9|+0083,1|+0078,1|10086,1|03,0050,3,1|       null|null|     null|                null|               null|               null|               null|               null|               null|               null|               null|               null|               null|               null|               null|               null|               null|               null|           null|null|                null|        null|        null|        null|        null|null|null|null|          null|          null|null|null|null|null|null|     null|     null|     null|null|       null|99,9,+00150,1,99,9|              null|              null|             null|             null|             null|null|9,AGL   ,+99999,+...|08,99,1,99,9,99,9...|         null|         null|         null|         null|         null|              null|              null|        null|        null|               null|           null|           null|99999,9,10074,1|6,1,017,1,+999,9|           null|           null|           null|                null|null|61,1|null|null|null|null|                null|                null|                null|         null|         null|         null|SYN08672503 11232...|                null|\n",
      "|72503014732|2023-01-01T03:49:00|     6|40.77945|-73.88027|      3.0|LAGUARDIA AIRPORT...|      FM-16|    KLGA |           V030|230,5,N,0031,5|00122,5,M,N|012875,5,N,5|+0120,5|+0110,5|99999,9|       null|       null|null|     null|                null|               null|               null|               null|               null|               null|               null|               null|               null|               null|               null|               null|               null|               null|               null|           null|null|                null|        null|        null|        null|        null|null|null|null|1,0,02,0,0,1,5|          null|null|61,5|null|null|null|     null|     null|     null|null|       null|07,5,+00122,5,99,9|08,5,+00457,5,99,9|              null|3,99,1,+00122,5,9|4,99,1,+00457,5,9|             null|null|                null|                null|         null|         null|         null|         null|         null|              null|              null|        null|        null|               null|           null|           null|10075,5,10064,5|            null|           null|           null|           null|                null|null|61,5|null|null|null|null|                null|                null|                null|         null|         null|         null|MET10212/31/22 22...|                null|\n",
      "|72503014732|2023-01-01T03:51:00|     7|40.77945|-73.88027|      3.0|LAGUARDIA AIRPORT...|      FM-15|    KLGA |           V030|240,5,N,0031,5|00122,5,M,N|012875,5,N,5|+0122,5|+0111,5|10074,5|01,0008,9,5|       null|null|     null|                null|               null|               null|               null|               null|               null|               null|               null|               null|               null|               null|               null|               null|               null|               null|           null|null|                null|        null|        null|        null|        null|null|null|null|1,0,02,0,0,1,5|          null|null|61,5|null|null|null|     null|     null|     null|null|       null|07,5,+00122,5,99,9|08,5,+00457,5,99,9|              null|3,99,1,+00122,5,9|4,99,1,+00457,5,9|             null|null|9,AGL   ,+99999,+...|99,99,9,99,9,99,9...|         null|         null|         null|         null|         null|              null|              null|        null|        null|               null|           null|           null|10075,5,10064,5|            null|           null|           null|           null|                null|null|61,5|null|null|null|null|                null|                null|                null|         null|         null|         null|MET11412/31/22 22...|                null|\n",
      "|72503014732|2023-01-01T04:51:00|     7|40.77945|-73.88027|      3.0|LAGUARDIA AIRPORT...|      FM-15|    KLGA |           V030|190,5,N,0031,5|00122,5,M,N|016093,5,N,5|+0122,5|+0106,5|10073,5|01,0000,2,5|       null|null|     null|                null|               null|               null|               null|               null|               null|               null|               null|               null|               null|               null|               null|               null|               null|               null|           null|null|                null|        null|        null|        null|        null|null|null|null|1,0,02,0,0,1,5|          null|null|61,5|null|null|null|     null|     null|     null|null|       null|07,5,+00122,5,99,9|07,5,+01006,5,99,9|08,5,+02438,5,99,9|3,99,1,+00122,5,9|3,99,1,+01006,5,9|4,99,1,+02438,5,9|null|9,AGL   ,+99999,+...|99,99,9,99,9,99,9...|240,M,+0128,1|240,N,+0056,1|         null|         null|         null|              null|              null|        null|        null|               null|           null|           null|10075,5,10064,5|            null|           null|           null|           null|                null|null|61,5|null|null|null|null|                null|                null|                null|         null|         null|         null|MET13912/31/22 23...|                null|\n",
      "|72503014732|2023-01-01T04:59:00|     6|40.77945|-73.88027|      3.0|LAGUARDIA AIRPORT...|      SOD  |    KLGA |           V030|999,9,9,9999,9|99999,9,9,9|999999,9,9,9|+9999,9|+9999,9|99999,9|24,0079,9,5|       null|null|     null|                null|               null|               null|               null|               null|               null|               null|               null|               null|               null|               null|               null|               null|               null|0000,9,5,999999,9,9|           null|null|                null|024,0000,9,5|AU,16,RA  ,5|AU,01,FG  ,5|AU,13,BR  ,5|null|null|null|          null|          null|null|null|null|null|null|01,6,24,6|02,6,24,6|08,6,24,6|null|       null|              null|              null|              null|             null|             null|             null|null|                null|                null|240,M,+0128,5|240,N,+0056,5|         null|         null|         null|              null|              null|        null|        null|               null|024,W,+0072,D,4|024,D,+0067,D,4|           null|            null|10152,4,10149,4|10154,4,10068,4|           null|                null|null|null|null|null|null|null|1,24,00671,230,99...|2,24,00447,220,99...|3,24,00206,999,99...|024,X,097,D,4|024,N,077,D,4|024,M,089,D,4|SOD78224 HR PRECI...|R01   1287AXW090R...|\n",
      "|72503014732|2023-01-01T04:59:00|     6|40.77945|-73.88027|      3.0|LAGUARDIA AIRPORT...|      SOM  |    KLGA |           V030|999,9,9,9999,9|99999,9,9,9|999999,9,9,9|+9999,9|+9999,9|99999,9|       null|       null|null|01118,9,A|00290,9,0607,9999...|09,U,09,U,04,U,00,U|005,0056,9,230446,5|010,0079,9,230449,5|015,0097,9,230456,5|020,0122,9,230459,5|030,0135,9,230504,5|045,0157,9,230504,5|060,0175,9,230520,5|080,0190,9,230520,5|100,0198,9,230527,5|120,0201,9,230545,5|150,0201,9,230545,5|180,0211,9,230527,5|               null|0000,2,129999,I|null|0008,9,1212,9999,...|024,0010,9,I|        null|        null|        null|null|null|null|          null|          null|null|null|null|null|null|     null|     null|     null|null|       null|              null|              null|              null|             null|             null|             null|null|                null|                null|         null|         null|744,N,+0044,5|744,M,+0700,5|744,A,+0372,5|N,9,-0138,249999,5|M,9,+0155,300699,5|744,H,0808,5|744,C,0000,5|03,U,00,U,12,U,00,U|           null|           null|           null|            null|           null|           null|10193,U,10203,U|10345,021051,U,09...|null|null|null|null|null|null|                null|                null|                null|         null|         null|         null|SOM797PCP MTOT:4....|R01  4.407ABP070R...|\n",
      "|72503014732|2023-01-01T05:19:00|     7|40.77945|-73.88027|      3.0|LAGUARDIA AIRPORT...|      FM-16|    KLGA |           V030|280,5,N,0015,5|00518,5,M,N|016093,5,N,5|+0117,5|+0106,5|99999,9|01,0000,2,1|       null|null|     null|                null|               null|               null|               null|               null|               null|               null|               null|               null|               null|               null|               null|               null|               null|               null|           null|null|                null|        null|        null|        null|        null|null|null|null|1,0,02,0,0,1,5|          null|null|61,5|null|null|null|     null|     null|     null|null|       null|04,5,+00122,5,99,9|07,5,+00518,5,99,9|08,5,+02438,5,99,9|2,99,1,+00122,5,9|3,99,1,+00518,5,9|4,99,1,+02438,5,9|null|9,AGL   ,+99999,+...|99,99,9,99,9,99,9...|         null|         null|         null|         null|         null|              null|              null|        null|        null|               null|           null|           null|10061,5,10050,5|            null|           null|           null|           null|                null|null|61,5|null|null|null|null|                null|                null|                null|         null|         null|         null|MET11501/01/23 00...|                null|\n",
      "|72503014732|2023-01-01T05:51:00|     7|40.77945|-73.88027|      3.0|LAGUARDIA AIRPORT...|      FM-15|    KLGA |           V030|220,5,N,0031,5|00518,5,M,N|016093,5,N,5|+0117,5|+0100,5|10072,5|01,0003,9,5|06,0061,9,1|null|     null|                null|               null|               null|               null|               null|               null|               null|               null|               null|               null|               null|               null|               null|               null|               null|           null|null|                null|        null|        null|        null|        null|null|null|null|1,0,02,0,0,1,5|          null|null|61,5|null|null|null|     null|     null|     null|null|       null|04,5,+00122,5,99,9|07,5,+00518,5,99,9|08,5,+02438,5,99,9|2,99,1,+00122,5,9|3,99,1,+00518,5,9|4,99,1,+02438,5,9|null|9,AGL   ,+99999,+...|99,99,9,99,9,99,9...|060,M,+0128,1|060,N,+0078,1|         null|         null|         null|              null|              null|        null|        null|               null|           null|           null|10071,5,10060,5|6,9,015,9,+999,9|           null|           null|           null|                null|null|61,5|null|null|null|null|                null|                null|                null|         null|         null|         null|MET14601/01/23 00...|    Q01  00608PRCP06|\n",
      "|72503014732|2023-01-01T06:00:00|     4|40.77945|-73.88027|      3.0|LAGUARDIA AIRPORT...|      FM-12|    99999|           V020|220,1,N,0031,1|99999,9,9,N|016000,1,9,9|+0117,1|+0100,1|10072,1|06,0060,3,1|       null|null|     null|                null|               null|               null|               null|               null|               null|               null|               null|               null|               null|               null|               null|               null|               null|               null|           null|null|                null|        null|        null|        null|        null|null|null|null|          null|          null|null|null|null|null|null|     null|     null|     null|null|       null|99,9,+00150,1,99,9|              null|              null|             null|             null|             null|null|9,AGL   ,+99999,+...|08,99,1,99,9,99,9...|240,M,+0128,1|240,N,+0061,1|         null|         null|         null|              null|              null|        null|        null|               null|           null|           null|99999,9,10057,1|6,1,015,1,+999,9|           null|           null|           null|                null|null|61,1|null|null|null|null|                null|                null|                null|         null|         null|         null|SYN09272503 11266...|                null|\n",
      "|72503014732|2023-01-01T06:24:00|     7|40.77945|-73.88027|      3.0|LAGUARDIA AIRPORT...|      FM-16|    KLGA |           V030|999,9,V,0015,5|02438,5,M,N|016093,5,N,5|+0122,5|+0100,5|99999,9|01,0005,3,1|       null|null|     null|                null|               null|               null|               null|               null|               null|               null|               null|               null|               null|               null|               null|               null|               null|               null|           null|null|                null|        null|        null|        null|        null|null|null|null|1,0,02,0,0,1,5|          null|null|61,5|null|null|null|     null|     null|     null|null|       null|02,5,+00122,5,99,9|04,5,+00457,5,99,9|07,5,+02438,5,99,9|1,99,1,+00122,5,9|2,99,1,+00457,5,9|3,99,1,+02438,5,9|null|9,AGL   ,+99999,+...|99,99,9,99,9,99,9...|         null|         null|         null|         null|         null|              null|              null|        null|        null|               null|           null|           null|10064,5,10054,5|            null|           null|           null|           null|                null|null|61,5|null|null|null|null|                null|                null|                null|         null|         null|         null|MET11501/01/23 01...|                null|\n",
      "|72503014732|2023-01-01T06:51:00|     7|40.77945|-73.88027|      3.0|LAGUARDIA AIRPORT...|      FM-15|    KLGA |           V030|250,5,N,0051,5|02438,5,M,N|016093,5,N,5|+0122,5|+0100,5|10067,5|01,0003,9,5|       null|null|     null|                null|               null|               null|               null|               null|               null|               null|               null|               null|               null|               null|               null|               null|               null|               null|           null|null|                null|        null|        null|        null|        null|null|null|null|1,0,02,0,0,1,5|          null|null|61,5|null|null|null|     null|     null|     null|null|       null|04,5,+00457,5,99,9|07,5,+02438,5,99,9|              null|2,99,1,+00457,5,9|3,99,1,+02438,5,9|             null|null|9,AGL   ,+99999,+...|99,99,9,99,9,99,9...|         null|         null|         null|         null|         null|              null|              null|        null|        null|               null|           null|           null|10068,5,10057,5|            null|           null|           null|           null|                null|null|61,5|null|null|null|null|                null|                null|                null|         null|         null|         null|MET11501/01/23 01...|                null|\n",
      "|72503014732|2023-01-01T07:51:00|     7|40.77945|-73.88027|      3.0|LAGUARDIA AIRPORT...|      FM-15|    KLGA |           V030|260,5,N,0051,5|22000,5,9,N|016093,5,N,5|+0122,5|+0094,5|10077,5|01,0000,2,5|       null|null|     null|                null|               null|               null|               null|               null|               null|               null|               null|               null|               null|               null|               null|               null|               null|               null|           null|null|                null|        null|        null|        null|        null|null|null|null|1,0,02,0,0,1,5|          null|null|61,5|null|null|null|     null|     null|     null|null|       null|04,5,+00457,5,99,9|              null|              null|2,99,1,+00457,5,9|             null|             null|null|9,AGL   ,+99999,+...|04,99,5,99,9,99,9...|         null|         null|         null|         null|         null|              null|              null|        null|        null|               null|           null|           null|10078,5,10067,5|            null|           null|           null|           null|                null|null|61,5|null|null|null|null|                null|                null|                null|         null|         null|         null|MET10801/01/23 02...|    D01      0ADE726|\n",
      "|72503014732|2023-01-01T08:51:00|     7|40.77945|-73.88027|      3.0|LAGUARDIA AIRPORT...|      FM-15|    KLGA |           V030|270,5,N,0046,5|22000,5,9,N|016093,5,N,5|+0122,5|+0089,5|10080,5|01,0000,2,5|03,0005,9,1|null|     null|                null|               null|               null|               null|               null|               null|               null|               null|               null|               null|               null|               null|               null|               null|               null|           null|null|                null|        null|        null|        null|        null|null|null|null|1,0,02,0,0,1,5|          null|null|61,5|null|null|null|     null|     null|     null|null|       null|02,5,+00457,5,99,9|02,5,+07620,5,99,9|              null|1,99,1,+00457,5,9|1,99,1,+07620,5,9|             null|null|9,AGL   ,+99999,+...|02,99,5,99,9,99,9...|         null|         null|         null|         null|         null|              null|              null|        null|        null|               null|           null|           null|10081,5,10071,5|3,9,008,9,+999,9|           null|           null|           null|                null|null|61,5|null|null|null|null|                null|                null|                null|         null|         null|         null|MET12701/01/23 03...|Q01  00058PRCP03D...|\n",
      "|72503014732|2023-01-01T09:00:00|     4|40.77945|-73.88027|      3.0|LAGUARDIA AIRPORT...|      FM-12|    99999|           V020|270,1,N,0046,1|22000,1,9,N|016000,1,9,9|+0122,1|+0089,1|10080,1|03,0005,3,1|       null|null|     null|                null|               null|               null|               null|               null|               null|               null|               null|               null|               null|               null|               null|               null|               null|               null|           null|null|                null|        null|        null|        null|        null|null|null|null|          null|          null|null|null|null|null|null|     null|     null|     null|null|       null|99,9,+00450,1,99,9|              null|              null|             null|             null|             null|null|9,AGL   ,+99999,+...|02,99,1,99,9,99,9...|         null|         null|         null|         null|         null|              null|              null|        null|        null|               null|           null|           null|99999,9,10068,1|3,1,008,1,+999,9|           null|           null|           null|                null|null|61,1|null|null|null|null|                null|                null|                null|         null|         null|         null|SYN07672503 11466...|                null|\n",
      "|72503014732|2023-01-01T09:51:00|     7|40.77945|-73.88027|      3.0|LAGUARDIA AIRPORT...|      FM-15|    KLGA |           V030|250,5,N,0026,5|22000,5,9,N|016093,5,N,5|+0117,5|+0078,5|10084,5|01,0000,2,5|       null|null|     null|                null|               null|               null|               null|               null|               null|               null|               null|               null|               null|               null|               null|               null|               null|               null|           null|null|                null|        null|        null|        null|        null|null|null|null|1,0,02,0,0,1,5|          null|null|61,5|null|null|null|     null|     null|     null|null|       null|02,5,+00457,5,99,9|02,5,+07620,5,99,9|              null|1,99,1,+00457,5,9|1,99,1,+07620,5,9|             null|null|9,AGL   ,+99999,+...|02,99,5,99,9,99,9...|         null|         null|         null|         null|         null|              null|              null|        null|        null|               null|           null|           null|10085,5,10074,5|            null|           null|           null|           null|                null|null|61,5|null|null|null|null|                null|                null|                null|         null|         null|         null|MET11501/01/23 04...|    D01      0ADE726|\n",
      "+-----------+-------------------+------+--------+---------+---------+--------------------+-----------+---------+---------------+--------------+-----------+------------+-------+-------+-------+-----------+-----------+----+---------+--------------------+-------------------+-------------------+-------------------+-------------------+-------------------+-------------------+-------------------+-------------------+-------------------+-------------------+-------------------+-------------------+-------------------+-------------------+---------------+----+--------------------+------------+------------+------------+------------+----+----+----+--------------+--------------+----+----+----+----+----+---------+---------+---------+----+-----------+------------------+------------------+------------------+-----------------+-----------------+-----------------+----+--------------------+--------------------+-------------+-------------+-------------+-------------+-------------+------------------+------------------+------------+------------+-------------------+---------------+---------------+---------------+----------------+---------------+---------------+---------------+--------------------+----+----+----+----+----+----+--------------------+--------------------+--------------------+-------------+-------------+-------------+--------------------+--------------------+\n",
      "only showing top 20 rows\n",
      "\n"
     ]
    }
   ],
   "source": [
    "wdf_23.show()"
   ]
  },
  {
   "cell_type": "code",
   "execution_count": 14,
   "metadata": {},
   "outputs": [],
   "source": [
    "# create a directory to store the weather data\n",
    "import os\n",
    "output_dir = f\"../data/raw/weathers\"\n",
    "if not os.path.exists(output_dir):\n",
    "    os.makedirs(output_dir)"
   ]
  },
  {
   "cell_type": "code",
   "execution_count": 15,
   "metadata": {},
   "outputs": [],
   "source": [
    "# ensure everything has consistent casing\n",
    "const_col_casing = [F.col(col_name).alias(col_name.lower()) for col_name in wdf_22.columns]\n",
    "wdf_22 = wdf_22.select(*const_col_casing)\n",
    "const_col_casing = [F.col(col_name).alias(col_name.lower()) for col_name in wdf_23.columns]\n",
    "wdf_23 = wdf_23.select(*const_col_casing)"
   ]
  },
  {
   "cell_type": "code",
   "execution_count": 16,
   "metadata": {},
   "outputs": [
    {
     "name": "stdout",
     "output_type": "stream",
     "text": [
      "98\n"
     ]
    }
   ],
   "source": [
    "print(len(wdf_23.columns))"
   ]
  },
  {
   "cell_type": "code",
   "execution_count": 17,
   "metadata": {},
   "outputs": [
    {
     "name": "stdout",
     "output_type": "stream",
     "text": [
      "100\n"
     ]
    }
   ],
   "source": [
    "print(len(wdf_22.columns))"
   ]
  },
  {
   "cell_type": "code",
   "execution_count": null,
   "metadata": {},
   "outputs": [],
   "source": [
    "# retain the relevant features only and output it\n",
    "required_cols = (\"date\", \"wnd\", \"cig\", \"vis\", \"tmp\", \"dew\", \"slp\")\n",
    "wdf_22 = wdf_22.select(*required_cols)\n",
    "wdf_22.write.mode('overwrite').parquet('../data/raw/weathers/weather-2022')\n"
   ]
  },
  {
   "cell_type": "code",
   "execution_count": null,
   "metadata": {},
   "outputs": [],
   "source": [
    "# retain the relevant features only and output it\n",
    "wdf_23 = wdf_23.select(*required_cols)\n",
    "wdf_23.write.mode('overwrite').parquet('../data/raw/weathers/weather-2023')"
   ]
  }
 ],
 "metadata": {
  "kernelspec": {
   "display_name": "mast30034_env",
   "language": "python",
   "name": "python3"
  },
  "language_info": {
   "codemirror_mode": {
    "name": "ipython",
    "version": 3
   },
   "file_extension": ".py",
   "mimetype": "text/x-python",
   "name": "python",
   "nbconvert_exporter": "python",
   "pygments_lexer": "ipython3",
   "version": "3.9.17"
  },
  "orig_nbformat": 4
 },
 "nbformat": 4,
 "nbformat_minor": 2
}
